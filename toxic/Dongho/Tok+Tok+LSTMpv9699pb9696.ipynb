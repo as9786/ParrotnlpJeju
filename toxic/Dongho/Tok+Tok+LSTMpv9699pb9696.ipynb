{
  "nbformat": 4,
  "nbformat_minor": 0,
  "metadata": {
    "colab": {
      "name": "toxic1.ipynb",
      "provenance": [],
      "collapsed_sections": [],
      "mount_file_id": "1q71JpXwdCtw1inwnzXiYDiZd__VnKxW0",
      "authorship_tag": "ABX9TyNHXhSZNju7/8CvAZSYMTZX",
      "include_colab_link": true
    },
    "kernelspec": {
      "name": "python3",
      "display_name": "Python 3"
    },
    "language_info": {
      "name": "python"
    },
    "accelerator": "GPU"
  },
  "cells": [
    {
      "cell_type": "markdown",
      "metadata": {
        "id": "view-in-github",
        "colab_type": "text"
      },
      "source": [
        "<a href=\"https://colab.research.google.com/github/as9786/ParrotnlpJeju/blob/main/toxic1.ipynb\" target=\"_parent\"><img src=\"https://colab.research.google.com/assets/colab-badge.svg\" alt=\"Open In Colab\"/></a>"
      ]
    },
    {
      "cell_type": "markdown",
      "metadata": {
        "id": "Oxs-wijYvQSW"
      },
      "source": [
        "## 21/03/28\n",
        "\n",
        "1. 3/31 : 데이터전처리(토큰화,불용어 제거,Word2vec,glove, 정규표현식, pandas profiling 등) \n",
        "  "
      ]
    },
    {
      "cell_type": "markdown",
      "metadata": {
        "id": "l05qZpiXF63W"
      },
      "source": [
        "# 모듈 가져오기\n"
      ]
    },
    {
      "cell_type": "code",
      "metadata": {
        "id": "fOmYjcJytKn5"
      },
      "source": [
        "import numpy as np\n",
        "import pandas as pd\n",
        "import matplotlib.pyplot as plt\n",
        "import seaborn as sns\n",
        "\n",
        "from keras.models import Model\n",
        "from keras.layers import Dense, Embedding, Input, LSTM, Bidirectional, GlobalMaxPool1D, Dropout, Flatten\n",
        "#Bidirectional은 양방향으로 데이터를 보기 위해서 사용되는 함수\n",
        "from keras.preprocessing.text import Tokenizer\n",
        "from keras.preprocessing import sequence\n",
        "from keras.callbacks import EarlyStopping, ModelCheckpoint\n",
        "from tensorflow.keras.models import load_model\n",
        "\n",
        "#from keras_contrib.layers import CRF\n",
        "#from keras_contrib.losses import crf_loss\n",
        "#from keras_contrib.metrics import crf_viterbi_accuracy"
      ],
      "execution_count": null,
      "outputs": []
    },
    {
      "cell_type": "markdown",
      "metadata": {
        "id": "sA2PrqIlGIz3"
      },
      "source": [
        "# 데이터 불러오기"
      ]
    },
    {
      "cell_type": "code",
      "metadata": {
        "id": "i6V6P-VAtQmL"
      },
      "source": [
        "train = pd.read_csv('/content/drive/MyDrive/train.csv')\n",
        "test = pd.read_csv('/content/drive/MyDrive/test.csv')\n",
        "sub = pd.read_csv('/content/drive/MyDrive/sub1.csv')"
      ],
      "execution_count": null,
      "outputs": []
    },
    {
      "cell_type": "code",
      "metadata": {
        "colab": {
          "base_uri": "https://localhost:8080/"
        },
        "id": "0-XInc2ztj37",
        "outputId": "b8723a1e-30c6-4169-c497-e837bb584b34"
      },
      "source": [
        "train.columns"
      ],
      "execution_count": null,
      "outputs": [
        {
          "output_type": "execute_result",
          "data": {
            "text/plain": [
              "Index(['id', 'comment_text', 'toxic', 'severe_toxic', 'obscene', 'threat',\n",
              "       'insult', 'identity_hate'],\n",
              "      dtype='object')"
            ]
          },
          "metadata": {
            "tags": []
          },
          "execution_count": 9
        }
      ]
    },
    {
      "cell_type": "code",
      "metadata": {
        "colab": {
          "base_uri": "https://localhost:8080/",
          "height": 419
        },
        "id": "DbfvfA1Atp1F",
        "outputId": "a84cd19b-773b-454f-d479-3d108948f23c"
      },
      "source": [
        "train.tail(100)"
      ],
      "execution_count": null,
      "outputs": [
        {
          "output_type": "execute_result",
          "data": {
            "text/html": [
              "<div>\n",
              "<style scoped>\n",
              "    .dataframe tbody tr th:only-of-type {\n",
              "        vertical-align: middle;\n",
              "    }\n",
              "\n",
              "    .dataframe tbody tr th {\n",
              "        vertical-align: top;\n",
              "    }\n",
              "\n",
              "    .dataframe thead th {\n",
              "        text-align: right;\n",
              "    }\n",
              "</style>\n",
              "<table border=\"1\" class=\"dataframe\">\n",
              "  <thead>\n",
              "    <tr style=\"text-align: right;\">\n",
              "      <th></th>\n",
              "      <th>id</th>\n",
              "      <th>comment_text</th>\n",
              "      <th>toxic</th>\n",
              "      <th>severe_toxic</th>\n",
              "      <th>obscene</th>\n",
              "      <th>threat</th>\n",
              "      <th>insult</th>\n",
              "      <th>identity_hate</th>\n",
              "    </tr>\n",
              "  </thead>\n",
              "  <tbody>\n",
              "    <tr>\n",
              "      <th>159471</th>\n",
              "      <td>fe5b78a6d22198c4</td>\n",
              "      <td>If some people are anti-catholic then their ju...</td>\n",
              "      <td>0</td>\n",
              "      <td>0</td>\n",
              "      <td>0</td>\n",
              "      <td>0</td>\n",
              "      <td>0</td>\n",
              "      <td>0</td>\n",
              "    </tr>\n",
              "    <tr>\n",
              "      <th>159472</th>\n",
              "      <td>fe6585aaa6182d28</td>\n",
              "      <td>You ignored him too</td>\n",
              "      <td>0</td>\n",
              "      <td>0</td>\n",
              "      <td>0</td>\n",
              "      <td>0</td>\n",
              "      <td>0</td>\n",
              "      <td>0</td>\n",
              "    </tr>\n",
              "    <tr>\n",
              "      <th>159473</th>\n",
              "      <td>fe77e59403ac395e</td>\n",
              "      <td>, as User:Dr.K wasn't saying it in the article</td>\n",
              "      <td>0</td>\n",
              "      <td>0</td>\n",
              "      <td>0</td>\n",
              "      <td>0</td>\n",
              "      <td>0</td>\n",
              "      <td>0</td>\n",
              "    </tr>\n",
              "    <tr>\n",
              "      <th>159474</th>\n",
              "      <td>fe7b1f2bd3756b0b</td>\n",
              "      <td>LaserActive \\n\\nHi SchuminWeb, I am confused b...</td>\n",
              "      <td>0</td>\n",
              "      <td>0</td>\n",
              "      <td>0</td>\n",
              "      <td>0</td>\n",
              "      <td>0</td>\n",
              "      <td>0</td>\n",
              "    </tr>\n",
              "    <tr>\n",
              "      <th>159475</th>\n",
              "      <td>fe93b5e609f5cfdd</td>\n",
              "      <td>Lists of Islamic Jihads</td>\n",
              "      <td>0</td>\n",
              "      <td>0</td>\n",
              "      <td>0</td>\n",
              "      <td>0</td>\n",
              "      <td>0</td>\n",
              "      <td>0</td>\n",
              "    </tr>\n",
              "    <tr>\n",
              "      <th>...</th>\n",
              "      <td>...</td>\n",
              "      <td>...</td>\n",
              "      <td>...</td>\n",
              "      <td>...</td>\n",
              "      <td>...</td>\n",
              "      <td>...</td>\n",
              "      <td>...</td>\n",
              "      <td>...</td>\n",
              "    </tr>\n",
              "    <tr>\n",
              "      <th>159566</th>\n",
              "      <td>ffe987279560d7ff</td>\n",
              "      <td>\":::::And for the second time of asking, when ...</td>\n",
              "      <td>0</td>\n",
              "      <td>0</td>\n",
              "      <td>0</td>\n",
              "      <td>0</td>\n",
              "      <td>0</td>\n",
              "      <td>0</td>\n",
              "    </tr>\n",
              "    <tr>\n",
              "      <th>159567</th>\n",
              "      <td>ffea4adeee384e90</td>\n",
              "      <td>You should be ashamed of yourself \\n\\nThat is ...</td>\n",
              "      <td>0</td>\n",
              "      <td>0</td>\n",
              "      <td>0</td>\n",
              "      <td>0</td>\n",
              "      <td>0</td>\n",
              "      <td>0</td>\n",
              "    </tr>\n",
              "    <tr>\n",
              "      <th>159568</th>\n",
              "      <td>ffee36eab5c267c9</td>\n",
              "      <td>Spitzer \\n\\nUmm, theres no actual article for ...</td>\n",
              "      <td>0</td>\n",
              "      <td>0</td>\n",
              "      <td>0</td>\n",
              "      <td>0</td>\n",
              "      <td>0</td>\n",
              "      <td>0</td>\n",
              "    </tr>\n",
              "    <tr>\n",
              "      <th>159569</th>\n",
              "      <td>fff125370e4aaaf3</td>\n",
              "      <td>And it looks like it was actually you who put ...</td>\n",
              "      <td>0</td>\n",
              "      <td>0</td>\n",
              "      <td>0</td>\n",
              "      <td>0</td>\n",
              "      <td>0</td>\n",
              "      <td>0</td>\n",
              "    </tr>\n",
              "    <tr>\n",
              "      <th>159570</th>\n",
              "      <td>fff46fc426af1f9a</td>\n",
              "      <td>\"\\nAnd ... I really don't think you understand...</td>\n",
              "      <td>0</td>\n",
              "      <td>0</td>\n",
              "      <td>0</td>\n",
              "      <td>0</td>\n",
              "      <td>0</td>\n",
              "      <td>0</td>\n",
              "    </tr>\n",
              "  </tbody>\n",
              "</table>\n",
              "<p>100 rows × 8 columns</p>\n",
              "</div>"
            ],
            "text/plain": [
              "                      id  ... identity_hate\n",
              "159471  fe5b78a6d22198c4  ...             0\n",
              "159472  fe6585aaa6182d28  ...             0\n",
              "159473  fe77e59403ac395e  ...             0\n",
              "159474  fe7b1f2bd3756b0b  ...             0\n",
              "159475  fe93b5e609f5cfdd  ...             0\n",
              "...                  ...  ...           ...\n",
              "159566  ffe987279560d7ff  ...             0\n",
              "159567  ffea4adeee384e90  ...             0\n",
              "159568  ffee36eab5c267c9  ...             0\n",
              "159569  fff125370e4aaaf3  ...             0\n",
              "159570  fff46fc426af1f9a  ...             0\n",
              "\n",
              "[100 rows x 8 columns]"
            ]
          },
          "metadata": {
            "tags": []
          },
          "execution_count": 5
        }
      ]
    },
    {
      "cell_type": "code",
      "metadata": {
        "colab": {
          "base_uri": "https://localhost:8080/",
          "height": 202
        },
        "id": "AHUaxSkUJEQ2",
        "outputId": "01f20ae4-bf00-49bd-b5d1-d29c940dab93"
      },
      "source": [
        "test.head()"
      ],
      "execution_count": null,
      "outputs": [
        {
          "output_type": "execute_result",
          "data": {
            "text/html": [
              "<div>\n",
              "<style scoped>\n",
              "    .dataframe tbody tr th:only-of-type {\n",
              "        vertical-align: middle;\n",
              "    }\n",
              "\n",
              "    .dataframe tbody tr th {\n",
              "        vertical-align: top;\n",
              "    }\n",
              "\n",
              "    .dataframe thead th {\n",
              "        text-align: right;\n",
              "    }\n",
              "</style>\n",
              "<table border=\"1\" class=\"dataframe\">\n",
              "  <thead>\n",
              "    <tr style=\"text-align: right;\">\n",
              "      <th></th>\n",
              "      <th>id</th>\n",
              "      <th>comment_text</th>\n",
              "    </tr>\n",
              "  </thead>\n",
              "  <tbody>\n",
              "    <tr>\n",
              "      <th>0</th>\n",
              "      <td>00001cee341fdb12</td>\n",
              "      <td>Yo bitch Ja Rule is more succesful then you'll...</td>\n",
              "    </tr>\n",
              "    <tr>\n",
              "      <th>1</th>\n",
              "      <td>0000247867823ef7</td>\n",
              "      <td>== From RfC == \\n\\n The title is fine as it is...</td>\n",
              "    </tr>\n",
              "    <tr>\n",
              "      <th>2</th>\n",
              "      <td>00013b17ad220c46</td>\n",
              "      <td>\" \\n\\n == Sources == \\n\\n * Zawe Ashton on Lap...</td>\n",
              "    </tr>\n",
              "    <tr>\n",
              "      <th>3</th>\n",
              "      <td>00017563c3f7919a</td>\n",
              "      <td>:If you have a look back at the source, the in...</td>\n",
              "    </tr>\n",
              "    <tr>\n",
              "      <th>4</th>\n",
              "      <td>00017695ad8997eb</td>\n",
              "      <td>I don't anonymously edit articles at all.</td>\n",
              "    </tr>\n",
              "  </tbody>\n",
              "</table>\n",
              "</div>"
            ],
            "text/plain": [
              "                 id                                       comment_text\n",
              "0  00001cee341fdb12  Yo bitch Ja Rule is more succesful then you'll...\n",
              "1  0000247867823ef7  == From RfC == \\n\\n The title is fine as it is...\n",
              "2  00013b17ad220c46  \" \\n\\n == Sources == \\n\\n * Zawe Ashton on Lap...\n",
              "3  00017563c3f7919a  :If you have a look back at the source, the in...\n",
              "4  00017695ad8997eb          I don't anonymously edit articles at all."
            ]
          },
          "metadata": {
            "tags": []
          },
          "execution_count": 6
        }
      ]
    },
    {
      "cell_type": "code",
      "metadata": {
        "colab": {
          "base_uri": "https://localhost:8080/",
          "height": 73
        },
        "id": "q9Zw1ReZt4KR",
        "outputId": "1f7390af-b221-4673-bf80-911fbe202c5f"
      },
      "source": [
        "train.loc[0,'comment_text']"
      ],
      "execution_count": null,
      "outputs": [
        {
          "output_type": "execute_result",
          "data": {
            "application/vnd.google.colaboratory.intrinsic+json": {
              "type": "string"
            },
            "text/plain": [
              "\"Explanation\\nWhy the edits made under my username Hardcore Metallica Fan were reverted? They weren't vandalisms, just closure on some GAs after I voted at New York Dolls FAC. And please don't remove the template from the talk page since I'm retired now.89.205.38.27\""
            ]
          },
          "metadata": {
            "tags": []
          },
          "execution_count": 7
        }
      ]
    },
    {
      "cell_type": "code",
      "metadata": {
        "colab": {
          "base_uri": "https://localhost:8080/"
        },
        "id": "4GUkZ642uCQz",
        "outputId": "2149335b-143d-44a3-8c56-49d5db4343ba"
      },
      "source": [
        "train.shape"
      ],
      "execution_count": null,
      "outputs": [
        {
          "output_type": "execute_result",
          "data": {
            "text/plain": [
              "(159571, 8)"
            ]
          },
          "metadata": {
            "tags": []
          },
          "execution_count": 8
        }
      ]
    },
    {
      "cell_type": "code",
      "metadata": {
        "id": "kyDexPqrvyQX",
        "colab": {
          "base_uri": "https://localhost:8080/"
        },
        "outputId": "553cef57-e29e-405e-9041-048709d6fab0"
      },
      "source": [
        "#데이터 체크\n",
        "train_length = train.comment_text.apply(len)\n",
        "train_length.head()"
      ],
      "execution_count": null,
      "outputs": [
        {
          "output_type": "execute_result",
          "data": {
            "text/plain": [
              "0    264\n",
              "1    112\n",
              "2    233\n",
              "3    622\n",
              "4     67\n",
              "Name: comment_text, dtype: int64"
            ]
          },
          "metadata": {
            "tags": []
          },
          "execution_count": 10
        }
      ]
    },
    {
      "cell_type": "code",
      "metadata": {
        "colab": {
          "base_uri": "https://localhost:8080/",
          "height": 265
        },
        "id": "32NeTXl1Gu-G",
        "outputId": "cb4853a7-da76-4cc3-b877-887c17665bc6"
      },
      "source": [
        "#그래프\n",
        "plt.hist(train_length,bins=100)\n",
        "plt.show()"
      ],
      "execution_count": null,
      "outputs": [
        {
          "output_type": "display_data",
          "data": {
            "image/png": "[encoded data removed]",
            "text/plain": [
              "<Figure size 432x288 with 1 Axes>"
            ]
          },
          "metadata": {
            "tags": [],
            "needs_background": "light"
          }
        }
      ]
    },
    {
      "cell_type": "markdown",
      "metadata": {
        "id": "fePmUIW8HEB6"
      },
      "source": [
        "Zipf의 법칙이 적용 되는 것을 확인할 수 있음.\n",
        "\n",
        "Zipf의 법칙 : 텍스트에 불규칙하게 분포되어 보이는 어휘(타입)들을 빈도 내림차순으로 나열할 때 분포적 규칙성 제시"
      ]
    },
    {
      "cell_type": "markdown",
      "metadata": {
        "id": "BQOIwPIfHbIG"
      },
      "source": [
        "# EDA"
      ]
    },
    {
      "cell_type": "code",
      "metadata": {
        "colab": {
          "base_uri": "https://localhost:8080/"
        },
        "id": "gQcLU0f3G7P9",
        "outputId": "851a3ac9-4f06-4ce7-8be7-a252987daf5f"
      },
      "source": [
        "print(\"length max : \",np.max(train_length))\n",
        "print(\"length min : \", np.min(train_length))\n",
        "print(\"mean length : \",np.mean(train_length))\n",
        "print(\"Q1 : \",np.percentile(train_length,75))\n",
        "print(\"std length : \",np.std(train_length))"
      ],
      "execution_count": null,
      "outputs": [
        {
          "output_type": "stream",
          "text": [
            "length max :  5000\n",
            "length min :  6\n",
            "mean length :  394.0732213246768\n",
            "Q1 :  435.0\n",
            "std length :  590.7184309382149\n"
          ],
          "name": "stdout"
        }
      ]
    },
    {
      "cell_type": "code",
      "metadata": {
        "colab": {
          "base_uri": "https://localhost:8080/"
        },
        "id": "7po-PzmsIDzC",
        "outputId": "f6210b27-4adc-48da-ec46-20acb08b6153"
      },
      "source": [
        "#결측값 체크\n",
        "print(\"Train NaN : \",train.comment_text.isna().sum())\n",
        "print(\"Test NaN : \",test.comment_text.isna().sum())"
      ],
      "execution_count": null,
      "outputs": [
        {
          "output_type": "stream",
          "text": [
            "Train NaN :  0\n",
            "Test NaN :  0\n"
          ],
          "name": "stdout"
        }
      ]
    },
    {
      "cell_type": "code",
      "metadata": {
        "id": "XuDS_5O-IaHS"
      },
      "source": [
        "#데이터 나누기(X 값에는 feature y 값에는 label 넣어주기)\n",
        "X = train.comment_text\n",
        "y = train[['toxic','severe_toxic','obscene','threat','insult','identity_hate']].values\n",
        "test = test.comment_text"
      ],
      "execution_count": null,
      "outputs": []
    },
    {
      "cell_type": "code",
      "metadata": {
        "colab": {
          "base_uri": "https://localhost:8080/"
        },
        "id": "t3M2R1LWLPa2",
        "outputId": "2da70143-241e-4b9f-a72b-607a741de242"
      },
      "source": [
        "X[:5]"
      ],
      "execution_count": null,
      "outputs": [
        {
          "output_type": "execute_result",
          "data": {
            "text/plain": [
              "0    Explanation\\nWhy the edits made under my usern...\n",
              "1    D'aww! He matches this background colour I'm s...\n",
              "2    Hey man, I'm really not trying to edit war. It...\n",
              "3    \"\\nMore\\nI can't make any real suggestions on ...\n",
              "4    You, sir, are my hero. Any chance you remember...\n",
              "Name: comment_text, dtype: object"
            ]
          },
          "metadata": {
            "tags": []
          },
          "execution_count": 14
        }
      ]
    },
    {
      "cell_type": "code",
      "metadata": {
        "id": "FdEbT13KI7NZ",
        "colab": {
          "base_uri": "https://localhost:8080/"
        },
        "outputId": "55e5897c-f972-464d-eb6a-ce9b81c7498e"
      },
      "source": [
        "y"
      ],
      "execution_count": null,
      "outputs": [
        {
          "output_type": "execute_result",
          "data": {
            "text/plain": [
              "array([[0, 0, 0, 0, 0, 0],\n",
              "       [0, 0, 0, 0, 0, 0],\n",
              "       [0, 0, 0, 0, 0, 0],\n",
              "       ...,\n",
              "       [0, 0, 0, 0, 0, 0],\n",
              "       [0, 0, 0, 0, 0, 0],\n",
              "       [0, 0, 0, 0, 0, 0]])"
            ]
          },
          "metadata": {
            "tags": []
          },
          "execution_count": 12
        }
      ]
    },
    {
      "cell_type": "markdown",
      "metadata": {
        "id": "a4u7Xsg0Jn50"
      },
      "source": [
        "# Tokenizer"
      ]
    },
    {
      "cell_type": "code",
      "metadata": {
        "id": "nJXC9uQEMmj4"
      },
      "source": [
        ""
      ],
      "execution_count": null,
      "outputs": []
    },
    {
      "cell_type": "code",
      "metadata": {
        "id": "B7OfH820JgQD"
      },
      "source": [
        "num_words = 20000\n",
        "max_len = 150\n",
        "emb_size = 128"
      ],
      "execution_count": null,
      "outputs": []
    },
    {
      "cell_type": "code",
      "metadata": {
        "id": "p49GGrhsJydX"
      },
      "source": [
        "tok = Tokenizer(num_words=num_words)\n",
        "tok.fit_on_texts(list(X)) # fit_on_texts()안에 코퍼스를 입력으로 하면 빈도수를 기준으로 단어 집합을 생성한다."
      ],
      "execution_count": null,
      "outputs": []
    },
    {
      "cell_type": "code",
      "metadata": {
        "id": "cNqm010hJ7Sm"
      },
      "source": [
        "X = tok.texts_to_sequences(X)\n",
        "test = tok.texts_to_sequences(test)"
      ],
      "execution_count": null,
      "outputs": []
    },
    {
      "cell_type": "code",
      "metadata": {
        "colab": {
          "base_uri": "https://localhost:8080/"
        },
        "id": "LawlMtfSKQ5Z",
        "outputId": "81704a1d-3995-42eb-c0b5-6a938c2cab0d"
      },
      "source": [
        "# 데이터 빈도 수\n",
        "word_index = tok.word_index\n",
        "word_index"
      ],
      "execution_count": null,
      "outputs": [
        {
          "output_type": "execute_result",
          "data": {
            "text/plain": [
              "{'the': 1,\n",
              " 'to': 2,\n",
              " 'of': 3,\n",
              " 'and': 4,\n",
              " 'a': 5,\n",
              " 'you': 6,\n",
              " 'i': 7,\n",
              " 'is': 8,\n",
              " 'that': 9,\n",
              " 'in': 10,\n",
              " 'it': 11,\n",
              " 'for': 12,\n",
              " 'this': 13,\n",
              " 'not': 14,\n",
              " 'on': 15,\n",
              " 'be': 16,\n",
              " 'as': 17,\n",
              " 'have': 18,\n",
              " 'are': 19,\n",
              " 'your': 20,\n",
              " 'with': 21,\n",
              " 'if': 22,\n",
              " 'article': 23,\n",
              " 'was': 24,\n",
              " 'or': 25,\n",
              " 'but': 26,\n",
              " 'page': 27,\n",
              " 'wikipedia': 28,\n",
              " 'my': 29,\n",
              " 'an': 30,\n",
              " 'from': 31,\n",
              " 'by': 32,\n",
              " 'do': 33,\n",
              " 'at': 34,\n",
              " 'me': 35,\n",
              " 'about': 36,\n",
              " 'so': 37,\n",
              " 'talk': 38,\n",
              " 'what': 39,\n",
              " 'can': 40,\n",
              " 'there': 41,\n",
              " 'all': 42,\n",
              " 'has': 43,\n",
              " 'will': 44,\n",
              " 'please': 45,\n",
              " 'no': 46,\n",
              " 'would': 47,\n",
              " 'one': 48,\n",
              " 'like': 49,\n",
              " 'just': 50,\n",
              " 'they': 51,\n",
              " 'he': 52,\n",
              " 'which': 53,\n",
              " 'any': 54,\n",
              " 'been': 55,\n",
              " 'should': 56,\n",
              " 'more': 57,\n",
              " 'we': 58,\n",
              " \"don't\": 59,\n",
              " 'some': 60,\n",
              " 'other': 61,\n",
              " 'who': 62,\n",
              " 'here': 63,\n",
              " 'see': 64,\n",
              " 'also': 65,\n",
              " 'his': 66,\n",
              " 'think': 67,\n",
              " 'because': 68,\n",
              " 'know': 69,\n",
              " 'how': 70,\n",
              " 'edit': 71,\n",
              " 'am': 72,\n",
              " \"i'm\": 73,\n",
              " 'people': 74,\n",
              " 'why': 75,\n",
              " 'up': 76,\n",
              " 'only': 77,\n",
              " \"it's\": 78,\n",
              " 'out': 79,\n",
              " 'articles': 80,\n",
              " 'use': 81,\n",
              " 'when': 82,\n",
              " 'then': 83,\n",
              " 'time': 84,\n",
              " 'may': 85,\n",
              " 'were': 86,\n",
              " 'did': 87,\n",
              " 'them': 88,\n",
              " 'now': 89,\n",
              " 'being': 90,\n",
              " 'user': 91,\n",
              " 'their': 92,\n",
              " 'than': 93,\n",
              " 'thanks': 94,\n",
              " 'even': 95,\n",
              " 'get': 96,\n",
              " 'make': 97,\n",
              " 'good': 98,\n",
              " 'had': 99,\n",
              " 'well': 100,\n",
              " 'very': 101,\n",
              " 'information': 102,\n",
              " 'does': 103,\n",
              " 'could': 104,\n",
              " 'want': 105,\n",
              " 'deletion': 106,\n",
              " 'its': 107,\n",
              " 'such': 108,\n",
              " 'sources': 109,\n",
              " 'way': 110,\n",
              " 'name': 111,\n",
              " 'these': 112,\n",
              " 'first': 113,\n",
              " 'wp': 114,\n",
              " 'help': 115,\n",
              " 'pages': 116,\n",
              " 'new': 117,\n",
              " 'image': 118,\n",
              " 'source': 119,\n",
              " 'editing': 120,\n",
              " 'go': 121,\n",
              " 'need': 122,\n",
              " 'section': 123,\n",
              " 'say': 124,\n",
              " 'again': 125,\n",
              " 'edits': 126,\n",
              " 'thank': 127,\n",
              " 'where': 128,\n",
              " 'fuck': 129,\n",
              " 'made': 130,\n",
              " 'many': 131,\n",
              " 'much': 132,\n",
              " 'used': 133,\n",
              " 'really': 134,\n",
              " 'most': 135,\n",
              " 'deleted': 136,\n",
              " 'discussion': 137,\n",
              " 'same': 138,\n",
              " 'find': 139,\n",
              " 'into': 140,\n",
              " 'work': 141,\n",
              " 'those': 142,\n",
              " 'since': 143,\n",
              " \"i've\": 144,\n",
              " 'right': 145,\n",
              " 'point': 146,\n",
              " 'before': 147,\n",
              " 'after': 148,\n",
              " 'add': 149,\n",
              " 'read': 150,\n",
              " 'look': 151,\n",
              " 'over': 152,\n",
              " 'him': 153,\n",
              " 'take': 154,\n",
              " 'two': 155,\n",
              " 'still': 156,\n",
              " 'back': 157,\n",
              " 'wiki': 158,\n",
              " 'someone': 159,\n",
              " 'fact': 160,\n",
              " 'hi': 161,\n",
              " 'too': 162,\n",
              " 'list': 163,\n",
              " 'link': 164,\n",
              " 'own': 165,\n",
              " 'said': 166,\n",
              " 'something': 167,\n",
              " 'going': 168,\n",
              " 'blocked': 169,\n",
              " '1': 170,\n",
              " '2': 171,\n",
              " 'stop': 172,\n",
              " \"you're\": 173,\n",
              " 'content': 174,\n",
              " 'without': 175,\n",
              " 'block': 176,\n",
              " 'under': 177,\n",
              " 'history': 178,\n",
              " 'http': 179,\n",
              " 'our': 180,\n",
              " 'added': 181,\n",
              " 'utc': 182,\n",
              " 'editors': 183,\n",
              " 'another': 184,\n",
              " 'removed': 185,\n",
              " 'her': 186,\n",
              " 'might': 187,\n",
              " 'welcome': 188,\n",
              " 'note': 189,\n",
              " 'however': 190,\n",
              " 'free': 191,\n",
              " 'place': 192,\n",
              " 'sure': 193,\n",
              " 'case': 194,\n",
              " 'never': 195,\n",
              " \"doesn't\": 196,\n",
              " 'done': 197,\n",
              " 'us': 198,\n",
              " 'vandalism': 199,\n",
              " 'reason': 200,\n",
              " 'put': 201,\n",
              " 'comment': 202,\n",
              " 'personal': 203,\n",
              " 'better': 204,\n",
              " \"that's\": 205,\n",
              " 'yourself': 206,\n",
              " 'using': 207,\n",
              " 'seems': 208,\n",
              " 'ask': 209,\n",
              " 'actually': 210,\n",
              " 'question': 211,\n",
              " 'off': 212,\n",
              " 'while': 213,\n",
              " 'feel': 214,\n",
              " 'anything': 215,\n",
              " 'believe': 216,\n",
              " 'links': 217,\n",
              " 'person': 218,\n",
              " 'things': 219,\n",
              " 'both': 220,\n",
              " 'she': 221,\n",
              " 'best': 222,\n",
              " 'comments': 223,\n",
              " 'policy': 224,\n",
              " 'part': 225,\n",
              " 'hope': 226,\n",
              " 'against': 227,\n",
              " \"can't\": 228,\n",
              " 'already': 229,\n",
              " 'keep': 230,\n",
              " 'thing': 231,\n",
              " '3': 232,\n",
              " 'u': 233,\n",
              " \"didn't\": 234,\n",
              " 'questions': 235,\n",
              " \"i'll\": 236,\n",
              " 'com': 237,\n",
              " 'nothing': 238,\n",
              " 'change': 239,\n",
              " 'wrong': 240,\n",
              " 'though': 241,\n",
              " 'subject': 242,\n",
              " 'problem': 243,\n",
              " 'remove': 244,\n",
              " 'little': 245,\n",
              " 'copyright': 246,\n",
              " 'tag': 247,\n",
              " '•': 248,\n",
              " 'trying': 249,\n",
              " 'long': 250,\n",
              " 'must': 251,\n",
              " 'understand': 252,\n",
              " 'above': 253,\n",
              " 'speedy': 254,\n",
              " 'anyone': 255,\n",
              " 'few': 256,\n",
              " 'world': 257,\n",
              " 'issue': 258,\n",
              " 'last': 259,\n",
              " 'others': 260,\n",
              " 'give': 261,\n",
              " 'editor': 262,\n",
              " 'sorry': 263,\n",
              " 'agree': 264,\n",
              " 'reliable': 265,\n",
              " 'rather': 266,\n",
              " 'let': 267,\n",
              " 'years': 268,\n",
              " 'fair': 269,\n",
              " 'english': 270,\n",
              " 'different': 271,\n",
              " 'making': 272,\n",
              " 'reference': 273,\n",
              " 'come': 274,\n",
              " 'style': 275,\n",
              " 'text': 276,\n",
              " 'references': 277,\n",
              " 'mean': 278,\n",
              " 'try': 279,\n",
              " 'non': 280,\n",
              " 'continue': 281,\n",
              " 'doing': 282,\n",
              " 'great': 283,\n",
              " 'found': 284,\n",
              " 'leave': 285,\n",
              " 'word': 286,\n",
              " 'says': 287,\n",
              " 'got': 288,\n",
              " 'state': 289,\n",
              " 'original': 290,\n",
              " \"isn't\": 291,\n",
              " 'probably': 292,\n",
              " 'site': 293,\n",
              " 'adding': 294,\n",
              " 'every': 295,\n",
              " 'check': 296,\n",
              " 'day': 297,\n",
              " 'simply': 298,\n",
              " 'created': 299,\n",
              " 'life': 300,\n",
              " 'top': 301,\n",
              " 'hello': 302,\n",
              " 'show': 303,\n",
              " 'post': 304,\n",
              " 'either': 305,\n",
              " 'consensus': 306,\n",
              " 'ip': 307,\n",
              " 'least': 308,\n",
              " 'delete': 309,\n",
              " 'else': 310,\n",
              " 'e': 311,\n",
              " 'yes': 312,\n",
              " 'view': 313,\n",
              " 'war': 314,\n",
              " 'far': 315,\n",
              " 'notable': 316,\n",
              " 'enough': 317,\n",
              " 'request': 318,\n",
              " 'etc': 319,\n",
              " 'example': 320,\n",
              " 'opinion': 321,\n",
              " 'contributions': 322,\n",
              " 'called': 323,\n",
              " 'around': 324,\n",
              " 'through': 325,\n",
              " 'www': 326,\n",
              " 'between': 327,\n",
              " 'real': 328,\n",
              " 'yet': 329,\n",
              " 'write': 330,\n",
              " 'reverted': 331,\n",
              " 'book': 332,\n",
              " 'shit': 333,\n",
              " 'down': 334,\n",
              " 'matter': 335,\n",
              " 'admin': 336,\n",
              " 're': 337,\n",
              " 'thought': 338,\n",
              " 'given': 339,\n",
              " 'images': 340,\n",
              " 'account': 341,\n",
              " 'material': 342,\n",
              " 'users': 343,\n",
              " 'bad': 344,\n",
              " 'encyclopedia': 345,\n",
              " 'having': 346,\n",
              " 'clearly': 347,\n",
              " 'title': 348,\n",
              " 'message': 349,\n",
              " 'support': 350,\n",
              " 'needs': 351,\n",
              " 'lot': 352,\n",
              " 'old': 353,\n",
              " 'evidence': 354,\n",
              " '—': 355,\n",
              " 'ever': 356,\n",
              " 'maybe': 357,\n",
              " 's': 358,\n",
              " 'tell': 359,\n",
              " 'revert': 360,\n",
              " 'seem': 361,\n",
              " 'language': 362,\n",
              " 'instead': 363,\n",
              " 'correct': 364,\n",
              " 'template': 365,\n",
              " 'org': 366,\n",
              " 'number': 367,\n",
              " 'clear': 368,\n",
              " 'media': 369,\n",
              " 'important': 370,\n",
              " 'saying': 371,\n",
              " 'pov': 372,\n",
              " '5': 373,\n",
              " '4': 374,\n",
              " 'always': 375,\n",
              " 'written': 376,\n",
              " 'true': 377,\n",
              " 'oh': 378,\n",
              " 'term': 379,\n",
              " 'further': 380,\n",
              " 'states': 381,\n",
              " 'hate': 382,\n",
              " 'quite': 383,\n",
              " 'perhaps': 384,\n",
              " 'review': 385,\n",
              " 'until': 386,\n",
              " 'bit': 387,\n",
              " 'whether': 388,\n",
              " \"i'd\": 389,\n",
              " 'research': 390,\n",
              " 'consider': 391,\n",
              " 'claim': 392,\n",
              " 'guidelines': 393,\n",
              " 'fucking': 394,\n",
              " 'version': 395,\n",
              " 'once': 396,\n",
              " 'based': 397,\n",
              " 'criteria': 398,\n",
              " 'times': 399,\n",
              " 'nigger': 400,\n",
              " 'website': 401,\n",
              " 'getting': 402,\n",
              " 'suck': 403,\n",
              " 'mention': 404,\n",
              " 'three': 405,\n",
              " 'several': 406,\n",
              " 'makes': 407,\n",
              " 'considered': 408,\n",
              " 'words': 409,\n",
              " 'c': 410,\n",
              " 'year': 411,\n",
              " 'hey': 412,\n",
              " 'changes': 413,\n",
              " 'idea': 414,\n",
              " \"there's\": 415,\n",
              " 'cannot': 416,\n",
              " 'ass': 417,\n",
              " 'address': 418,\n",
              " 'notice': 419,\n",
              " 'current': 420,\n",
              " 'group': 421,\n",
              " 'left': 422,\n",
              " 'following': 423,\n",
              " 'listed': 424,\n",
              " 'each': 425,\n",
              " 'date': 426,\n",
              " 'second': 427,\n",
              " 'means': 428,\n",
              " 'facts': 429,\n",
              " 'rules': 430,\n",
              " 'general': 431,\n",
              " 'possible': 432,\n",
              " 'main': 433,\n",
              " 'care': 434,\n",
              " 'regarding': 435,\n",
              " 'american': 436,\n",
              " 'man': 437,\n",
              " 'start': 438,\n",
              " '10': 439,\n",
              " 'topic': 440,\n",
              " 'mentioned': 441,\n",
              " 'course': 442,\n",
              " 'attack': 443,\n",
              " 'kind': 444,\n",
              " 'whole': 445,\n",
              " 'statement': 446,\n",
              " 'known': 447,\n",
              " 'end': 448,\n",
              " 'include': 449,\n",
              " 'issues': 450,\n",
              " 'seen': 451,\n",
              " 'create': 452,\n",
              " 'jpg': 453,\n",
              " 'dont': 454,\n",
              " 'en': 455,\n",
              " 'gay': 456,\n",
              " 'less': 457,\n",
              " 'related': 458,\n",
              " 'call': 459,\n",
              " 'ok': 460,\n",
              " 'sense': 461,\n",
              " 'big': 462,\n",
              " 'suggest': 463,\n",
              " 'happy': 464,\n",
              " 'category': 465,\n",
              " 'including': 466,\n",
              " 'notability': 467,\n",
              " 'info': 468,\n",
              " '2005': 469,\n",
              " 'provide': 470,\n",
              " 'redirect': 471,\n",
              " 'days': 472,\n",
              " 'move': 473,\n",
              " 'myself': 474,\n",
              " 'sentence': 475,\n",
              " \"wikipedia's\": 476,\n",
              " 'love': 477,\n",
              " 'four': 478,\n",
              " 'appropriate': 479,\n",
              " 'school': 480,\n",
              " 'news': 481,\n",
              " 'project': 482,\n",
              " 'changed': 483,\n",
              " 'explain': 484,\n",
              " 'started': 485,\n",
              " 'neutral': 486,\n",
              " 'line': 487,\n",
              " 'mind': 488,\n",
              " 'anyway': 489,\n",
              " 'contribs': 490,\n",
              " 'included': 491,\n",
              " 'removing': 492,\n",
              " 'next': 493,\n",
              " 't': 494,\n",
              " 'looking': 495,\n",
              " 'picture': 496,\n",
              " 'specific': 497,\n",
              " 'community': 498,\n",
              " 'although': 499,\n",
              " 'per': 500,\n",
              " 'order': 501,\n",
              " 'relevant': 502,\n",
              " 'sign': 503,\n",
              " 'die': 504,\n",
              " 'answer': 505,\n",
              " 'away': 506,\n",
              " 'interest': 507,\n",
              " 'full': 508,\n",
              " 'warning': 509,\n",
              " 'lol': 510,\n",
              " 'summary': 511,\n",
              " 'recent': 512,\n",
              " 'later': 513,\n",
              " 'file': 514,\n",
              " 'policies': 515,\n",
              " \"you've\": 516,\n",
              " 'faith': 517,\n",
              " 'claims': 518,\n",
              " 'discuss': 519,\n",
              " 'attacks': 520,\n",
              " 'public': 521,\n",
              " '0': 522,\n",
              " 'currently': 523,\n",
              " 'wrote': 524,\n",
              " 'writing': 525,\n",
              " 'especially': 526,\n",
              " 'interested': 527,\n",
              " 'able': 528,\n",
              " 'wish': 529,\n",
              " 'taken': 530,\n",
              " '6': 531,\n",
              " 'names': 532,\n",
              " 'position': 533,\n",
              " 'single': 534,\n",
              " 'within': 535,\n",
              " 'stuff': 536,\n",
              " 'below': 537,\n",
              " '2006': 538,\n",
              " 'during': 539,\n",
              " 'wanted': 540,\n",
              " 'web': 541,\n",
              " 'appears': 542,\n",
              " 'official': 543,\n",
              " '20': 544,\n",
              " 'live': 545,\n",
              " 'certainly': 546,\n",
              " 'nice': 547,\n",
              " 'color': 548,\n",
              " 'self': 549,\n",
              " 'itself': 550,\n",
              " 'country': 551,\n",
              " 'everyone': 552,\n",
              " 'report': 553,\n",
              " 'anti': 554,\n",
              " 'background': 555,\n",
              " 'lead': 556,\n",
              " 'high': 557,\n",
              " 'common': 558,\n",
              " 'god': 559,\n",
              " 'unless': 560,\n",
              " 'according': 561,\n",
              " 'completely': 562,\n",
              " 'hard': 563,\n",
              " 'books': 564,\n",
              " 'pretty': 565,\n",
              " '7': 566,\n",
              " 'everything': 567,\n",
              " 'p': 568,\n",
              " 'published': 569,\n",
              " 'due': 570,\n",
              " '24': 571,\n",
              " 'process': 572,\n",
              " 'edited': 573,\n",
              " 'looks': 574,\n",
              " 'involved': 575,\n",
              " 'fat': 576,\n",
              " 'therefore': 577,\n",
              " \"won't\": 578,\n",
              " 'remember': 579,\n",
              " 'obviously': 580,\n",
              " 'power': 581,\n",
              " 'd': 582,\n",
              " 'future': 583,\n",
              " 'nor': 584,\n",
              " '100': 585,\n",
              " 'truth': 586,\n",
              " 'came': 587,\n",
              " 'sandbox': 588,\n",
              " '11': 589,\n",
              " 'response': 590,\n",
              " 'party': 591,\n",
              " 'reading': 592,\n",
              " 'stay': 593,\n",
              " 'past': 594,\n",
              " 'game': 595,\n",
              " 'learn': 596,\n",
              " 'admins': 597,\n",
              " 'quote': 598,\n",
              " 'asked': 599,\n",
              " \"wasn't\": 600,\n",
              " 'b': 601,\n",
              " 'city': 602,\n",
              " 'entry': 603,\n",
              " 'stupid': 604,\n",
              " \"he's\": 605,\n",
              " 'posted': 606,\n",
              " 'false': 607,\n",
              " 'faggot': 608,\n",
              " 'whatever': 609,\n",
              " 'google': 610,\n",
              " 'talking': 611,\n",
              " 'ago': 612,\n",
              " '8': 613,\n",
              " 'placed': 614,\n",
              " 'political': 615,\n",
              " 'similar': 616,\n",
              " 'today': 617,\n",
              " 'system': 618,\n",
              " 'administrator': 619,\n",
              " 'united': 620,\n",
              " 'argument': 621,\n",
              " 'paragraph': 622,\n",
              " 'working': 623,\n",
              " 'exactly': 624,\n",
              " '2007': 625,\n",
              " 'guy': 626,\n",
              " '12': 627,\n",
              " 'british': 628,\n",
              " 'took': 629,\n",
              " 'useful': 630,\n",
              " 'government': 631,\n",
              " 'search': 632,\n",
              " 'noticed': 633,\n",
              " 'moron': 634,\n",
              " 'regards': 635,\n",
              " 'small': 636,\n",
              " 'reasons': 637,\n",
              " 'side': 638,\n",
              " '2008': 639,\n",
              " 'form': 640,\n",
              " 'national': 641,\n",
              " 'dispute': 642,\n",
              " 'deleting': 643,\n",
              " 'five': 644,\n",
              " 'guess': 645,\n",
              " 'appreciate': 646,\n",
              " 'particular': 647,\n",
              " 'reverting': 648,\n",
              " 'major': 649,\n",
              " 'problems': 650,\n",
              " 'law': 651,\n",
              " '000': 652,\n",
              " '15': 653,\n",
              " 'npov': 654,\n",
              " 'bitch': 655,\n",
              " 'rule': 656,\n",
              " 'banned': 657,\n",
              " 'often': 658,\n",
              " 'provided': 659,\n",
              " 'music': 660,\n",
              " 'become': 661,\n",
              " 'wikiproject': 662,\n",
              " 'needed': 663,\n",
              " 'status': 664,\n",
              " 'reply': 665,\n",
              " 'knowledge': 666,\n",
              " 'tried': 667,\n",
              " 'along': 668,\n",
              " 'almost': 669,\n",
              " 'cheers': 670,\n",
              " 'stated': 671,\n",
              " 'username': 672,\n",
              " 'film': 673,\n",
              " '9': 674,\n",
              " 'taking': 675,\n",
              " 'fine': 676,\n",
              " '–': 677,\n",
              " 'company': 678,\n",
              " 'vandalize': 679,\n",
              " 'present': 680,\n",
              " 'certain': 681,\n",
              " 'white': 682,\n",
              " 'follow': 683,\n",
              " 'sort': 684,\n",
              " 'otherwise': 685,\n",
              " 'terms': 686,\n",
              " 'points': 687,\n",
              " 'explanation': 688,\n",
              " 'uploaded': 689,\n",
              " \"haven't\": 690,\n",
              " 'description': 691,\n",
              " 'generally': 692,\n",
              " 'recently': 693,\n",
              " 'entire': 694,\n",
              " 'open': 695,\n",
              " 'story': 696,\n",
              " 'tags': 697,\n",
              " 'shows': 698,\n",
              " 'alone': 699,\n",
              " 'ban': 700,\n",
              " 'citation': 701,\n",
              " 'short': 702,\n",
              " 'definition': 703,\n",
              " '14': 704,\n",
              " 'cited': 705,\n",
              " 'likely': 706,\n",
              " 'aware': 707,\n",
              " 'g': 708,\n",
              " 'saw': 709,\n",
              " 'class': 710,\n",
              " 'type': 711,\n",
              " 'soon': 712,\n",
              " 'set': 713,\n",
              " 'week': 714,\n",
              " 'indeed': 715,\n",
              " 'band': 716,\n",
              " 'cite': 717,\n",
              " 'decide': 718,\n",
              " 'mr': 719,\n",
              " 'views': 720,\n",
              " '2004': 721,\n",
              " 'appear': 722,\n",
              " 'family': 723,\n",
              " 'simple': 724,\n",
              " 'area': 725,\n",
              " 'guys': 726,\n",
              " 'theory': 727,\n",
              " 'piece': 728,\n",
              " 'contributing': 729,\n",
              " 'contact': 730,\n",
              " 'external': 731,\n",
              " 'result': 732,\n",
              " 'test': 733,\n",
              " 'internet': 734,\n",
              " 'interesting': 735,\n",
              " 'unblock': 736,\n",
              " 'actual': 737,\n",
              " 'improve': 738,\n",
              " 'copy': 739,\n",
              " '16': 740,\n",
              " 'sourced': 741,\n",
              " 'jew': 742,\n",
              " 'told': 743,\n",
              " 'attention': 744,\n",
              " 'proposed': 745,\n",
              " 'obvious': 746,\n",
              " 'moved': 747,\n",
              " 'email': 748,\n",
              " 'uk': 749,\n",
              " 'members': 750,\n",
              " 'various': 751,\n",
              " 'allowed': 752,\n",
              " 'themselves': 753,\n",
              " 'conflict': 754,\n",
              " 'context': 755,\n",
              " \"article's\": 756,\n",
              " 'black': 757,\n",
              " 'university': 758,\n",
              " 'author': 759,\n",
              " 'thus': 760,\n",
              " 'disagree': 761,\n",
              " 'cunt': 762,\n",
              " 'john': 763,\n",
              " 'went': 764,\n",
              " 'citations': 765,\n",
              " 'sites': 766,\n",
              " 'jews': 767,\n",
              " 'actions': 768,\n",
              " 'hand': 769,\n",
              " 'bias': 770,\n",
              " 'previous': 771,\n",
              " 'third': 772,\n",
              " 'hours': 773,\n",
              " 'human': 774,\n",
              " '18': 775,\n",
              " 'works': 776,\n",
              " 'nonsense': 777,\n",
              " 'science': 778,\n",
              " 'ones': 779,\n",
              " 'death': 780,\n",
              " 'action': 781,\n",
              " '17': 782,\n",
              " 'enjoy': 783,\n",
              " \"aren't\": 784,\n",
              " 'job': 785,\n",
              " 'proper': 786,\n",
              " 'longer': 787,\n",
              " 'large': 788,\n",
              " 'together': 789,\n",
              " 'sucks': 790,\n",
              " '\\xa0': 791,\n",
              " '13': 792,\n",
              " 'addition': 793,\n",
              " \"wouldn't\": 794,\n",
              " 'avoid': 795,\n",
              " 'creating': 796,\n",
              " 'happened': 797,\n",
              " '19': 798,\n",
              " 'valid': 799,\n",
              " 'jewish': 800,\n",
              " 'german': 801,\n",
              " 'deal': 802,\n",
              " '21': 803,\n",
              " 'automatically': 804,\n",
              " 'biased': 805,\n",
              " 'proof': 806,\n",
              " 'worked': 807,\n",
              " 'im': 808,\n",
              " 'series': 809,\n",
              " 'dick': 810,\n",
              " 'goes': 811,\n",
              " 'himself': 812,\n",
              " 'seriously': 813,\n",
              " \"what's\": 814,\n",
              " '23': 815,\n",
              " 'level': 816,\n",
              " 'standard': 817,\n",
              " 'f': 818,\n",
              " '2009': 819,\n",
              " 'accepted': 820,\n",
              " 'respect': 821,\n",
              " 'exist': 822,\n",
              " 'available': 823,\n",
              " 'de': 824,\n",
              " 'helpful': 825,\n",
              " 'video': 826,\n",
              " 'comes': 827,\n",
              " '22': 828,\n",
              " 'meaning': 829,\n",
              " \"shouldn't\": 830,\n",
              " 'manual': 831,\n",
              " 'living': 832,\n",
              " 'opinions': 833,\n",
              " 'sex': 834,\n",
              " 'rights': 835,\n",
              " 'act': 836,\n",
              " 'tildes': 837,\n",
              " 'criticism': 838,\n",
              " 'play': 839,\n",
              " '2010': 840,\n",
              " 'necessary': 841,\n",
              " 'calling': 842,\n",
              " 'accept': 843,\n",
              " 'sections': 844,\n",
              " 'indicate': 845,\n",
              " 'personally': 846,\n",
              " 'yeah': 847,\n",
              " '30': 848,\n",
              " 'july': 849,\n",
              " 'hell': 850,\n",
              " 'accurate': 851,\n",
              " 'violation': 852,\n",
              " 'statements': 853,\n",
              " 'pig': 854,\n",
              " 'attempt': 855,\n",
              " 'months': 856,\n",
              " 'assume': 857,\n",
              " 'afd': 858,\n",
              " 'upon': 859,\n",
              " 'historical': 860,\n",
              " 'usually': 861,\n",
              " 'debate': 862,\n",
              " \"let's\": 863,\n",
              " 'pro': 864,\n",
              " 'details': 865,\n",
              " 'multiple': 866,\n",
              " 'blocking': 867,\n",
              " 'south': 868,\n",
              " 'rest': 869,\n",
              " 'tagged': 870,\n",
              " 'width': 871,\n",
              " 'serious': 872,\n",
              " 'doubt': 873,\n",
              " 'record': 874,\n",
              " 'greek': 875,\n",
              " 'm': 876,\n",
              " 'r': 877,\n",
              " \"they're\": 878,\n",
              " 'separate': 879,\n",
              " 'v': 880,\n",
              " 'space': 881,\n",
              " 'situation': 882,\n",
              " 'cause': 883,\n",
              " \"you'll\": 884,\n",
              " 'speak': 885,\n",
              " 'heard': 886,\n",
              " 'explaining': 887,\n",
              " 'okay': 888,\n",
              " 'refer': 889,\n",
              " 'fix': 890,\n",
              " 'run': 891,\n",
              " 'quality': 892,\n",
              " 'data': 893,\n",
              " 'complete': 894,\n",
              " 'penis': 895,\n",
              " 'sock': 896,\n",
              " 'church': 897,\n",
              " 'w': 898,\n",
              " 'messages': 899,\n",
              " 'none': 900,\n",
              " 'india': 901,\n",
              " 'asking': 902,\n",
              " 'august': 903,\n",
              " 'online': 904,\n",
              " 'lack': 905,\n",
              " 'legal': 906,\n",
              " 'period': 907,\n",
              " 'freedom': 908,\n",
              " 'team': 909,\n",
              " 'military': 910,\n",
              " 'rationale': 911,\n",
              " 'behavior': 912,\n",
              " 'prove': 913,\n",
              " 'apparently': 914,\n",
              " 'access': 915,\n",
              " 'special': 916,\n",
              " 'close': 917,\n",
              " 'changing': 918,\n",
              " 'bullshit': 919,\n",
              " 'directly': 920,\n",
              " 'watch': 921,\n",
              " 'culture': 922,\n",
              " 'difference': 923,\n",
              " 'march': 924,\n",
              " 'early': 925,\n",
              " 'box': 926,\n",
              " 'contribute': 927,\n",
              " 'wikipedian': 928,\n",
              " 'existing': 929,\n",
              " 'huge': 930,\n",
              " 'gets': 931,\n",
              " 'html': 932,\n",
              " 'couple': 933,\n",
              " '25': 934,\n",
              " 'among': 935,\n",
              " 'civil': 936,\n",
              " 'warring': 937,\n",
              " 'supposed': 938,\n",
              " 'primary': 939,\n",
              " 'except': 940,\n",
              " 'head': 941,\n",
              " 'countries': 942,\n",
              " 'born': 943,\n",
              " 'meant': 944,\n",
              " 'modern': 945,\n",
              " '50': 946,\n",
              " 'photo': 947,\n",
              " 'described': 948,\n",
              " 'incorrect': 949,\n",
              " 'fish': 950,\n",
              " 'uses': 951,\n",
              " 'disruptive': 952,\n",
              " 'significant': 953,\n",
              " 'field': 954,\n",
              " 'specifically': 955,\n",
              " 'red': 956,\n",
              " 'purpose': 957,\n",
              " 'pillars': 958,\n",
              " 'friend': 959,\n",
              " 'release': 960,\n",
              " 'archive': 961,\n",
              " 'million': 962,\n",
              " 'produce': 963,\n",
              " 'tv': 964,\n",
              " 'error': 965,\n",
              " 'force': 966,\n",
              " 'table': 967,\n",
              " 'earlier': 968,\n",
              " 'business': 969,\n",
              " 'computer': 970,\n",
              " 'june': 971,\n",
              " 'sometimes': 972,\n",
              " 'half': 973,\n",
              " 'cases': 974,\n",
              " 'outside': 975,\n",
              " 'vote': 976,\n",
              " 'x': 977,\n",
              " 'inclusion': 978,\n",
              " 'particularly': 979,\n",
              " 'character': 980,\n",
              " 'pictures': 981,\n",
              " 'gave': 982,\n",
              " 'linked': 983,\n",
              " 'abuse': 984,\n",
              " '27': 985,\n",
              " 'control': 986,\n",
              " 'possibly': 987,\n",
              " 'numbers': 988,\n",
              " 'home': 989,\n",
              " 'anonymous': 990,\n",
              " 'member': 991,\n",
              " 'january': 992,\n",
              " 'christian': 993,\n",
              " 'scientific': 994,\n",
              " 'arguments': 995,\n",
              " 'tutorial': 996,\n",
              " '2012': 997,\n",
              " 'n': 998,\n",
              " 'reported': 999,\n",
              " 'border': 1000,\n",
              " ...}"
            ]
          },
          "metadata": {
            "tags": []
          },
          "execution_count": 16
        }
      ]
    },
    {
      "cell_type": "code",
      "metadata": {
        "id": "gmN8LAiVK4zr"
      },
      "source": [
        "#데이터 길이 맞춰줌\n",
        "X = sequence.pad_sequences(X,maxlen=max_len)\n",
        "X_test = sequence.pad_sequences(test,maxlen=max_len)"
      ],
      "execution_count": null,
      "outputs": []
    },
    {
      "cell_type": "code",
      "metadata": {
        "colab": {
          "base_uri": "https://localhost:8080/"
        },
        "id": "vcvmK0hPNdnF",
        "outputId": "66171bee-324b-4618-a145-3747a66491a4"
      },
      "source": [
        "X[1]"
      ],
      "execution_count": null,
      "outputs": [
        {
          "output_type": "execute_result",
          "data": {
            "text/plain": [
              "array([   0,    0,    0,    0,    0,    0,    0,    0,    0,    0,    0,\n",
              "          0,    0,    0,    0,    0,    0,    0,    0,    0,    0,    0,\n",
              "          0,    0,    0,    0,    0,    0,    0,    0,    0,    0,    0,\n",
              "          0,    0,    0,    0,    0,    0,    0,    0,    0,    0,    0,\n",
              "          0,    0,    0,    0,    0,    0,    0,    0,    0,    0,    0,\n",
              "          0,    0,    0,    0,    0,    0,    0,    0,    0,    0,    0,\n",
              "          0,    0,    0,    0,    0,    0,    0,    0,    0,    0,    0,\n",
              "          0,    0,    0,    0,    0,    0,    0,    0,    0,    0,    0,\n",
              "          0,    0,    0,    0,    0,    0,    0,    0,    0,    0,    0,\n",
              "          0,    0,    0,    0,    0,    0,    0,    0,    0,    0,    0,\n",
              "          0,    0,    0,    0,    0,    0,    0,    0,    0,    0,    0,\n",
              "          0,    0,    0,    0,    0,    0,    0,    0,    0,    0,    0,\n",
              "          0,   52, 2635,   13,  555, 3809,   73, 4556, 2706,   21,   94,\n",
              "         38,  803, 2679,  992,  589, 8377,  182], dtype=int32)"
            ]
          },
          "metadata": {
            "tags": []
          },
          "execution_count": 21
        }
      ]
    },
    {
      "cell_type": "markdown",
      "metadata": {
        "id": "lVjL4TS9Pkju"
      },
      "source": [
        "# 모델 설계"
      ]
    },
    {
      "cell_type": "code",
      "metadata": {
        "colab": {
          "base_uri": "https://localhost:8080/"
        },
        "id": "uXkK96CDOzjU",
        "outputId": "130e9626-e8c5-455e-bafc-f7c79c36a65c"
      },
      "source": [
        "input = Input(shape = (max_len,))\n",
        "layer = Embedding(num_words,emb_size)(input) #num_words의 단어를 emb_size로 벡터화\n",
        "layer = Bidirectional(LSTM(50,return_sequences=True,recurrent_dropout=0.15))(layer) #return_sequences : 레이어를 여러 개 쌓아 올릴 때\n",
        "# recurrent_dropout : 현재 Input에 영향을 받는 Parameter에만 Dropout을 적용하는 것\n",
        "layer = GlobalMaxPool1D()(layer)\n",
        "layer = Dropout(0.2)(layer)\n",
        "layer = Dense(50,activation = 'relu')(layer)\n",
        "layer = Dropout(0.2)(layer)\n",
        "layer = Dense(6,activation = 'sigmoid')(layer)\n",
        "model = Model(inputs = input, outputs=layer)\n",
        "model.compile(loss = 'binary_crossentropy',optimizer='adam',metrics=['accuracy'])\n",
        "model.summary()"
      ],
      "execution_count": null,
      "outputs": [
        {
          "output_type": "stream",
          "text": [
            "WARNING:tensorflow:Layer lstm_2 will not use cuDNN kernel since it doesn't meet the cuDNN kernel criteria. It will use generic GPU kernel as fallback when running on GPU\n",
            "WARNING:tensorflow:Layer lstm_2 will not use cuDNN kernel since it doesn't meet the cuDNN kernel criteria. It will use generic GPU kernel as fallback when running on GPU\n",
            "WARNING:tensorflow:Layer lstm_2 will not use cuDNN kernel since it doesn't meet the cuDNN kernel criteria. It will use generic GPU kernel as fallback when running on GPU\n",
            "Model: \"model_2\"\n",
            "_________________________________________________________________\n",
            "Layer (type)                 Output Shape              Param #   \n",
            "=================================================================\n",
            "input_3 (InputLayer)         [(None, 150)]             0         \n",
            "_________________________________________________________________\n",
            "embedding_2 (Embedding)      (None, 150, 128)          2560000   \n",
            "_________________________________________________________________\n",
            "bidirectional_2 (Bidirection (None, 150, 100)          71600     \n",
            "_________________________________________________________________\n",
            "global_max_pooling1d_2 (Glob (None, 100)               0         \n",
            "_________________________________________________________________\n",
            "dropout_4 (Dropout)          (None, 100)               0         \n",
            "_________________________________________________________________\n",
            "dense_4 (Dense)              (None, 50)                5050      \n",
            "_________________________________________________________________\n",
            "dropout_5 (Dropout)          (None, 50)                0         \n",
            "_________________________________________________________________\n",
            "dense_5 (Dense)              (None, 6)                 306       \n",
            "=================================================================\n",
            "Total params: 2,636,956\n",
            "Trainable params: 2,636,956\n",
            "Non-trainable params: 0\n",
            "_________________________________________________________________\n"
          ],
          "name": "stdout"
        }
      ]
    },
    {
      "cell_type": "code",
      "metadata": {
        "id": "jPeZWcilQ1Cd"
      },
      "source": [
        "file_path = '{epoch:02d}-{val_loss:.5f}.h5'\n",
        "checkpoint = ModelCheckpoint(file_path,monitor='val_loss',verbose = 1, save_best_only=True)\n",
        "early_stop = EarlyStopping(monitor='val_loss',patience=1)"
      ],
      "execution_count": null,
      "outputs": []
    },
    {
      "cell_type": "code",
      "metadata": {
        "colab": {
          "base_uri": "https://localhost:8080/"
        },
        "id": "rlyNSXFsRlPZ",
        "outputId": "7cc04d74-0539-4616-b7e8-8e18bc27efe8"
      },
      "source": [
        "hist = model.fit(X,y,batch_size=32, epochs=2, validation_split = 0.2, callbacks= [checkpoint,early_stop])"
      ],
      "execution_count": null,
      "outputs": [
        {
          "output_type": "stream",
          "text": [
            "Epoch 1/2\n",
            "3990/3990 [==============================] - 3271s 819ms/step - loss: 0.1063 - accuracy: 0.7898 - val_loss: 0.0492 - val_accuracy: 0.9941\n",
            "\n",
            "Epoch 00001: val_loss improved from inf to 0.04923, saving model to 01-0.04923.h5\n",
            "Epoch 2/2\n",
            "3990/3990 [==============================] - 3181s 797ms/step - loss: 0.0464 - accuracy: 0.9869 - val_loss: 0.0479 - val_accuracy: 0.9937\n",
            "\n",
            "Epoch 00002: val_loss improved from 0.04923 to 0.04787, saving model to 02-0.04787.h5\n"
          ],
          "name": "stdout"
        }
      ]
    },
    {
      "cell_type": "code",
      "metadata": {
        "id": "v7POVmTgR0fU",
        "colab": {
          "base_uri": "https://localhost:8080/"
        },
        "outputId": "316dee8e-eacf-4d2b-c13f-325003c1bd0f"
      },
      "source": [
        "model.save('toxic1_model1',save_format='tf')"
      ],
      "execution_count": null,
      "outputs": [
        {
          "output_type": "stream",
          "text": [
            "INFO:tensorflow:Assets written to: toxic1_model1/assets\n"
          ],
          "name": "stdout"
        }
      ]
    },
    {
      "cell_type": "code",
      "metadata": {
        "id": "fAEx5HoSTGtb"
      },
      "source": [
        "test_df = pd.read_csv('/content/drive/MyDrive/test.csv')\n",
        "test_df = test_df['comment_text']\n",
        "test_final = tok.texts_to_sequences(test_df)\n",
        "test_padded =sequence.pad_sequences(test_final, maxlen=150)"
      ],
      "execution_count": null,
      "outputs": []
    },
    {
      "cell_type": "code",
      "metadata": {
        "id": "cXty2AWlSr8v"
      },
      "source": [
        "### Prediction for test data\n",
        "predict = model.predict(test_padded)"
      ],
      "execution_count": null,
      "outputs": []
    },
    {
      "cell_type": "code",
      "metadata": {
        "id": "w1_najGfX31G"
      },
      "source": [
        "test_id_df = pd.read_csv('/content/drive/MyDrive/test.csv')"
      ],
      "execution_count": null,
      "outputs": []
    },
    {
      "cell_type": "code",
      "metadata": {
        "colab": {
          "base_uri": "https://localhost:8080/",
          "height": 202
        },
        "id": "519fiJOq9RVo",
        "outputId": "7fc53dd9-c07c-4437-d2c4-0a3b76f585c0"
      },
      "source": [
        "target_cols = np.array(['toxic','severe_toxic','obscene', 'threat','insult', 'identity_hate'])\n",
        "final_predict_test = pd.concat([pd.DataFrame(predict, columns=target_cols)], 1)\n",
        "t1 = test_id_df['id']\n",
        "final_predict_test = pd.concat([t1,final_predict_test],1)\n",
        "final_precict_test.drop('id',axis='columns')\n",
        "final_predict_test.head()"
      ],
      "execution_count": null,
      "outputs": [
        {
          "output_type": "execute_result",
          "data": {
            "text/html": [
              "<div>\n",
              "<style scoped>\n",
              "    .dataframe tbody tr th:only-of-type {\n",
              "        vertical-align: middle;\n",
              "    }\n",
              "\n",
              "    .dataframe tbody tr th {\n",
              "        vertical-align: top;\n",
              "    }\n",
              "\n",
              "    .dataframe thead th {\n",
              "        text-align: right;\n",
              "    }\n",
              "</style>\n",
              "<table border=\"1\" class=\"dataframe\">\n",
              "  <thead>\n",
              "    <tr style=\"text-align: right;\">\n",
              "      <th></th>\n",
              "      <th>id</th>\n",
              "      <th>toxic</th>\n",
              "      <th>severe_toxic</th>\n",
              "      <th>obscene</th>\n",
              "      <th>threat</th>\n",
              "      <th>insult</th>\n",
              "      <th>identity_hate</th>\n",
              "    </tr>\n",
              "  </thead>\n",
              "  <tbody>\n",
              "    <tr>\n",
              "      <th>0</th>\n",
              "      <td>00001cee341fdb12</td>\n",
              "      <td>0.998843</td>\n",
              "      <td>5.065380e-01</td>\n",
              "      <td>0.972915</td>\n",
              "      <td>0.056152</td>\n",
              "      <td>0.869336</td>\n",
              "      <td>0.198033</td>\n",
              "    </tr>\n",
              "    <tr>\n",
              "      <th>1</th>\n",
              "      <td>0000247867823ef7</td>\n",
              "      <td>0.000468</td>\n",
              "      <td>5.813213e-07</td>\n",
              "      <td>0.000043</td>\n",
              "      <td>0.000001</td>\n",
              "      <td>0.000025</td>\n",
              "      <td>0.000016</td>\n",
              "    </tr>\n",
              "    <tr>\n",
              "      <th>2</th>\n",
              "      <td>00013b17ad220c46</td>\n",
              "      <td>0.001666</td>\n",
              "      <td>5.433198e-06</td>\n",
              "      <td>0.000209</td>\n",
              "      <td>0.000013</td>\n",
              "      <td>0.000138</td>\n",
              "      <td>0.000089</td>\n",
              "    </tr>\n",
              "    <tr>\n",
              "      <th>3</th>\n",
              "      <td>00017563c3f7919a</td>\n",
              "      <td>0.001210</td>\n",
              "      <td>8.797104e-07</td>\n",
              "      <td>0.000103</td>\n",
              "      <td>0.000001</td>\n",
              "      <td>0.000078</td>\n",
              "      <td>0.000031</td>\n",
              "    </tr>\n",
              "    <tr>\n",
              "      <th>4</th>\n",
              "      <td>00017695ad8997eb</td>\n",
              "      <td>0.004937</td>\n",
              "      <td>1.443868e-05</td>\n",
              "      <td>0.000531</td>\n",
              "      <td>0.000033</td>\n",
              "      <td>0.000482</td>\n",
              "      <td>0.000234</td>\n",
              "    </tr>\n",
              "  </tbody>\n",
              "</table>\n",
              "</div>"
            ],
            "text/plain": [
              "                 id     toxic  severe_toxic  ...    threat    insult  identity_hate\n",
              "0  00001cee341fdb12  0.998843  5.065380e-01  ...  0.056152  0.869336       0.198033\n",
              "1  0000247867823ef7  0.000468  5.813213e-07  ...  0.000001  0.000025       0.000016\n",
              "2  00013b17ad220c46  0.001666  5.433198e-06  ...  0.000013  0.000138       0.000089\n",
              "3  00017563c3f7919a  0.001210  8.797104e-07  ...  0.000001  0.000078       0.000031\n",
              "4  00017695ad8997eb  0.004937  1.443868e-05  ...  0.000033  0.000482       0.000234\n",
              "\n",
              "[5 rows x 7 columns]"
            ]
          },
          "metadata": {
            "tags": []
          },
          "execution_count": 54
        }
      ]
    },
    {
      "cell_type": "code",
      "metadata": {
        "id": "ZEMQLFLyXRu0"
      },
      "source": [
        "final_predict_test.to_csv(\"/content/drive/MyDrive/toxic_sub1.csv\", mode='w')"
      ],
      "execution_count": null,
      "outputs": []
    },
    {
      "cell_type": "code",
      "metadata": {
        "id": "jbvGzfvwX9YS"
      },
      "source": [
        ""
      ],
      "execution_count": null,
      "outputs": []
    }
  ]
}
