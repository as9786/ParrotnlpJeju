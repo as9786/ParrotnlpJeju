{
  "nbformat": 4,
  "nbformat_minor": 0,
  "metadata": {
    "colab": {
      "name": "toxic_97.95%.ipynb",
      "private_outputs": true,
      "provenance": [],
      "collapsed_sections": [],
      "mount_file_id": "1KGanAVXX_ygV6aZt61uDm8lBkMJbryCm",
      "authorship_tag": "ABX9TyO/iwN0mFqvRMHHdLmpV+4q",
      "include_colab_link": true
    },
    "kernelspec": {
      "name": "python3",
      "display_name": "Python 3"
    },
    "language_info": {
      "name": "python"
    }
  },
  "cells": [
    {
      "cell_type": "markdown",
      "metadata": {
        "id": "view-in-github",
        "colab_type": "text"
      },
      "source": [
        "<a href=\"https://colab.research.google.com/github/as9786/ParrotnlpJeju/blob/main/toxic_97_95_.ipynb\" target=\"_parent\"><img src=\"https://colab.research.google.com/assets/colab-badge.svg\" alt=\"Open In Colab\"/></a>"
      ]
    },
    {
      "cell_type": "code",
      "metadata": {
        "id": "RE09_6rtb5L2"
      },
      "source": [
        "import pandas as pd\n",
        "import numpy as np"
      ],
      "execution_count": null,
      "outputs": []
    },
    {
      "cell_type": "code",
      "metadata": {
        "id": "iP0SvY6-cE65"
      },
      "source": [
        "df_LSTM = pd.read_csv('/content/drive/MyDrive/sub_0330.csv')\n",
        "df_LSTM_C = pd.read_csv('/content/drive/MyDrive/submission2.csv')\n",
        "df_GRU_C = pd.read_csv('/content/drive/MyDrive/submission3.csv')"
      ],
      "execution_count": null,
      "outputs": []
    },
    {
      "cell_type": "code",
      "metadata": {
        "id": "HrzrlPjicsHd"
      },
      "source": [
        "label_cols = ['toxic', 'severe_toxic', 'obscene', 'threat', 'insult', 'identity_hate']\n",
        "p_res = df_LSTM.copy()\n",
        "p_res[label_cols] = (df_LSTM[label_cols]+df_LSTM_C[label_cols]+df_GRU_C[label_cols])/3"
      ],
      "execution_count": null,
      "outputs": []
    },
    {
      "cell_type": "code",
      "metadata": {
        "id": "CfCDzb3kdHj1"
      },
      "source": [
        "p_res.to_csv('/content/drive/MyDrive/submission4.csv', index=False)"
      ],
      "execution_count": null,
      "outputs": []
    }
  ]
}
