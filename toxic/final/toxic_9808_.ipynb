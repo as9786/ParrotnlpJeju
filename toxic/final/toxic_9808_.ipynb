{
  "nbformat": 4,
  "nbformat_minor": 0,
  "metadata": {
    "colab": {
      "name": "toxic_9808%.ipynb",
      "private_outputs": true,
      "provenance": [],
      "collapsed_sections": [],
      "mount_file_id": "185Ic9aABZnv6KzxEg9oTNAgA8Gl-Z3iV",
      "authorship_tag": "ABX9TyOtOfWCF3Vk1WlqMvZCKJ2m",
      "include_colab_link": true
    },
    "kernelspec": {
      "name": "python3",
      "display_name": "Python 3"
    },
    "language_info": {
      "name": "python"
    }
  },
  "cells": [
    {
      "cell_type": "markdown",
      "metadata": {
        "id": "view-in-github",
        "colab_type": "text"
      },
      "source": [
        "<a href=\"https://colab.research.google.com/github/as9786/ParrotnlpJeju/blob/main/toxic_9808_.ipynb\" target=\"_parent\"><img src=\"https://colab.research.google.com/assets/colab-badge.svg\" alt=\"Open In Colab\"/></a>"
      ]
    },
    {
      "cell_type": "code",
      "metadata": {
        "id": "RE09_6rtb5L2"
      },
      "source": [
        "import pandas as pd\n",
        "import numpy as np"
      ],
      "execution_count": null,
      "outputs": []
    },
    {
      "cell_type": "code",
      "metadata": {
        "id": "iP0SvY6-cE65"
      },
      "source": [
        "df1= pd.read_csv('/content/drive/MyDrive/sub_0330.csv')\n",
        "df2= pd.read_csv('/content/drive/MyDrive/submission5.csv')\n",
        "df3 = pd.read_csv('/content/drive/MyDrive/submission7.csv')\n",
        "df4 = pd.read_csv('/content/drive/MyDrive/submission3.csv')\n",
        "df5 = pd.read_csv('/content/drive/MyDrive/submission2.csv')\n",
        "df6 = pd.read_csv('/content/drive/MyDrive/submission14.csv')\n",
        "df7 = pd.read_csv('/content/drive/MyDrive/submission19.csv')\n",
        "#df8 = pd.read_csv('/content/drive/MyDrive/sub_0401.csv')\n",
        "#df9 = pd.read_csv('/content/drive/MyDrive/sub_cnn.csv')\n",
        "#df10 = pd.read_csv('/content/drive/MyDrive/sub_gru.csv')"
      ],
      "execution_count": null,
      "outputs": []
    },
    {
      "cell_type": "code",
      "metadata": {
        "id": "HrzrlPjicsHd"
      },
      "source": [
        "label_cols = ['toxic', 'severe_toxic', 'obscene', 'threat', 'insult', 'identity_hate']\n",
        "p_res = df1.copy()\n",
        "p_res[label_cols] = (df1[label_cols]+df2[label_cols]+df3[label_cols]+df4[label_cols]+df5[label_cols]+df6[label_cols]+df7[label_cols]\n",
        "                     +df8[label_cols]+df9[label_cols]+df10[label_cols])/10"
      ],
      "execution_count": null,
      "outputs": []
    },
    {
      "cell_type": "code",
      "metadata": {
        "id": "CfCDzb3kdHj1"
      },
      "source": [
        "p_res.to_csv('/content/drive/MyDrive/submission21.csv', index=False)"
      ],
      "execution_count": null,
      "outputs": []
    },
    {
      "cell_type": "code",
      "metadata": {
        "id": "HSLvp5DMgPh9"
      },
      "source": [
        ""
      ],
      "execution_count": null,
      "outputs": []
    }
  ]
}
