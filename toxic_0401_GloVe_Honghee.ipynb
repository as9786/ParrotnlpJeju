{
  "nbformat": 4,
  "nbformat_minor": 0,
  "metadata": {
    "colab": {
      "name": "toxic_0401_GloVe_Honghee.ipynb",
      "provenance": [],
      "collapsed_sections": [],
      "authorship_tag": "ABX9TyNnv/loewAD3HGaIagfFTOd",
      "include_colab_link": true
    },
    "kernelspec": {
      "name": "python3",
      "display_name": "Python 3"
    },
    "language_info": {
      "name": "python"
    },
    "accelerator": "GPU"
  },
  "cells": [
    {
      "cell_type": "markdown",
      "metadata": {
        "id": "view-in-github",
        "colab_type": "text"
      },
      "source": [
        "<a href=\"https://colab.research.google.com/github/as9786/ParrotnlpJeju/blob/main/toxic_0401_GloVe_Honghee.ipynb\" target=\"_parent\"><img src=\"https://colab.research.google.com/assets/colab-badge.svg\" alt=\"Open In Colab\"/></a>"
      ]
    },
    {
      "cell_type": "code",
      "metadata": {
        "colab": {
          "base_uri": "https://localhost:8080/"
        },
        "id": "Tu-v2K-TViyC",
        "outputId": "3e5031dc-3a4e-4d0a-ed5d-3201f2c765b0"
      },
      "source": [
        "from google.colab import drive \n",
        "drive.mount('/content/drive')"
      ],
      "execution_count": null,
      "outputs": [
        {
          "output_type": "stream",
          "text": [
            "Mounted at /content/drive\n"
          ],
          "name": "stdout"
        }
      ]
    },
    {
      "cell_type": "code",
      "metadata": {
        "colab": {
          "base_uri": "https://localhost:8080/"
        },
        "id": "ESLMmBGGg9Fl",
        "outputId": "3d5df246-7817-4231-d36e-e1a29ead1bb9"
      },
      "source": [
        "!pip install glove_python_binary"
      ],
      "execution_count": null,
      "outputs": [
        {
          "output_type": "stream",
          "text": [
            "Collecting glove_python_binary\n",
            "\u001b[?25l  Downloading https://files.pythonhosted.org/packages/cc/11/d8510a80110f736822856db566341dd2e1e7c3af536f77e409a6c09e0c22/glove_python_binary-0.2.0-cp37-cp37m-manylinux1_x86_64.whl (948kB)\n",
            "\r\u001b[K     |▍                               | 10kB 18.2MB/s eta 0:00:01\r\u001b[K     |▊                               | 20kB 25.2MB/s eta 0:00:01\r\u001b[K     |█                               | 30kB 27.2MB/s eta 0:00:01\r\u001b[K     |█▍                              | 40kB 23.7MB/s eta 0:00:01\r\u001b[K     |█▊                              | 51kB 24.9MB/s eta 0:00:01\r\u001b[K     |██                              | 61kB 21.0MB/s eta 0:00:01\r\u001b[K     |██▍                             | 71kB 20.8MB/s eta 0:00:01\r\u001b[K     |██▊                             | 81kB 18.6MB/s eta 0:00:01\r\u001b[K     |███                             | 92kB 18.4MB/s eta 0:00:01\r\u001b[K     |███▌                            | 102kB 18.8MB/s eta 0:00:01\r\u001b[K     |███▉                            | 112kB 18.8MB/s eta 0:00:01\r\u001b[K     |████▏                           | 122kB 18.8MB/s eta 0:00:01\r\u001b[K     |████▌                           | 133kB 18.8MB/s eta 0:00:01\r\u001b[K     |████▉                           | 143kB 18.8MB/s eta 0:00:01\r\u001b[K     |█████▏                          | 153kB 18.8MB/s eta 0:00:01\r\u001b[K     |█████▌                          | 163kB 18.8MB/s eta 0:00:01\r\u001b[K     |█████▉                          | 174kB 18.8MB/s eta 0:00:01\r\u001b[K     |██████▏                         | 184kB 18.8MB/s eta 0:00:01\r\u001b[K     |██████▋                         | 194kB 18.8MB/s eta 0:00:01\r\u001b[K     |███████                         | 204kB 18.8MB/s eta 0:00:01\r\u001b[K     |███████▎                        | 215kB 18.8MB/s eta 0:00:01\r\u001b[K     |███████▋                        | 225kB 18.8MB/s eta 0:00:01\r\u001b[K     |████████                        | 235kB 18.8MB/s eta 0:00:01\r\u001b[K     |████████▎                       | 245kB 18.8MB/s eta 0:00:01\r\u001b[K     |████████▋                       | 256kB 18.8MB/s eta 0:00:01\r\u001b[K     |█████████                       | 266kB 18.8MB/s eta 0:00:01\r\u001b[K     |█████████▎                      | 276kB 18.8MB/s eta 0:00:01\r\u001b[K     |█████████▊                      | 286kB 18.8MB/s eta 0:00:01\r\u001b[K     |██████████                      | 296kB 18.8MB/s eta 0:00:01\r\u001b[K     |██████████▍                     | 307kB 18.8MB/s eta 0:00:01\r\u001b[K     |██████████▊                     | 317kB 18.8MB/s eta 0:00:01\r\u001b[K     |███████████                     | 327kB 18.8MB/s eta 0:00:01\r\u001b[K     |███████████▍                    | 337kB 18.8MB/s eta 0:00:01\r\u001b[K     |███████████▊                    | 348kB 18.8MB/s eta 0:00:01\r\u001b[K     |████████████                    | 358kB 18.8MB/s eta 0:00:01\r\u001b[K     |████████████▍                   | 368kB 18.8MB/s eta 0:00:01\r\u001b[K     |████████████▊                   | 378kB 18.8MB/s eta 0:00:01\r\u001b[K     |█████████████▏                  | 389kB 18.8MB/s eta 0:00:01\r\u001b[K     |█████████████▌                  | 399kB 18.8MB/s eta 0:00:01\r\u001b[K     |█████████████▉                  | 409kB 18.8MB/s eta 0:00:01\r\u001b[K     |██████████████▏                 | 419kB 18.8MB/s eta 0:00:01\r\u001b[K     |██████████████▌                 | 430kB 18.8MB/s eta 0:00:01\r\u001b[K     |██████████████▉                 | 440kB 18.8MB/s eta 0:00:01\r\u001b[K     |███████████████▏                | 450kB 18.8MB/s eta 0:00:01\r\u001b[K     |███████████████▌                | 460kB 18.8MB/s eta 0:00:01\r\u001b[K     |███████████████▉                | 471kB 18.8MB/s eta 0:00:01\r\u001b[K     |████████████████▎               | 481kB 18.8MB/s eta 0:00:01\r\u001b[K     |████████████████▋               | 491kB 18.8MB/s eta 0:00:01\r\u001b[K     |█████████████████               | 501kB 18.8MB/s eta 0:00:01\r\u001b[K     |█████████████████▎              | 512kB 18.8MB/s eta 0:00:01\r\u001b[K     |█████████████████▋              | 522kB 18.8MB/s eta 0:00:01\r\u001b[K     |██████████████████              | 532kB 18.8MB/s eta 0:00:01\r\u001b[K     |██████████████████▎             | 542kB 18.8MB/s eta 0:00:01\r\u001b[K     |██████████████████▋             | 552kB 18.8MB/s eta 0:00:01\r\u001b[K     |███████████████████             | 563kB 18.8MB/s eta 0:00:01\r\u001b[K     |███████████████████▍            | 573kB 18.8MB/s eta 0:00:01\r\u001b[K     |███████████████████▊            | 583kB 18.8MB/s eta 0:00:01\r\u001b[K     |████████████████████            | 593kB 18.8MB/s eta 0:00:01\r\u001b[K     |████████████████████▍           | 604kB 18.8MB/s eta 0:00:01\r\u001b[K     |████████████████████▊           | 614kB 18.8MB/s eta 0:00:01\r\u001b[K     |█████████████████████           | 624kB 18.8MB/s eta 0:00:01\r\u001b[K     |█████████████████████▍          | 634kB 18.8MB/s eta 0:00:01\r\u001b[K     |█████████████████████▊          | 645kB 18.8MB/s eta 0:00:01\r\u001b[K     |██████████████████████          | 655kB 18.8MB/s eta 0:00:01\r\u001b[K     |██████████████████████▌         | 665kB 18.8MB/s eta 0:00:01\r\u001b[K     |██████████████████████▉         | 675kB 18.8MB/s eta 0:00:01\r\u001b[K     |███████████████████████▏        | 686kB 18.8MB/s eta 0:00:01\r\u001b[K     |███████████████████████▌        | 696kB 18.8MB/s eta 0:00:01\r\u001b[K     |███████████████████████▉        | 706kB 18.8MB/s eta 0:00:01\r\u001b[K     |████████████████████████▏       | 716kB 18.8MB/s eta 0:00:01\r\u001b[K     |████████████████████████▌       | 727kB 18.8MB/s eta 0:00:01\r\u001b[K     |████████████████████████▉       | 737kB 18.8MB/s eta 0:00:01\r\u001b[K     |█████████████████████████▏      | 747kB 18.8MB/s eta 0:00:01\r\u001b[K     |█████████████████████████▌      | 757kB 18.8MB/s eta 0:00:01\r\u001b[K     |██████████████████████████      | 768kB 18.8MB/s eta 0:00:01\r\u001b[K     |██████████████████████████▎     | 778kB 18.8MB/s eta 0:00:01\r\u001b[K     |██████████████████████████▋     | 788kB 18.8MB/s eta 0:00:01\r\u001b[K     |███████████████████████████     | 798kB 18.8MB/s eta 0:00:01\r\u001b[K     |███████████████████████████▎    | 808kB 18.8MB/s eta 0:00:01\r\u001b[K     |███████████████████████████▋    | 819kB 18.8MB/s eta 0:00:01\r\u001b[K     |████████████████████████████    | 829kB 18.8MB/s eta 0:00:01\r\u001b[K     |████████████████████████████▎   | 839kB 18.8MB/s eta 0:00:01\r\u001b[K     |████████████████████████████▋   | 849kB 18.8MB/s eta 0:00:01\r\u001b[K     |█████████████████████████████   | 860kB 18.8MB/s eta 0:00:01\r\u001b[K     |█████████████████████████████▍  | 870kB 18.8MB/s eta 0:00:01\r\u001b[K     |█████████████████████████████▊  | 880kB 18.8MB/s eta 0:00:01\r\u001b[K     |██████████████████████████████  | 890kB 18.8MB/s eta 0:00:01\r\u001b[K     |██████████████████████████████▍ | 901kB 18.8MB/s eta 0:00:01\r\u001b[K     |██████████████████████████████▊ | 911kB 18.8MB/s eta 0:00:01\r\u001b[K     |███████████████████████████████ | 921kB 18.8MB/s eta 0:00:01\r\u001b[K     |███████████████████████████████▍| 931kB 18.8MB/s eta 0:00:01\r\u001b[K     |███████████████████████████████▊| 942kB 18.8MB/s eta 0:00:01\r\u001b[K     |████████████████████████████████| 952kB 18.8MB/s \n",
            "\u001b[?25hRequirement already satisfied: numpy in /usr/local/lib/python3.7/dist-packages (from glove_python_binary) (1.19.5)\n",
            "Requirement already satisfied: scipy in /usr/local/lib/python3.7/dist-packages (from glove_python_binary) (1.4.1)\n",
            "Installing collected packages: glove-python-binary\n",
            "Successfully installed glove-python-binary-0.2.0\n"
          ],
          "name": "stdout"
        }
      ]
    },
    {
      "cell_type": "code",
      "metadata": {
        "id": "hGIDMiKLVq83"
      },
      "source": [
        "import pandas as pd\n",
        "import numpy as np\n",
        "import matplotlib.pyplot as plt\n",
        "import seaborn as sns\n",
        "%matplotlib inline\n",
        "import tensorflow as tf\n",
        "from tensorflow import keras\n",
        "from keras.models import Model\n",
        "from keras.layers import Dense, Embedding, Input, LSTM, Bidirectional, GlobalMaxPool1D, Dropout, Flatten\n",
        "#Bidirectional은 양방향으로 데이터를 보기 위해서 사용되는 함수\n",
        "from keras.preprocessing.text import Tokenizer\n",
        "from keras.preprocessing import sequence\n",
        "from keras.callbacks import EarlyStopping, ModelCheckpoint\n",
        "from tensorflow.keras.models import load_model\n"
      ],
      "execution_count": null,
      "outputs": []
    },
    {
      "cell_type": "code",
      "metadata": {
        "id": "UAizkM7bffhk"
      },
      "source": [
        "DATA_PATH = '/content/drive/MyDrive/2021_봄/패럿/toxic'"
      ],
      "execution_count": null,
      "outputs": []
    },
    {
      "cell_type": "code",
      "metadata": {
        "colab": {
          "base_uri": "https://localhost:8080/",
          "height": 194
        },
        "id": "RrSUl5V5WLrx",
        "outputId": "a2da2076-06ce-410c-cd75-00d8a8bdbfe6"
      },
      "source": [
        "train_df = pd.read_csv(DATA_PATH+'/data/train.csv')\n",
        "train_df.head()"
      ],
      "execution_count": null,
      "outputs": [
        {
          "output_type": "execute_result",
          "data": {
            "text/html": [
              "<div>\n",
              "<style scoped>\n",
              "    .dataframe tbody tr th:only-of-type {\n",
              "        vertical-align: middle;\n",
              "    }\n",
              "\n",
              "    .dataframe tbody tr th {\n",
              "        vertical-align: top;\n",
              "    }\n",
              "\n",
              "    .dataframe thead th {\n",
              "        text-align: right;\n",
              "    }\n",
              "</style>\n",
              "<table border=\"1\" class=\"dataframe\">\n",
              "  <thead>\n",
              "    <tr style=\"text-align: right;\">\n",
              "      <th></th>\n",
              "      <th>id</th>\n",
              "      <th>comment_text</th>\n",
              "      <th>toxic</th>\n",
              "      <th>severe_toxic</th>\n",
              "      <th>obscene</th>\n",
              "      <th>threat</th>\n",
              "      <th>insult</th>\n",
              "      <th>identity_hate</th>\n",
              "    </tr>\n",
              "  </thead>\n",
              "  <tbody>\n",
              "    <tr>\n",
              "      <th>0</th>\n",
              "      <td>0000997932d777bf</td>\n",
              "      <td>Explanation\\nWhy the edits made under my usern...</td>\n",
              "      <td>0</td>\n",
              "      <td>0</td>\n",
              "      <td>0</td>\n",
              "      <td>0</td>\n",
              "      <td>0</td>\n",
              "      <td>0</td>\n",
              "    </tr>\n",
              "    <tr>\n",
              "      <th>1</th>\n",
              "      <td>000103f0d9cfb60f</td>\n",
              "      <td>D'aww! He matches this background colour I'm s...</td>\n",
              "      <td>0</td>\n",
              "      <td>0</td>\n",
              "      <td>0</td>\n",
              "      <td>0</td>\n",
              "      <td>0</td>\n",
              "      <td>0</td>\n",
              "    </tr>\n",
              "    <tr>\n",
              "      <th>2</th>\n",
              "      <td>000113f07ec002fd</td>\n",
              "      <td>Hey man, I'm really not trying to edit war. It...</td>\n",
              "      <td>0</td>\n",
              "      <td>0</td>\n",
              "      <td>0</td>\n",
              "      <td>0</td>\n",
              "      <td>0</td>\n",
              "      <td>0</td>\n",
              "    </tr>\n",
              "    <tr>\n",
              "      <th>3</th>\n",
              "      <td>0001b41b1c6bb37e</td>\n",
              "      <td>\"\\nMore\\nI can't make any real suggestions on ...</td>\n",
              "      <td>0</td>\n",
              "      <td>0</td>\n",
              "      <td>0</td>\n",
              "      <td>0</td>\n",
              "      <td>0</td>\n",
              "      <td>0</td>\n",
              "    </tr>\n",
              "    <tr>\n",
              "      <th>4</th>\n",
              "      <td>0001d958c54c6e35</td>\n",
              "      <td>You, sir, are my hero. Any chance you remember...</td>\n",
              "      <td>0</td>\n",
              "      <td>0</td>\n",
              "      <td>0</td>\n",
              "      <td>0</td>\n",
              "      <td>0</td>\n",
              "      <td>0</td>\n",
              "    </tr>\n",
              "  </tbody>\n",
              "</table>\n",
              "</div>"
            ],
            "text/plain": [
              "                 id  ... identity_hate\n",
              "0  0000997932d777bf  ...             0\n",
              "1  000103f0d9cfb60f  ...             0\n",
              "2  000113f07ec002fd  ...             0\n",
              "3  0001b41b1c6bb37e  ...             0\n",
              "4  0001d958c54c6e35  ...             0\n",
              "\n",
              "[5 rows x 8 columns]"
            ]
          },
          "metadata": {
            "tags": []
          },
          "execution_count": 5
        }
      ]
    },
    {
      "cell_type": "code",
      "metadata": {
        "id": "MAveen8_WO0k"
      },
      "source": [
        "X_train = train_df.comment_text\n",
        "y_train = train_df[[\"toxic\",\t\"severe_toxic\",\t\"obscene\",\t\"threat\",\t\"insult\",\t\"identity_hate\"]].values"
      ],
      "execution_count": null,
      "outputs": []
    },
    {
      "cell_type": "code",
      "metadata": {
        "id": "oM4O8UNkhrn0"
      },
      "source": [
        "num_words = 70000\n",
        "max_len = 150"
      ],
      "execution_count": null,
      "outputs": []
    },
    {
      "cell_type": "code",
      "metadata": {
        "id": "4qBA2HzsimrJ"
      },
      "source": [
        "tokenizer = Tokenizer(num_words=num_words)\n",
        "tokenizer.fit_on_texts(list(X_train))\n",
        "word_index = tokenizer.word_index"
      ],
      "execution_count": null,
      "outputs": []
    },
    {
      "cell_type": "code",
      "metadata": {
        "id": "OgYP5ctJto0R"
      },
      "source": [
        "word_index = {e:i for e,i in word_index.items() if i <= num_words} # tokenizer의 num_words가 단어의 개수를 제어해주지 못하기 때문에 인위적으로 단어 개수 제한"
      ],
      "execution_count": null,
      "outputs": []
    },
    {
      "cell_type": "code",
      "metadata": {
        "colab": {
          "base_uri": "https://localhost:8080/"
        },
        "id": "lnXotPj4sAL6",
        "outputId": "04c2c6bb-27b9-4743-c45b-8d668ee02832"
      },
      "source": [
        "len(word_index)"
      ],
      "execution_count": null,
      "outputs": [
        {
          "output_type": "execute_result",
          "data": {
            "text/plain": [
              "70000"
            ]
          },
          "metadata": {
            "tags": []
          },
          "execution_count": 10
        }
      ]
    },
    {
      "cell_type": "code",
      "metadata": {
        "id": "ihVrd9ELirsk"
      },
      "source": [
        "X_train = tokenizer.texts_to_sequences(X_train)"
      ],
      "execution_count": null,
      "outputs": []
    },
    {
      "cell_type": "code",
      "metadata": {
        "id": "nMOxzoclisx6"
      },
      "source": [
        "X_train = sequence.pad_sequences(X_train, maxlen = max_len)"
      ],
      "execution_count": null,
      "outputs": []
    },
    {
      "cell_type": "code",
      "metadata": {
        "colab": {
          "base_uri": "https://localhost:8080/"
        },
        "id": "vtTpRIRkp199",
        "outputId": "df728494-64b6-41bb-fb23-02c1cd21909b"
      },
      "source": [
        "!wget http://nlp.stanford.edu/data/glove.6B.zip\n",
        "!unzip glove*.zip"
      ],
      "execution_count": null,
      "outputs": [
        {
          "output_type": "stream",
          "text": [
            "--2021-04-01 02:10:42--  http://nlp.stanford.edu/data/glove.6B.zip\n",
            "Resolving nlp.stanford.edu (nlp.stanford.edu)... 171.64.67.140\n",
            "Connecting to nlp.stanford.edu (nlp.stanford.edu)|171.64.67.140|:80... connected.\n",
            "HTTP request sent, awaiting response... 302 Found\n",
            "Location: https://nlp.stanford.edu/data/glove.6B.zip [following]\n",
            "--2021-04-01 02:10:42--  https://nlp.stanford.edu/data/glove.6B.zip\n",
            "Connecting to nlp.stanford.edu (nlp.stanford.edu)|171.64.67.140|:443... connected.\n",
            "HTTP request sent, awaiting response... 301 Moved Permanently\n",
            "Location: http://downloads.cs.stanford.edu/nlp/data/glove.6B.zip [following]\n",
            "--2021-04-01 02:10:43--  http://downloads.cs.stanford.edu/nlp/data/glove.6B.zip\n",
            "Resolving downloads.cs.stanford.edu (downloads.cs.stanford.edu)... 171.64.64.22\n",
            "Connecting to downloads.cs.stanford.edu (downloads.cs.stanford.edu)|171.64.64.22|:80... connected.\n",
            "HTTP request sent, awaiting response... 200 OK\n",
            "Length: 862182613 (822M) [application/zip]\n",
            "Saving to: ‘glove.6B.zip’\n",
            "\n",
            "glove.6B.zip        100%[===================>] 822.24M  5.32MB/s    in 2m 41s  \n",
            "\n",
            "2021-04-01 02:13:24 (5.12 MB/s) - ‘glove.6B.zip’ saved [862182613/862182613]\n",
            "\n",
            "Archive:  glove.6B.zip\n",
            "  inflating: glove.6B.50d.txt        \n",
            "  inflating: glove.6B.100d.txt       \n",
            "  inflating: glove.6B.200d.txt       \n",
            "  inflating: glove.6B.300d.txt       \n"
          ],
          "name": "stdout"
        }
      ]
    },
    {
      "cell_type": "code",
      "metadata": {
        "colab": {
          "base_uri": "https://localhost:8080/"
        },
        "id": "SYETHQ_9p2lG",
        "outputId": "ebb24a6c-1fc9-4bf6-907f-090163e5980d"
      },
      "source": [
        "n=0\n",
        "f = open('glove.6B.300d.txt', encoding=\"utf8\") # 단어를 300차원으로 표현\n",
        "\n",
        "for line in f:\n",
        "    word_vector = line.split() # 각 줄을 읽어와서 word_vector에 저장.\n",
        "    print(word_vector) # 각 줄을 출력\n",
        "    word = word_vector[0] # word_vector에서 첫번째 값만 저장\n",
        "    print(word) # word_vector의 첫번째 값만 출력\n",
        "    n=n+1\n",
        "    if n==2:\n",
        "        break\n",
        "f.close()"
      ],
      "execution_count": null,
      "outputs": [
        {
          "output_type": "stream",
          "text": [
            "['the', '0.04656', '0.21318', '-0.0074364', '-0.45854', '-0.035639', '0.23643', '-0.28836', '0.21521', '-0.13486', '-1.6413', '-0.26091', '0.032434', '0.056621', '-0.043296', '-0.021672', '0.22476', '-0.075129', '-0.067018', '-0.14247', '0.038825', '-0.18951', '0.29977', '0.39305', '0.17887', '-0.17343', '-0.21178', '0.23617', '-0.063681', '-0.42318', '-0.11661', '0.093754', '0.17296', '-0.33073', '0.49112', '-0.68995', '-0.092462', '0.24742', '-0.17991', '0.097908', '0.083118', '0.15299', '-0.27276', '-0.038934', '0.54453', '0.53737', '0.29105', '-0.0073514', '0.04788', '-0.4076', '-0.026759', '0.17919', '0.010977', '-0.10963', '-0.26395', '0.07399', '0.26236', '-0.1508', '0.34623', '0.25758', '0.11971', '-0.037135', '-0.071593', '0.43898', '-0.040764', '0.016425', '-0.4464', '0.17197', '0.046246', '0.058639', '0.041499', '0.53948', '0.52495', '0.11361', '-0.048315', '-0.36385', '0.18704', '0.092761', '-0.11129', '-0.42085', '0.13992', '-0.39338', '-0.067945', '0.12188', '0.16707', '0.075169', '-0.015529', '-0.19499', '0.19638', '0.053194', '0.2517', '-0.34845', '-0.10638', '-0.34692', '-0.19024', '-0.2004', '0.12154', '-0.29208', '0.023353', '-0.11618', '-0.35768', '0.062304', '0.35884', '0.02906', '0.0073005', '0.0049482', '-0.15048', '-0.12313', '0.19337', '0.12173', '0.44503', '0.25147', '0.10781', '-0.17716', '0.038691', '0.08153', '0.14667', '0.063666', '0.061332', '-0.075569', '-0.37724', '0.01585', '-0.30342', '0.28374', '-0.042013', '-0.040715', '-0.15269', '0.07498', '0.15577', '0.10433', '0.31393', '0.19309', '0.19429', '0.15185', '-0.10192', '-0.018785', '0.20791', '0.13366', '0.19038', '-0.25558', '0.304', '-0.01896', '0.20147', '-0.4211', '-0.0075156', '-0.27977', '-0.19314', '0.046204', '0.19971', '-0.30207', '0.25735', '0.68107', '-0.19409', '0.23984', '0.22493', '0.65224', '-0.13561', '-0.17383', '-0.048209', '-0.1186', '0.0021588', '-0.019525', '0.11948', '0.19346', '-0.4082', '-0.082966', '0.16626', '-0.10601', '0.35861', '0.16922', '0.07259', '-0.24803', '-0.10024', '-0.52491', '-0.17745', '-0.36647', '0.2618', '-0.012077', '0.08319', '-0.21528', '0.41045', '0.29136', '0.30869', '0.078864', '0.32207', '-0.041023', '-0.1097', '-0.092041', '-0.12339', '-0.16416', '0.35382', '-0.082774', '0.33171', '-0.24738', '-0.048928', '0.15746', '0.18988', '-0.026642', '0.063315', '-0.010673', '0.34089', '1.4106', '0.13417', '0.28191', '-0.2594', '0.055267', '-0.052425', '-0.25789', '0.019127', '-0.022084', '0.32113', '0.068818', '0.51207', '0.16478', '-0.20194', '0.29232', '0.098575', '0.013145', '-0.10652', '0.1351', '-0.045332', '0.20697', '-0.48425', '-0.44706', '0.0033305', '0.0029264', '-0.10975', '-0.23325', '0.22442', '-0.10503', '0.12339', '0.10978', '0.048994', '-0.25157', '0.40319', '0.35318', '0.18651', '-0.023622', '-0.12734', '0.11475', '0.27359', '-0.21866', '0.015794', '0.81754', '-0.023792', '-0.85469', '-0.16203', '0.18076', '0.028014', '-0.1434', '0.0013139', '-0.091735', '-0.089704', '0.11105', '-0.16703', '0.068377', '-0.087388', '-0.039789', '0.014184', '0.21187', '0.28579', '-0.28797', '-0.058996', '-0.032436', '-0.0047009', '-0.17052', '-0.034741', '-0.11489', '0.075093', '0.099526', '0.048183', '-0.073775', '-0.41817', '0.0041268', '0.44414', '-0.16062', '0.14294', '-2.2628', '-0.027347', '0.81311', '0.77417', '-0.25639', '-0.11576', '-0.11982', '-0.21363', '0.028429', '0.27261', '0.031026', '0.096782', '0.0067769', '0.14082', '-0.013064', '-0.29686', '-0.079913', '0.195', '0.031549', '0.28506', '-0.087461', '0.0090611', '-0.20989', '0.053913']\n",
            "the\n",
            "[',', '-0.25539', '-0.25723', '0.13169', '-0.042688', '0.21817', '-0.022702', '-0.17854', '0.10756', '0.058936', '-1.3854', '0.58509', '0.036501', '-0.19846', '0.19613', '0.40929', '0.15702', '-0.15305', '0.050447', '0.30045', '-0.11295', '-0.017043', '0.18593', '0.19982', '0.20053', '-0.63141', '-0.12622', '0.2951', '-0.26282', '-0.15831', '0.0012383', '0.011784', '0.58758', '-0.15914', '0.27731', '-0.82343', '-0.21134', '0.013414', '0.19637', '-0.4147', '0.0010276', '0.13422', '-0.14205', '0.051545', '0.34993', '-0.29868', '-0.3209', '0.19566', '0.47886', '0.10744', '0.010004', '0.18503', '0.080694', '0.20739', '-0.097365', '-0.039448', '0.020151', '-0.17378', '0.25679', '0.24198', '-0.351', '0.18759', '0.0063857', '0.18395', '-0.13929', '0.0081855', '-0.63109', '0.29832', '0.31731', '0.13022', '-0.32284', '-0.050343', '-0.114', '0.12097', '0.14687', '-0.33244', '-0.055789', '-0.05849', '0.27551', '-0.043855', '0.039664', '0.15162', '-0.086627', '0.067729', '0.23146', '0.015351', '-0.15142', '-0.031975', '0.45181', '-0.068806', '-0.077058', '0.055193', '0.054596', '-0.24708', '0.031113', '-0.12826', '0.12782', '-0.46708', '-0.026264', '0.010387', '-0.33174', '0.17277', '-0.26894', '0.20467', '-0.16181', '-0.041519', '-0.014878', '0.10279', '0.18868', '-0.23396', '-0.018436', '-0.14747', '-0.32685', '-0.022055', '-0.054', '0.16264', '0.27095', '-0.22792', '-0.0077006', '0.11206', '-0.039787', '-0.11906', '0.021773', '0.05528', '-0.13318', '-0.056867', '0.008304', '-0.027021', '0.23447', '0.086864', '0.12009', '-0.30726', '0.0024735', '0.29041', '-0.044887', '0.12297', '0.13077', '0.090807', '-0.39141', '0.080546', '0.18724', '-0.097481', '0.10397', '0.11492', '0.17775', '-0.18167', '0.24652', '0.20136', '-0.23395', '-0.35018', '-0.14061', '0.17091', '-0.095465', '-0.10962', '-0.09836', '0.15344', '0.08868', '-0.22048', '-0.13803', '-0.11288', '-0.08534', '0.072735', '-0.12732', '-0.1964', '-0.10586', '0.0020616', '0.13496', '0.058912', '-0.043979', '-0.091375', '0.24408', '0.16872', '0.24297', '-0.43983', '0.47089', '-0.018595', '0.16146', '0.19828', '-0.17237', '-0.0026998', '0.52097', '-0.080197', '0.43324', '-0.066261', '0.04324', '0.084954', '-0.14836', '-0.41936', '0.15988', '-0.18411', '0.1321', '0.27476', '0.27279', '-0.13465', '-0.091238', '-0.32523', '0.27936', '0.023296', '-0.33472', '0.016878', '-0.055544', '0.92915', '-0.33914', '-0.14791', '0.017301', '0.18272', '0.35108', '-0.11438', '0.13228', '-0.021064', '-0.27453', '-0.10081', '-0.046296', '0.21689', '-0.056319', '0.14651', '-0.023536', '0.068026', '-0.045453', '-0.23851', '-0.33868', '0.31396', '-0.031914', '-0.019217', '0.0018715', '-0.13328', '0.070148', '-0.039761', '0.070801', '0.0018422', '-0.12646', '0.028675', '-0.095728', '0.26673', '-0.35536', '0.15286', '0.064565', '0.12647', '0.23397', '-0.046058', '0.13519', '-0.14549', '0.23031', '0.42066', '0.16267', '-0.16541', '-0.0020155', '0.080653', '-0.30025', '-0.076014', '0.070612', '0.3157', '0.05352', '-0.10721', '-0.1366', '0.32214', '0.2004', '0.11609', '-0.22501', '0.12155', '-0.10851', '-0.063187', '-0.24553', '-0.059751', '0.068787', '-0.11627', '-0.0083402', '0.0052044', '-0.20159', '-0.023663', '0.17562', '-0.31475', '-0.11162', '-0.12492', '0.10949', '-0.26913', '0.34893', '-1.6997', '-0.2447', '0.30292', '0.05672', '-0.31737', '0.083612', '0.095949', '-0.1759', '0.10235', '0.36808', '-0.3438', '0.20607', '0.19135', '0.10992', '0.075968', '-0.014359', '-0.073794', '0.22176', '0.14652', '0.56686', '0.053307', '-0.2329', '-0.12226', '0.35499']\n",
            ",\n"
          ],
          "name": "stdout"
        }
      ]
    },
    {
      "cell_type": "code",
      "metadata": {
        "colab": {
          "base_uri": "https://localhost:8080/"
        },
        "id": "2oNIXUHhp8LR",
        "outputId": "dddf669f-b84d-4133-aaad-54f1986296b1"
      },
      "source": [
        "print(type(word_vector))\n",
        "print(len(word_vector))"
      ],
      "execution_count": null,
      "outputs": [
        {
          "output_type": "stream",
          "text": [
            "<class 'list'>\n",
            "301\n"
          ],
          "name": "stdout"
        }
      ]
    },
    {
      "cell_type": "code",
      "metadata": {
        "colab": {
          "base_uri": "https://localhost:8080/"
        },
        "id": "dl8fQiSMqCgu",
        "outputId": "97d2a06f-d7b7-4fac-b8e2-20d533460301"
      },
      "source": [
        "import numpy as np\n",
        "embedding_dict = dict()\n",
        "f = open('glove.6B.300d.txt', encoding=\"utf8\")\n",
        "\n",
        "for line in f:\n",
        "    word_vector = line.split()\n",
        "    word = word_vector[0]\n",
        "    word_vector_arr = np.asarray(word_vector[1:], dtype='float32') # 300개의 값을 가지는 array로 변환\n",
        "    embedding_dict[word] = word_vector_arr\n",
        "f.close()\n",
        "print('%s개의 Embedding vector가 있습니다.' % len(embedding_dict))"
      ],
      "execution_count": null,
      "outputs": [
        {
          "output_type": "stream",
          "text": [
            "400000개의 Embedding vector가 있습니다.\n"
          ],
          "name": "stdout"
        }
      ]
    },
    {
      "cell_type": "code",
      "metadata": {
        "colab": {
          "base_uri": "https://localhost:8080/"
        },
        "id": "7w45HLl7qJ0b",
        "outputId": "2d09c4e6-1775-4575-d022-5f6e5b639936"
      },
      "source": [
        "print(embedding_dict['respectable'])\n",
        "print(len(embedding_dict['respectable']))"
      ],
      "execution_count": null,
      "outputs": [
        {
          "output_type": "stream",
          "text": [
            "[-5.9430e-02  2.9373e-01  4.4671e-01  2.4423e-01 -1.5634e-01  2.8773e-01\n",
            "  6.7747e-02  2.0504e-01  4.1492e-02 -3.0522e-01 -4.3004e-02  2.8197e-01\n",
            "  6.2618e-02  5.0430e-01 -4.0581e-01 -1.4415e-01 -2.9910e-01  7.0448e-02\n",
            " -5.3740e-02 -6.1705e-01 -3.9854e-01 -9.5942e-02  1.0248e-02  5.4411e-01\n",
            "  1.7266e-01  8.3997e-02  2.8430e-01  1.0357e-01  4.8725e-01  4.5660e-01\n",
            " -6.1109e-01  6.4805e-02 -7.0994e-03 -3.6287e-01 -7.9061e-01  3.7435e-01\n",
            " -9.2787e-02  4.0281e-01  2.4042e-01 -9.2453e-02  4.7018e-01  5.6912e-01\n",
            "  6.5189e-02 -4.7954e-01  1.9341e-01  3.4634e-01  2.8264e-01  6.5834e-04\n",
            "  2.4984e-01  1.0720e-01 -3.6387e-01 -1.6954e-01  2.0574e-01 -1.0885e-03\n",
            "  2.1150e-01 -1.2830e-01  2.5518e-01 -1.4915e-01 -1.8501e-01 -6.8867e-02\n",
            " -2.6199e-01 -3.7595e-01  1.6882e-01  3.7629e-01  1.4882e-01  6.5637e-02\n",
            "  5.7059e-01 -3.5715e-01  2.4602e-01  1.8475e-01 -7.2171e-02 -3.9930e-01\n",
            " -1.2116e-01 -6.8676e-02 -7.9098e-02  4.4554e-02 -3.2147e-01 -5.8227e-04\n",
            "  1.3248e-01  2.3804e-01 -6.5126e-01  4.4838e-02 -9.5398e-02  1.2738e-01\n",
            "  3.6056e-01  6.7084e-01  6.4417e-02 -4.4923e-01  4.2318e-01 -9.7189e-02\n",
            "  3.5532e-02 -1.6345e-02  6.8078e-02 -5.9017e-02  2.6095e-01  3.5559e-02\n",
            " -3.1497e-01  5.0777e-01 -5.8187e-01  1.0165e-02 -3.4190e-01 -2.7507e-02\n",
            "  5.6683e-02 -3.7638e-01 -1.6531e-01 -2.4048e-01 -1.6923e-01 -1.5343e-01\n",
            "  3.7243e-01 -2.4565e-01  6.4730e-03 -3.7128e-02  3.6208e-01 -2.9111e-01\n",
            "  4.4667e-02 -3.2761e-01  2.0942e-01 -6.7460e-01  3.0062e-01  1.7170e-02\n",
            "  2.3441e-01  7.2770e-01  7.6512e-01  7.5707e-01 -2.7931e-01  3.7601e-01\n",
            "  1.2607e-01  4.8286e-01  7.7991e-03 -2.5239e-01 -2.7910e-02 -7.9412e-02\n",
            " -2.5267e-01 -2.0144e-01 -3.8616e-01  3.4631e-02 -1.6696e-01  2.7552e-02\n",
            "  2.5064e-01  3.9554e-01 -5.3252e-01  3.9102e-01  1.4743e-01  3.5983e-02\n",
            "  5.6777e-02 -1.3551e-01  4.1378e-01 -1.4622e-01 -4.8306e-02  2.9812e-01\n",
            "  1.8649e-02 -1.9689e-01 -3.9770e-01 -3.0393e-01 -6.9565e-02  3.8702e-01\n",
            " -6.5764e-01 -1.0164e-01  3.2359e-01 -2.0503e-01 -3.1061e-01  1.3720e-01\n",
            " -9.1340e-02 -8.4843e-02 -1.7988e-01 -5.4136e-01 -3.2665e-01 -2.8702e-01\n",
            "  2.7173e-01  3.6568e-01  9.4903e-02 -5.3598e-01 -5.9168e-01  6.0973e-02\n",
            "  3.3397e-01 -3.2762e-01 -2.2163e-01  7.4785e-02  3.2152e-01  4.6623e-01\n",
            "  5.4032e-01 -2.2132e-01  7.5974e-01 -6.0880e-02  4.2034e-01 -6.1279e-02\n",
            "  5.6035e-01  5.5135e-02 -2.7987e-01  4.6214e-01 -1.5223e-01 -9.6503e-02\n",
            "  7.1955e-01 -7.2913e-03  3.1668e-01 -1.4263e-01 -3.2168e-01  2.7757e-01\n",
            " -7.5623e-02 -6.0981e-01  8.3881e-01 -6.4770e-02  2.9726e-01 -6.2276e-02\n",
            " -9.9941e-02 -3.9664e-01 -1.4297e-01 -4.8420e-02 -9.2493e-02 -3.6090e-01\n",
            " -4.0216e-01  2.7820e-01 -6.8546e-02  2.4316e-01 -1.2255e-01 -2.9121e-02\n",
            " -3.0324e-01  4.2070e-02  2.0523e-01  2.2295e-01 -4.5684e-01 -1.0135e-01\n",
            " -5.8352e-01  9.2374e-02 -4.6655e-01  1.7723e-01 -3.2214e-01 -1.4350e-01\n",
            "  4.4486e-01  1.9187e-01 -3.8595e-01 -3.3142e-01  9.5374e-02 -1.6188e-01\n",
            "  2.7091e-01 -1.4446e-01 -3.5953e-02 -2.5162e-01  5.6250e-02  2.6616e-01\n",
            "  4.1516e-01 -3.1606e-01  1.6801e-01  5.2648e-01 -2.2056e-01 -1.4236e-02\n",
            "  6.8580e-01  4.0355e-01 -4.0753e-01  2.2333e-01  1.2748e-01 -3.6799e-01\n",
            "  2.9047e-01  6.3627e-02  3.5988e-01  2.7023e-01  4.1845e-02  2.0870e-01\n",
            " -1.4250e-01  4.0439e-01  3.5843e-01  1.4967e-01 -8.7626e-02  3.6109e-02\n",
            " -5.7493e-01 -6.9540e-03  5.5103e-01 -4.2427e-01  3.6747e-01  2.7195e-01\n",
            " -4.7873e-02  1.8348e-01 -1.5612e-02  2.4026e-01  2.0253e-01 -1.1424e-01\n",
            " -7.6297e-02  1.3159e-01  4.2361e-02 -5.5636e-02  1.1087e-01  2.2166e-01\n",
            "  2.9393e-01  3.6780e-01  2.7056e-01  2.9878e-01  5.1216e-02  1.0400e-01\n",
            "  4.9041e-02  6.0307e-01  1.5302e-01  2.4688e-01 -3.8374e-01  1.6996e-01\n",
            "  4.9377e-01 -1.3398e-01 -7.2780e-02 -1.4927e-01  4.9239e-01 -3.0324e-02]\n",
            "300\n"
          ],
          "name": "stdout"
        }
      ]
    },
    {
      "cell_type": "code",
      "metadata": {
        "colab": {
          "base_uri": "https://localhost:8080/"
        },
        "id": "k7K05q2sqKRn",
        "outputId": "5a00dc18-4a80-42b3-d144-aa20dbc9e47c"
      },
      "source": [
        "embedding_matrix = np.zeros((num_words, 300))\n",
        "# 단어 집합 크기의 행과 300개의 열을 가지는 행렬 생성. 값은 전부 0으로 채워진다.\n",
        "np.shape(embedding_matrix)\n"
      ],
      "execution_count": null,
      "outputs": [
        {
          "output_type": "execute_result",
          "data": {
            "text/plain": [
              "(70000, 300)"
            ]
          },
          "metadata": {
            "tags": []
          },
          "execution_count": 20
        }
      ]
    },
    {
      "cell_type": "code",
      "metadata": {
        "colab": {
          "base_uri": "https://localhost:8080/"
        },
        "id": "XWH7zoUEqsVP",
        "outputId": "8056a75c-9874-4b71-d6e6-001f4f117100"
      },
      "source": [
        "embedding_matrix[:10]"
      ],
      "execution_count": null,
      "outputs": [
        {
          "output_type": "execute_result",
          "data": {
            "text/plain": [
              "array([[0., 0., 0., ..., 0., 0., 0.],\n",
              "       [0., 0., 0., ..., 0., 0., 0.],\n",
              "       [0., 0., 0., ..., 0., 0., 0.],\n",
              "       ...,\n",
              "       [0., 0., 0., ..., 0., 0., 0.],\n",
              "       [0., 0., 0., ..., 0., 0., 0.],\n",
              "       [0., 0., 0., ..., 0., 0., 0.]])"
            ]
          },
          "metadata": {
            "tags": []
          },
          "execution_count": 21
        }
      ]
    },
    {
      "cell_type": "code",
      "metadata": {
        "colab": {
          "base_uri": "https://localhost:8080/"
        },
        "id": "w7u-0defq5_6",
        "outputId": "32ffef42-bfc9-4c84-a26d-1b11e8b8c690"
      },
      "source": [
        "len(word_index)"
      ],
      "execution_count": null,
      "outputs": [
        {
          "output_type": "execute_result",
          "data": {
            "text/plain": [
              "70000"
            ]
          },
          "metadata": {
            "tags": []
          },
          "execution_count": 22
        }
      ]
    },
    {
      "cell_type": "code",
      "metadata": {
        "id": "qdOE9PjbrjUB"
      },
      "source": [
        "for word, i in word_index.items():\n",
        "  tmp = embedding_dict.get(word)\n",
        "  if tmp is not None:\n",
        "    embedding_matrix[i-1] = tmp"
      ],
      "execution_count": null,
      "outputs": []
    },
    {
      "cell_type": "code",
      "metadata": {
        "id": "vD0FtUixru4H"
      },
      "source": [
        "def model():\n",
        "  inp = Input(shape = (max_len, ))\n",
        "  layer = Embedding(num_words, 300, weights=[embedding_matrix], input_length=max_len, trainable=True)(inp)\n",
        "  layer = Bidirectional(LSTM(50, return_sequences= True, recurrent_dropout=0))(layer)\n",
        "  layer = GlobalMaxPool1D()(layer)\n",
        "  layer = Dropout(0.2)(layer)\n",
        "  layer = Dense(50, activation= 'relu')(layer)\n",
        "  layer = Dropout(0.2)(layer)\n",
        "  layer = Dense(6, activation= 'sigmoid')(layer)\n",
        "  model = Model(inputs = inp, outputs = layer)\n",
        "  model.compile(loss = 'binary_crossentropy', optimizer = 'adam', metrics = ['accuracy'])\n",
        "  return model"
      ],
      "execution_count": null,
      "outputs": []
    },
    {
      "cell_type": "code",
      "metadata": {
        "colab": {
          "base_uri": "https://localhost:8080/"
        },
        "id": "fukvvhCXutIo",
        "outputId": "b40af057-634e-4837-bb82-f80969b3bdb7"
      },
      "source": [
        "model = model()\n",
        "model.summary()"
      ],
      "execution_count": null,
      "outputs": [
        {
          "output_type": "stream",
          "text": [
            "Model: \"model\"\n",
            "_________________________________________________________________\n",
            "Layer (type)                 Output Shape              Param #   \n",
            "=================================================================\n",
            "input_1 (InputLayer)         [(None, 150)]             0         \n",
            "_________________________________________________________________\n",
            "embedding (Embedding)        (None, 150, 300)          21000000  \n",
            "_________________________________________________________________\n",
            "bidirectional (Bidirectional (None, 150, 100)          140400    \n",
            "_________________________________________________________________\n",
            "global_max_pooling1d (Global (None, 100)               0         \n",
            "_________________________________________________________________\n",
            "dropout (Dropout)            (None, 100)               0         \n",
            "_________________________________________________________________\n",
            "dense (Dense)                (None, 50)                5050      \n",
            "_________________________________________________________________\n",
            "dropout_1 (Dropout)          (None, 50)                0         \n",
            "_________________________________________________________________\n",
            "dense_1 (Dense)              (None, 6)                 306       \n",
            "=================================================================\n",
            "Total params: 21,145,756\n",
            "Trainable params: 21,145,756\n",
            "Non-trainable params: 0\n",
            "_________________________________________________________________\n"
          ],
          "name": "stdout"
        }
      ]
    },
    {
      "cell_type": "code",
      "metadata": {
        "id": "OPYh_8r_uvX9"
      },
      "source": [
        "file_path = DATA_PATH +'/data'\n",
        "checkpoint = ModelCheckpoint(file_path, monitor= 'val_loss', verbose = 1, save_best_only=True)\n",
        "early_stop = EarlyStopping(monitor= 'val_loss', patience= 1)"
      ],
      "execution_count": null,
      "outputs": []
    },
    {
      "cell_type": "code",
      "metadata": {
        "colab": {
          "base_uri": "https://localhost:8080/"
        },
        "id": "gABrC9_mvbmB",
        "outputId": "620832ef-1091-4544-b17b-c4e99d2eb912"
      },
      "source": [
        "hist = model.fit(X_train, y_train, batch_size=32, epochs=2, validation_split=0.2, callbacks=[checkpoint, early_stop])"
      ],
      "execution_count": null,
      "outputs": [
        {
          "output_type": "stream",
          "text": [
            "Epoch 1/2\n",
            "3990/3990 [==============================] - 826s 199ms/step - loss: 0.0931 - accuracy: 0.8090 - val_loss: 0.0479 - val_accuracy: 0.9941\n",
            "\n",
            "Epoch 00001: val_loss improved from inf to 0.04791, saving model to /content/drive/MyDrive/2021_봄/패럿/toxic/data\n"
          ],
          "name": "stdout"
        },
        {
          "output_type": "stream",
          "text": [
            "WARNING:absl:Found untraced functions such as lstm_cell_1_layer_call_and_return_conditional_losses, lstm_cell_1_layer_call_fn, lstm_cell_2_layer_call_and_return_conditional_losses, lstm_cell_2_layer_call_fn, lstm_cell_1_layer_call_fn while saving (showing 5 of 10). These functions will not be directly callable after loading.\n",
            "WARNING:absl:Found untraced functions such as lstm_cell_1_layer_call_and_return_conditional_losses, lstm_cell_1_layer_call_fn, lstm_cell_2_layer_call_and_return_conditional_losses, lstm_cell_2_layer_call_fn, lstm_cell_1_layer_call_fn while saving (showing 5 of 10). These functions will not be directly callable after loading.\n"
          ],
          "name": "stderr"
        },
        {
          "output_type": "stream",
          "text": [
            "INFO:tensorflow:Assets written to: /content/drive/MyDrive/2021_봄/패럿/toxic/data/assets\n"
          ],
          "name": "stdout"
        },
        {
          "output_type": "stream",
          "text": [
            "INFO:tensorflow:Assets written to: /content/drive/MyDrive/2021_봄/패럿/toxic/data/assets\n"
          ],
          "name": "stderr"
        },
        {
          "output_type": "stream",
          "text": [
            "Epoch 2/2\n",
            "3990/3990 [==============================] - 813s 204ms/step - loss: 0.0420 - accuracy: 0.9767 - val_loss: 0.0461 - val_accuracy: 0.9941\n",
            "\n",
            "Epoch 00002: val_loss improved from 0.04791 to 0.04613, saving model to /content/drive/MyDrive/2021_봄/패럿/toxic/data\n"
          ],
          "name": "stdout"
        },
        {
          "output_type": "stream",
          "text": [
            "WARNING:absl:Found untraced functions such as lstm_cell_1_layer_call_and_return_conditional_losses, lstm_cell_1_layer_call_fn, lstm_cell_2_layer_call_and_return_conditional_losses, lstm_cell_2_layer_call_fn, lstm_cell_1_layer_call_fn while saving (showing 5 of 10). These functions will not be directly callable after loading.\n",
            "WARNING:absl:Found untraced functions such as lstm_cell_1_layer_call_and_return_conditional_losses, lstm_cell_1_layer_call_fn, lstm_cell_2_layer_call_and_return_conditional_losses, lstm_cell_2_layer_call_fn, lstm_cell_1_layer_call_fn while saving (showing 5 of 10). These functions will not be directly callable after loading.\n"
          ],
          "name": "stderr"
        },
        {
          "output_type": "stream",
          "text": [
            "INFO:tensorflow:Assets written to: /content/drive/MyDrive/2021_봄/패럿/toxic/data/assets\n"
          ],
          "name": "stdout"
        },
        {
          "output_type": "stream",
          "text": [
            "INFO:tensorflow:Assets written to: /content/drive/MyDrive/2021_봄/패럿/toxic/data/assets\n"
          ],
          "name": "stderr"
        }
      ]
    },
    {
      "cell_type": "code",
      "metadata": {
        "id": "KrZVI71YvdYF"
      },
      "source": [
        "import matplotlib.pyplot as plt\n",
        "def acc_loss_plot(hist):\n",
        "    fig, loss_ax = plt.subplots()\n",
        "    acc_ax = loss_ax.twinx()\n",
        "\n",
        "    loss_ax.plot(hist.history['loss'], 'y', label='train loss')\n",
        "    loss_ax.plot(hist.history['val_loss'], 'r', label='val loss')\n",
        "    loss_ax.set_xlabel('epoch')\n",
        "    loss_ax.set_ylabel('loss')\n",
        "    loss_ax.legend(loc = 'upper left')\n",
        "\n",
        "    acc_ax.plot(hist.history['accuracy'], 'b', label='train acc')\n",
        "    acc_ax.plot(hist.history['val_accuracy'], 'g', label='val acc')\n",
        "    acc_ax.set_ylabel('accuracy')\n",
        "    acc_ax.legend(loc='upper right')\n",
        "\n",
        "    plt.show()"
      ],
      "execution_count": null,
      "outputs": []
    },
    {
      "cell_type": "code",
      "metadata": {
        "colab": {
          "base_uri": "https://localhost:8080/",
          "height": 281
        },
        "id": "mFSsmS6KvrQk",
        "outputId": "a6735e76-8f3e-405c-ea5d-cb4b1baa9d87"
      },
      "source": [
        "acc_loss_plot(hist)"
      ],
      "execution_count": null,
      "outputs": [
        {
          "output_type": "display_data",
          "data": {
            "image/png": "[encoded data removed]",
            "text/plain": [
              "<Figure size 432x288 with 2 Axes>"
            ]
          },
          "metadata": {
            "tags": [],
            "needs_background": "light"
          }
        }
      ]
    },
    {
      "cell_type": "code",
      "metadata": {
        "id": "b9DBJpk7vsd6"
      },
      "source": [
        "model.save('/content/drive/MyDrive/2021_봄/패럿/toxic/toxic1_model3.h5')"
      ],
      "execution_count": null,
      "outputs": []
    },
    {
      "cell_type": "code",
      "metadata": {
        "id": "dl6h4JWCvw0p"
      },
      "source": [
        "test_df = pd.read_csv('/content/drive/MyDrive/2021_봄/패럿/toxic/data/test.csv')\n",
        "test_df = test_df['comment_text']\n",
        "test_final = tokenizer.texts_to_sequences(test_df)\n",
        "test_padded =sequence.pad_sequences(test_final, maxlen=150)"
      ],
      "execution_count": null,
      "outputs": []
    },
    {
      "cell_type": "code",
      "metadata": {
        "id": "rGrX0xkIvzxx"
      },
      "source": [
        "### Prediction for test data\n",
        "predict = model.predict(test_padded)"
      ],
      "execution_count": null,
      "outputs": []
    },
    {
      "cell_type": "code",
      "metadata": {
        "id": "RgGk3S7qv2O5"
      },
      "source": [
        "sample_submission = pd.read_csv('/content/drive/MyDrive/2021_봄/패럿/toxic/data/sample_submission.csv')"
      ],
      "execution_count": null,
      "outputs": []
    },
    {
      "cell_type": "code",
      "metadata": {
        "id": "4cHSnKHbv2zo"
      },
      "source": [
        "sample_submission.iloc[:, 1:] = predict\n",
        "sample_submission.to_csv(\"/content/drive/MyDrive/2021_봄/패럿/toxic/sub_0401.csv\", index=False)"
      ],
      "execution_count": null,
      "outputs": []
    },
    {
      "cell_type": "code",
      "metadata": {
        "id": "bCqDU3m0v5AP"
      },
      "source": [
        "# privare score 0.97569\n",
        "# public score 0.97403\n",
        "\n"
      ],
      "execution_count": null,
      "outputs": []
    }
  ]
}