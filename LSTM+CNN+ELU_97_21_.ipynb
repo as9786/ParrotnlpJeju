{
  "nbformat": 4,
  "nbformat_minor": 0,
  "metadata": {
    "colab": {
      "name": "LSTM+CNN+ELU_97.21%.ipynb",
      "provenance": [],
      "collapsed_sections": [],
      "mount_file_id": "1OM2TMf1Hz2RCdGjpVHN3lr8YPJQglUD6",
      "authorship_tag": "ABX9TyMQBsrU3jw9zVVa08KTf07x",
      "include_colab_link": true
    },
    "kernelspec": {
      "name": "python3",
      "display_name": "Python 3"
    },
    "language_info": {
      "name": "python"
    },
    "accelerator": "GPU"
  },
  "cells": [
    {
      "cell_type": "markdown",
      "metadata": {
        "id": "view-in-github",
        "colab_type": "text"
      },
      "source": [
        "<a href=\"https://colab.research.google.com/github/as9786/ParrotnlpJeju/blob/main/LSTM%2BCNN%2BELU_97_21_.ipynb\" target=\"_parent\"><img src=\"https://colab.research.google.com/assets/colab-badge.svg\" alt=\"Open In Colab\"/></a>"
      ]
    },
    {
      "cell_type": "markdown",
      "metadata": {
        "id": "m43YWidTzF_x"
      },
      "source": [
        "# 사전작업"
      ]
    },
    {
      "cell_type": "code",
      "metadata": {
        "id": "ZtpG5ZdlysBO"
      },
      "source": [
        "#필요한 모듈 불러오기\n",
        "import pandas as pd  \n",
        "\n",
        "from keras.layers import Dense,Input,Bidirectional,Conv1D,LSTM\n",
        "from tensorflow.keras.layers import Embedding,GlobalMaxPooling1D, GlobalAveragePooling1D, concatenate, SpatialDropout1D, Flatten\n",
        "from keras.preprocessing import text, sequence\n",
        "from keras import initializers, regularizers, constraints, optimizers, layers, callbacks\n",
        "from keras.callbacks import EarlyStopping,ModelCheckpoint\n",
        "from tensorflow.keras.models import Model\n",
        "from keras.optimizers import Adam, SGD\n",
        "\n",
        "from sklearn.model_selection import train_test_split \n",
        "\n",
        "import spacy"
      ],
      "execution_count": null,
      "outputs": []
    },
    {
      "cell_type": "code",
      "metadata": {
        "id": "rzmC3-lTzcxX"
      },
      "source": [
        "#데이터\n",
        "train_file = pd.read_csv('/content/drive/MyDrive/train.csv')\n",
        "test_file = pd.read_csv('/content/drive/MyDrive/test.csv')\n",
        "\n",
        "X_train = train_file[\"comment_text\"].str.lower()\n",
        "X_test = test_file[\"comment_text\"].str.lower()\n",
        "\n",
        "y_train = train_file[[\"toxic\", \"severe_toxic\", \"obscene\", \"threat\", \"insult\", \"identity_hate\"]].values"
      ],
      "execution_count": null,
      "outputs": []
    },
    {
      "cell_type": "code",
      "metadata": {
        "colab": {
          "base_uri": "https://localhost:8080/"
        },
        "id": "QbFoa8-Ezq2F",
        "outputId": "1978c8da-26da-45df-ac26-aa5be6a92ece"
      },
      "source": [
        "print(\"X train shape : \", X_train.shape)\n",
        "print(\"X test shape : \", X_test.shape)\n",
        "print(\"y train shape : \", y_train.shape)"
      ],
      "execution_count": null,
      "outputs": [
        {
          "output_type": "stream",
          "text": [
            "X train shape :  (159571,)\n",
            "X test shape :  (153164,)\n",
            "y train shape :  (159571, 6)\n"
          ],
          "name": "stdout"
        }
      ]
    },
    {
      "cell_type": "markdown",
      "metadata": {
        "id": "QKa7Hs4K2mRV"
      },
      "source": [
        "# 토큰화 작업하기"
      ]
    },
    {
      "cell_type": "code",
      "metadata": {
        "id": "sJYj7QXw2H1l"
      },
      "source": [
        "max_features=200000\n",
        "maxlen=200\n",
        "embed_size=300\n",
        "\n",
        "tok=text.Tokenizer(num_words=max_features,lower=True)\n",
        "tok.fit_on_texts(list(X_train)+list(X_test))\n",
        "X_train=tok.texts_to_sequences(X_train)\n",
        "X_test=tok.texts_to_sequences(X_test)\n",
        "x_train=sequence.pad_sequences(X_train,maxlen=maxlen)\n",
        "x_test=sequence.pad_sequences(X_test,maxlen=maxlen)"
      ],
      "execution_count": null,
      "outputs": []
    },
    {
      "cell_type": "markdown",
      "metadata": {
        "id": "bdUAfao7iLNh"
      },
      "source": [
        "# 모델 구성하기"
      ]
    },
    {
      "cell_type": "code",
      "metadata": {
        "id": "5xp7oe1yx9bB"
      },
      "source": [
        "from tensorflow.compat.v1.keras.layers import CuDNNGRU, CuDNNLSTM\n",
        "from tensorflow.keras.layers import LeakyReLU,Dropout,ELU"
      ],
      "execution_count": null,
      "outputs": []
    },
    {
      "cell_type": "code",
      "metadata": {
        "colab": {
          "base_uri": "https://localhost:8080/"
        },
        "id": "xXIPf6w60zes",
        "outputId": "bd5807eb-8f43-4e08-d970-3588a03ab0d2"
      },
      "source": [
        "input = Input(shape=(maxlen, )) \n",
        "layer = Embedding(max_features, embed_size)(input)\n",
        "layer = SpatialDropout1D(0.2)(layer)\n",
        "layer = Bidirectional(CuDNNLSTM(128, return_sequences=True))(layer)\n",
        "layer =  Conv1D(64, kernel_size = 3, padding = \"valid\", kernel_initializer = \"glorot_uniform\")(layer)   \n",
        "avg_pool = GlobalAveragePooling1D()(layer)\n",
        "max_pool = GlobalMaxPooling1D()(layer)\n",
        "con = concatenate([avg_pool, max_pool])\n",
        "layer= Dense(50)(con)\n",
        "layer = ELU(alpha = 0.01)(layer)\n",
        "layer = Dropout(0.25)(layer)\n",
        "layer = Dense(6, activation = \"sigmoid\")(layer)\n",
        "model = Model(inputs = input, outputs = layer)  \n",
        "model.summary()\n",
        "model.compile(loss='binary_crossentropy',optimizer='adam',metrics=['accuracy'])"
      ],
      "execution_count": null,
      "outputs": [
        {
          "output_type": "stream",
          "text": [
            "Model: \"model\"\n",
            "__________________________________________________________________________________________________\n",
            "Layer (type)                    Output Shape         Param #     Connected to                     \n",
            "==================================================================================================\n",
            "input_1 (InputLayer)            [(None, 200)]        0                                            \n",
            "__________________________________________________________________________________________________\n",
            "embedding (Embedding)           (None, 200, 300)     60000000    input_1[0][0]                    \n",
            "__________________________________________________________________________________________________\n",
            "spatial_dropout1d (SpatialDropo (None, 200, 300)     0           embedding[0][0]                  \n",
            "__________________________________________________________________________________________________\n",
            "bidirectional (Bidirectional)   (None, 200, 256)     440320      spatial_dropout1d[0][0]          \n",
            "__________________________________________________________________________________________________\n",
            "conv1d (Conv1D)                 (None, 198, 64)      49216       bidirectional[0][0]              \n",
            "__________________________________________________________________________________________________\n",
            "global_average_pooling1d (Globa (None, 64)           0           conv1d[0][0]                     \n",
            "__________________________________________________________________________________________________\n",
            "global_max_pooling1d (GlobalMax (None, 64)           0           conv1d[0][0]                     \n",
            "__________________________________________________________________________________________________\n",
            "concatenate (Concatenate)       (None, 128)          0           global_average_pooling1d[0][0]   \n",
            "                                                                 global_max_pooling1d[0][0]       \n",
            "__________________________________________________________________________________________________\n",
            "dense (Dense)                   (None, 50)           6450        concatenate[0][0]                \n",
            "__________________________________________________________________________________________________\n",
            "elu (ELU)                       (None, 50)           0           dense[0][0]                      \n",
            "__________________________________________________________________________________________________\n",
            "dropout (Dropout)               (None, 50)           0           elu[0][0]                        \n",
            "__________________________________________________________________________________________________\n",
            "dense_1 (Dense)                 (None, 6)            306         dropout[0][0]                    \n",
            "==================================================================================================\n",
            "Total params: 60,496,292\n",
            "Trainable params: 60,496,292\n",
            "Non-trainable params: 0\n",
            "__________________________________________________________________________________________________\n"
          ],
          "name": "stdout"
        }
      ]
    },
    {
      "cell_type": "code",
      "metadata": {
        "colab": {
          "base_uri": "https://localhost:8080/"
        },
        "id": "igNPd9BC3F6i",
        "outputId": "e341cc99-6a04-4988-c929-7f210b1a26bc"
      },
      "source": [
        "hist = model.fit(x_train,y_train,batch_size=32, epochs=2, validation_split = 0.2,verbose=1)"
      ],
      "execution_count": null,
      "outputs": [
        {
          "output_type": "stream",
          "text": [
            "Epoch 1/2\n",
            "3990/3990 [==============================] - 2203s 552ms/step - loss: 0.0545 - accuracy: 0.9515 - val_loss: 0.0473 - val_accuracy: 0.9941\n",
            "Epoch 2/2\n",
            "3990/3990 [==============================] - 2184s 547ms/step - loss: 0.0401 - accuracy: 0.9663 - val_loss: 0.0455 - val_accuracy: 0.9941\n"
          ],
          "name": "stdout"
        }
      ]
    },
    {
      "cell_type": "code",
      "metadata": {
        "colab": {
          "base_uri": "https://localhost:8080/",
          "height": 499
        },
        "id": "rf_gpwxuzORO",
        "outputId": "f2aacbbc-53d3-4031-9a71-5b46c2804c51"
      },
      "source": [
        "import matplotlib.pyplot as plt\n",
        "acc = hist.history['accuracy']\n",
        "val_acc = hist.history['val_accuracy']\n",
        "\n",
        "loss = hist.history['loss']\n",
        "val_loss = hist.history['val_loss']\n",
        "\n",
        "plt.figure(figsize=(8, 8))\n",
        "plt.subplot(2, 1, 1)\n",
        "plt.plot(acc, label='Training Accuracy')\n",
        "plt.plot(val_acc, label='Validation Accuracy')\n",
        "plt.legend(loc='lower right')\n",
        "plt.ylabel('Accuracy')\n",
        "plt.ylim([min(plt.ylim()),1])\n",
        "plt.title('Training and Validation Accuracy')\n",
        "\n",
        "plt.subplot(2, 1, 2)\n",
        "plt.plot(loss, label='Training Loss')\n",
        "plt.plot(val_loss, label='Validation Loss')\n",
        "plt.legend(loc='upper right')\n",
        "plt.ylabel('Cross Entropy')\n",
        "plt.ylim([0,max(plt.ylim())])\n",
        "plt.title('Training and Validation Loss')\n",
        "plt.show()"
      ],
      "execution_count": null,
      "outputs": [
        {
          "output_type": "display_data",
          "data": {
            "image/png": "[encoded data removed]",
            "text/plain": [
              "<Figure size 576x576 with 2 Axes>"
            ]
          },
          "metadata": {
            "tags": [],
            "needs_background": "light"
          }
        }
      ]
    },
    {
      "cell_type": "code",
      "metadata": {
        "id": "HtLoxeP83KIi"
      },
      "source": [
        "model.save('/content/drive/MyDrive/toxic1_model0401.h5')"
      ],
      "execution_count": null,
      "outputs": []
    },
    {
      "cell_type": "code",
      "metadata": {
        "colab": {
          "base_uri": "https://localhost:8080/"
        },
        "id": "ufWWsleN7W2X",
        "outputId": "5dde3231-5c5b-480a-dd16-4650efa8fdfd"
      },
      "source": [
        "y_pred = model.predict(x_test,batch_size=32,verbose=1)"
      ],
      "execution_count": null,
      "outputs": [
        {
          "output_type": "stream",
          "text": [
            "4787/4787 [==============================] - 51s 11ms/step\n"
          ],
          "name": "stdout"
        }
      ]
    },
    {
      "cell_type": "code",
      "metadata": {
        "id": "HOXKB1Zq7iyi"
      },
      "source": [
        "submission = pd.read_csv('/content/drive/MyDrive/sample_submission.csv')\n",
        "submission[[\"toxic\", \"severe_toxic\", \"obscene\", \"threat\", \"insult\", \"identity_hate\"]] = y_pred\n",
        "submission.to_csv('/content/drive/MyDrive/submission5.csv', index=False)"
      ],
      "execution_count": null,
      "outputs": []
    },
    {
      "cell_type": "code",
      "metadata": {
        "id": "8v10UffLx6h9"
      },
      "source": [
        ""
      ],
      "execution_count": null,
      "outputs": []
    }
  ]
}