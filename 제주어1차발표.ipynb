{
  "nbformat": 4,
  "nbformat_minor": 0,
  "metadata": {
    "colab": {
      "name": "제주어1차발표.ipynb",
      "provenance": [],
      "collapsed_sections": [
        "BBDkOX-GvxAy"
      ],
      "mount_file_id": "1M4cn5gX4O1MAS1Qyg6JvnH8oyZmxB2ij",
      "authorship_tag": "ABX9TyMPVKdwmnXwJsKdtlaPoa7B",
      "include_colab_link": true
    },
    "kernelspec": {
      "name": "python3",
      "display_name": "Python 3"
    },
    "language_info": {
      "name": "python"
    },
    "accelerator": "GPU"
  },
  "cells": [
    {
      "cell_type": "markdown",
      "metadata": {
        "id": "view-in-github",
        "colab_type": "text"
      },
      "source": [
        "<a href=\"https://colab.research.google.com/github/as9786/ParrotnlpJeju/blob/main/%EC%A0%9C%EC%A3%BC%EC%96%B41%EC%B0%A8%EB%B0%9C%ED%91%9C.ipynb\" target=\"_parent\"><img src=\"https://colab.research.google.com/assets/colab-badge.svg\" alt=\"Open In Colab\"/></a>"
      ]
    },
    {
      "cell_type": "code",
      "metadata": {
        "id": "cdadz_YARfIY",
        "colab": {
          "base_uri": "https://localhost:8080/"
        },
        "outputId": "e481f0ed-3cb3-4f27-da11-b6bc5960fd73"
      },
      "source": [
        "#모듈 불러오기\n",
        "import pandas as pd\n",
        "import numpy as np\n",
        "import nltk\n",
        "#from nltk.tokenize import sent_tokenize \n",
        "from nltk.tokenize import word_tokenize\n",
        "nltk.download('punkt')\n",
        "from sklearn.model_selection import train_test_split\n",
        "import re\n",
        "#import urllib.request\n",
        "#from soynlp import DoublespaceLineCorpus\n",
        "#from soynlp.word import WordExtractor"
      ],
      "execution_count": null,
      "outputs": [
        {
          "output_type": "stream",
          "text": [
            "[nltk_data] Downloading package punkt to /root/nltk_data...\n",
            "[nltk_data]   Package punkt is already up-to-date!\n"
          ],
          "name": "stdout"
        }
      ]
    },
    {
      "cell_type": "code",
      "metadata": {
        "id": "eCdtNdwX0ard"
      },
      "source": [
        "#urllib.request.urlretrieve(\"https://raw.githubusercontent.com/lovit/soynlp/master/tutorials/2016-10-20.txt\", filename=\"2016-10-20.txt\")"
      ],
      "execution_count": null,
      "outputs": []
    },
    {
      "cell_type": "markdown",
      "metadata": {
        "id": "BBDkOX-GvxAy"
      },
      "source": [
        "# 국립"
      ]
    },
    {
      "cell_type": "code",
      "metadata": {
        "id": "-4S_AV2IgA7r"
      },
      "source": [
        "# 파일 불러오는 함수\n",
        "def makefile(i):\n",
        "  path = r'/content/drive/MyDrive/Jeju/구술발화 ({}).xlsx'.format(i)\n",
        "  df = pd.read_excel(path,index_col=0)\n",
        "  df.columns = ['발화','표준어 전사']\n",
        "  df = df.iloc[7:]\n",
        "  return df"
      ],
      "execution_count": null,
      "outputs": []
    },
    {
      "cell_type": "code",
      "metadata": {
        "id": "ras1LwN4SFJP"
      },
      "source": [
        "data = makefile(0)"
      ],
      "execution_count": null,
      "outputs": []
    },
    {
      "cell_type": "code",
      "metadata": {
        "id": "wFSdDUacgVZ2"
      },
      "source": [
        "for i in range(1,25):\n",
        "  df=makefile(i)\n",
        "  data = pd.concat([data,df])"
      ],
      "execution_count": null,
      "outputs": []
    },
    {
      "cell_type": "code",
      "metadata": {
        "colab": {
          "base_uri": "https://localhost:8080/",
          "height": 202
        },
        "id": "uBgZ5ze3SUqI",
        "outputId": "7535a1c8-2423-4e7d-977e-af595b431e25"
      },
      "source": [
        "data.tail()"
      ],
      "execution_count": null,
      "outputs": [
        {
          "output_type": "execute_result",
          "data": {
            "text/html": [
              "<div>\n",
              "<style scoped>\n",
              "    .dataframe tbody tr th:only-of-type {\n",
              "        vertical-align: middle;\n",
              "    }\n",
              "\n",
              "    .dataframe tbody tr th {\n",
              "        vertical-align: top;\n",
              "    }\n",
              "\n",
              "    .dataframe thead th {\n",
              "        text-align: right;\n",
              "    }\n",
              "</style>\n",
              "<table border=\"1\" class=\"dataframe\">\n",
              "  <thead>\n",
              "    <tr style=\"text-align: right;\">\n",
              "      <th></th>\n",
              "      <th>발화</th>\n",
              "      <th>표준어 전사</th>\n",
              "    </tr>\n",
              "  </thead>\n",
              "  <tbody>\n",
              "    <tr>\n",
              "      <th>제보자</th>\n",
              "      <td>2 게고, 쩌 어디서 홀/림 이야기 헙써게. 그거허민 뒐 꺼 아니. 난 묻 뜨러봗쪄...</td>\n",
              "      <td>NaN</td>\n",
              "    </tr>\n",
              "    <tr>\n",
              "      <th>조사자</th>\n",
              "      <td>왜냐면 우리도 커 오면서 옛날.</td>\n",
              "      <td>왜냐면 우리도 커 오면서 옛날.</td>\n",
              "    </tr>\n",
              "    <tr>\n",
              "      <th>조사자</th>\n",
              "      <td>아버님이 홀렷다는 게 아니라 다른 사람이 홀림을 당헷다.</td>\n",
              "      <td>아버님이 홀렸다는 것이 아니라 다른 사람이 홀림을 당했다.</td>\n",
              "    </tr>\n",
              "    <tr>\n",
              "      <th>조사자</th>\n",
              "      <td>그니까 어렸을 때 거이 우리 집 제삿집에서 옛날에 뭐뭐 헷저 허는 말을 나가 들어본...</td>\n",
              "      <td>그러니까 어렸을 때 거의 우리 집 제삿집에서 옛날에 뭐뭐 했다 하는 말을 내가 들어...</td>\n",
              "    </tr>\n",
              "    <tr>\n",
              "      <th>조사자</th>\n",
              "      <td>잠시 저 쉬엇다가 하겟습니다.</td>\n",
              "      <td>잠시 저 쉬었다가 하겠습니다.</td>\n",
              "    </tr>\n",
              "  </tbody>\n",
              "</table>\n",
              "</div>"
            ],
            "text/plain": [
              "                                                    발화                                             표준어 전사\n",
              "제보자  2 게고, 쩌 어디서 홀/림 이야기 헙써게. 그거허민 뒐 꺼 아니. 난 묻 뜨러봗쪄...                                                NaN\n",
              "조사자                                  왜냐면 우리도 커 오면서 옛날.                                  왜냐면 우리도 커 오면서 옛날.\n",
              "조사자                    아버님이 홀렷다는 게 아니라 다른 사람이 홀림을 당헷다.                   아버님이 홀렸다는 것이 아니라 다른 사람이 홀림을 당했다.\n",
              "조사자  그니까 어렸을 때 거이 우리 집 제삿집에서 옛날에 뭐뭐 헷저 허는 말을 나가 들어본...  그러니까 어렸을 때 거의 우리 집 제삿집에서 옛날에 뭐뭐 했다 하는 말을 내가 들어...\n",
              "조사자                                   잠시 저 쉬엇다가 하겟습니다.                                   잠시 저 쉬었다가 하겠습니다."
            ]
          },
          "metadata": {
            "tags": []
          },
          "execution_count": 5
        }
      ]
    },
    {
      "cell_type": "code",
      "metadata": {
        "id": "6nNo16pAS9ib"
      },
      "source": [
        "data = data.dropna(axis=0)"
      ],
      "execution_count": null,
      "outputs": []
    },
    {
      "cell_type": "code",
      "metadata": {
        "colab": {
          "base_uri": "https://localhost:8080/"
        },
        "id": "GBljsBlAUUQN",
        "outputId": "fd290e70-19e0-451b-8951-3c57062845dd"
      },
      "source": [
        "data.info()"
      ],
      "execution_count": null,
      "outputs": [
        {
          "output_type": "stream",
          "text": [
            "<class 'pandas.core.frame.DataFrame'>\n",
            "Index: 10203 entries, 조사자 to 조사자\n",
            "Data columns (total 2 columns):\n",
            " #   Column  Non-Null Count  Dtype \n",
            "---  ------  --------------  ----- \n",
            " 0   발화      10203 non-null  object\n",
            " 1   표준어 전사  10203 non-null  object\n",
            "dtypes: object(2)\n",
            "memory usage: 239.1+ KB\n"
          ],
          "name": "stdout"
        }
      ]
    },
    {
      "cell_type": "code",
      "metadata": {
        "id": "qFJXiGrPfgLw"
      },
      "source": [
        "data.index = range(0,10203)"
      ],
      "execution_count": null,
      "outputs": []
    },
    {
      "cell_type": "code",
      "metadata": {
        "colab": {
          "base_uri": "https://localhost:8080/",
          "height": 202
        },
        "id": "DxGIDUirii7V",
        "outputId": "ff1937f5-5ff6-439a-9323-2e57b6cab541"
      },
      "source": [
        "data.tail()"
      ],
      "execution_count": null,
      "outputs": [
        {
          "output_type": "execute_result",
          "data": {
            "text/html": [
              "<div>\n",
              "<style scoped>\n",
              "    .dataframe tbody tr th:only-of-type {\n",
              "        vertical-align: middle;\n",
              "    }\n",
              "\n",
              "    .dataframe tbody tr th {\n",
              "        vertical-align: top;\n",
              "    }\n",
              "\n",
              "    .dataframe thead th {\n",
              "        text-align: right;\n",
              "    }\n",
              "</style>\n",
              "<table border=\"1\" class=\"dataframe\">\n",
              "  <thead>\n",
              "    <tr style=\"text-align: right;\">\n",
              "      <th></th>\n",
              "      <th>발화</th>\n",
              "      <th>표준어 전사</th>\n",
              "    </tr>\n",
              "  </thead>\n",
              "  <tbody>\n",
              "    <tr>\n",
              "      <th>10198</th>\n",
              "      <td>게난 소/삼사건 때. 소/삼 (웃음) 거보다 옛날에.</td>\n",
              "      <td>그러니까 사삼사건 때. 사삼. (웃음) 거보다 옛날에.</td>\n",
              "    </tr>\n",
              "    <tr>\n",
              "      <th>10199</th>\n",
              "      <td>왜냐면 우리도 커 오면서 옛날.</td>\n",
              "      <td>왜냐면 우리도 커 오면서 옛날.</td>\n",
              "    </tr>\n",
              "    <tr>\n",
              "      <th>10200</th>\n",
              "      <td>아버님이 홀렷다는 게 아니라 다른 사람이 홀림을 당헷다.</td>\n",
              "      <td>아버님이 홀렸다는 것이 아니라 다른 사람이 홀림을 당했다.</td>\n",
              "    </tr>\n",
              "    <tr>\n",
              "      <th>10201</th>\n",
              "      <td>그니까 어렸을 때 거이 우리 집 제삿집에서 옛날에 뭐뭐 헷저 허는 말을 나가 들어본...</td>\n",
              "      <td>그러니까 어렸을 때 거의 우리 집 제삿집에서 옛날에 뭐뭐 했다 하는 말을 내가 들어...</td>\n",
              "    </tr>\n",
              "    <tr>\n",
              "      <th>10202</th>\n",
              "      <td>잠시 저 쉬엇다가 하겟습니다.</td>\n",
              "      <td>잠시 저 쉬었다가 하겠습니다.</td>\n",
              "    </tr>\n",
              "  </tbody>\n",
              "</table>\n",
              "</div>"
            ],
            "text/plain": [
              "                                                      발화                                             표준어 전사\n",
              "10198                      게난 소/삼사건 때. 소/삼 (웃음) 거보다 옛날에.                     그러니까 사삼사건 때. 사삼. (웃음) 거보다 옛날에.\n",
              "10199                                  왜냐면 우리도 커 오면서 옛날.                                  왜냐면 우리도 커 오면서 옛날.\n",
              "10200                    아버님이 홀렷다는 게 아니라 다른 사람이 홀림을 당헷다.                   아버님이 홀렸다는 것이 아니라 다른 사람이 홀림을 당했다.\n",
              "10201  그니까 어렸을 때 거이 우리 집 제삿집에서 옛날에 뭐뭐 헷저 허는 말을 나가 들어본...  그러니까 어렸을 때 거의 우리 집 제삿집에서 옛날에 뭐뭐 했다 하는 말을 내가 들어...\n",
              "10202                                   잠시 저 쉬엇다가 하겟습니다.                                   잠시 저 쉬었다가 하겠습니다."
            ]
          },
          "metadata": {
            "tags": []
          },
          "execution_count": 9
        }
      ]
    },
    {
      "cell_type": "markdown",
      "metadata": {
        "id": "2Ixvo71jv4p8"
      },
      "source": [
        "# Kaggle"
      ]
    },
    {
      "cell_type": "code",
      "metadata": {
        "id": "9VxKE8PPimBV"
      },
      "source": [
        "# 데이터불러오기\n",
        "f = open(\"/content/drive/MyDrive/archive/je.dev\", 'r')\n",
        "line1 = f.readlines()\n",
        "#print(line1)\n",
        "f.close()\n",
        "\n",
        "f = open(\"/content/drive/MyDrive/archive/ko.dev\", 'r')\n",
        "line2 = f.readlines()\n",
        "#print(line2)\n",
        "f.close()\n",
        "\n",
        "f = open(\"/content/drive/MyDrive/archive/je.test\", 'r')\n",
        "line3 = f.readlines()\n",
        "f.close()\n",
        "\n",
        "f = open(\"/content/drive/MyDrive/archive/ko.test\", 'r')\n",
        "line4 = f.readlines()\n",
        "f.close()\n",
        "\n",
        "f = open(\"/content/drive/MyDrive/archive/je.train\", 'r')\n",
        "line5 = f.readlines()\n",
        "f.close()\n",
        "\n",
        "f = open(\"/content/drive/MyDrive/archive/ko.train\", 'r')\n",
        "line6 = f.readlines()\n",
        "f.close()"
      ],
      "execution_count": null,
      "outputs": []
    },
    {
      "cell_type": "code",
      "metadata": {
        "id": "1pGXPj6R7mYK"
      },
      "source": [
        "# data -> dataFrame\n",
        "df1 = pd.DataFrame(line1)\n",
        "df2 = pd.DataFrame(line2)\n",
        "df3 = pd.DataFrame(line3)\n",
        "df4 = pd.DataFrame(line4)\n",
        "df5 = pd.DataFrame(line5)\n",
        "df6 = pd.DataFrame(line6)"
      ],
      "execution_count": null,
      "outputs": []
    },
    {
      "cell_type": "code",
      "metadata": {
        "id": "pfYMqI7b8C-4"
      },
      "source": [
        "# data concat\n",
        "dfc1 = pd.concat([df1,df2],1)\n",
        "dfc2 = pd.concat([df3,df4],1)\n",
        "dfc3 = pd.concat([df5,df6],1)"
      ],
      "execution_count": null,
      "outputs": []
    },
    {
      "cell_type": "code",
      "metadata": {
        "id": "8P2A9d2U8TNE"
      },
      "source": [
        "#최종데이터\n",
        "dfac = pd.concat([dfc1,dfc2,dfc3],0)"
      ],
      "execution_count": null,
      "outputs": []
    },
    {
      "cell_type": "code",
      "metadata": {
        "id": "RnjjUlAG9LAq"
      },
      "source": [
        "#dataframe 열 이름 지정\n",
        "dfac.columns = ['발화','표준어 전사']"
      ],
      "execution_count": null,
      "outputs": []
    },
    {
      "cell_type": "markdown",
      "metadata": {
        "id": "04Fp4tZk1ZCP"
      },
      "source": [
        "열 이름 쉬운걸로 바꾸는 게 좋을 듯??..."
      ]
    },
    {
      "cell_type": "code",
      "metadata": {
        "colab": {
          "base_uri": "https://localhost:8080/",
          "height": 204
        },
        "id": "oGXzPJ6C8tbp",
        "outputId": "8ac00f26-cceb-4608-e55c-4ed8b63881c4"
      },
      "source": [
        "# dataframe 관찰\n",
        "dfac.head()"
      ],
      "execution_count": null,
      "outputs": [
        {
          "output_type": "execute_result",
          "data": {
            "text/html": [
              "<div>\n",
              "<style scoped>\n",
              "    .dataframe tbody tr th:only-of-type {\n",
              "        vertical-align: middle;\n",
              "    }\n",
              "\n",
              "    .dataframe tbody tr th {\n",
              "        vertical-align: top;\n",
              "    }\n",
              "\n",
              "    .dataframe thead th {\n",
              "        text-align: right;\n",
              "    }\n",
              "</style>\n",
              "<table border=\"1\" class=\"dataframe\">\n",
              "  <thead>\n",
              "    <tr style=\"text-align: right;\">\n",
              "      <th></th>\n",
              "      <th>발화</th>\n",
              "      <th>표준어 전사</th>\n",
              "    </tr>\n",
              "  </thead>\n",
              "  <tbody>\n",
              "    <tr>\n",
              "      <th>0</th>\n",
              "      <td>경ᄒᆞ민 이제 그것에 ᄀᆞ치 씨에 버물려지민 걸름에 다 ᄇᆞᆲ을 때 ᄇᆞᆲ앙 요만씩...</td>\n",
              "      <td>그렇게 하면 이제 그것에 같이 씨에 섞어지면 거름에 다 밟을 때 밟아서 이만큼씩 이...</td>\n",
              "    </tr>\n",
              "    <tr>\n",
              "      <th>1</th>\n",
              "      <td>바느질허는 사름덜도 먹곡 허민 그 관 짜는 사름덜도 먹곡 허주게 겐 관에 담은 후엔...</td>\n",
              "      <td>바느질하는 사람들도 먹고 하면 그 관 짜는 사람들도 먹고 하지 . 그래서 관에 담은...</td>\n",
              "    </tr>\n",
              "    <tr>\n",
              "      <th>2</th>\n",
              "      <td>아 , 잔치 때도 ?\\n</td>\n",
              "      <td>아 , 잔치 때도 ?\\n</td>\n",
              "    </tr>\n",
              "    <tr>\n",
              "      <th>3</th>\n",
              "      <td>옛날은 육식헤영 노리 , 꿩 .\\n</td>\n",
              "      <td>옛날은 육식해서 노루 , 꿩 .\\n</td>\n",
              "    </tr>\n",
              "    <tr>\n",
              "      <th>4</th>\n",
              "      <td>어 . 그런 것도게 강 사 오라 질 때나 먹지 무신 .\\n</td>\n",
              "      <td>어 . 그런 것도 가서 사 올 수 있을 때나 먹지 무슨 .\\n</td>\n",
              "    </tr>\n",
              "  </tbody>\n",
              "</table>\n",
              "</div>"
            ],
            "text/plain": [
              "                                                  발화                                             표준어 전사\n",
              "0  경ᄒᆞ민 이제 그것에 ᄀᆞ치 씨에 버물려지민 걸름에 다 ᄇᆞᆲ을 때 ᄇᆞᆲ앙 요만씩...  그렇게 하면 이제 그것에 같이 씨에 섞어지면 거름에 다 밟을 때 밟아서 이만큼씩 이...\n",
              "1  바느질허는 사름덜도 먹곡 허민 그 관 짜는 사름덜도 먹곡 허주게 겐 관에 담은 후엔...  바느질하는 사람들도 먹고 하면 그 관 짜는 사람들도 먹고 하지 . 그래서 관에 담은...\n",
              "2                                      아 , 잔치 때도 ?\\n                                      아 , 잔치 때도 ?\\n\n",
              "3                                옛날은 육식헤영 노리 , 꿩 .\\n                                옛날은 육식해서 노루 , 꿩 .\\n\n",
              "4                   어 . 그런 것도게 강 사 오라 질 때나 먹지 무신 .\\n                 어 . 그런 것도 가서 사 올 수 있을 때나 먹지 무슨 .\\n"
            ]
          },
          "metadata": {
            "tags": []
          },
          "execution_count": 11
        }
      ]
    },
    {
      "cell_type": "code",
      "metadata": {
        "colab": {
          "base_uri": "https://localhost:8080/"
        },
        "id": "p1N5GdZ741ni",
        "outputId": "287fbbef-679d-42d4-b9d5-94069b05fe50"
      },
      "source": [
        "dfac['발화'][0]"
      ],
      "execution_count": null,
      "outputs": [
        {
          "output_type": "execute_result",
          "data": {
            "text/plain": [
              "0    경ᄒᆞ민 이제 그것에 ᄀᆞ치 씨에 버물려지민 걸름에 다 ᄇᆞᆲ을 때 ᄇᆞᆲ앙 요만씩...\n",
              "0    경헤도 거 ᄉᆞᆯᄉᆞᆯ 거려뒁 먹주 . 거 안 먹진 안허여 . 어떵 옛날 삶사 삶 ...\n",
              "0                                           판관헤난 거 ?\\n\n",
              "Name: 발화, dtype: object"
            ]
          },
          "metadata": {
            "tags": []
          },
          "execution_count": 64
        }
      ]
    },
    {
      "cell_type": "code",
      "metadata": {
        "colab": {
          "base_uri": "https://localhost:8080/"
        },
        "id": "3-In6hyE8yLG",
        "outputId": "7a8c542c-e6ca-4f0f-fde2-bd0cbfdb0e9f"
      },
      "source": [
        "#dataframe 정보\n",
        "dfac.info()"
      ],
      "execution_count": null,
      "outputs": [
        {
          "output_type": "stream",
          "text": [
            "<class 'pandas.core.frame.DataFrame'>\n",
            "Int64Index: 170356 entries, 0 to 160355\n",
            "Data columns (total 2 columns):\n",
            " #   Column  Non-Null Count   Dtype \n",
            "---  ------  --------------   ----- \n",
            " 0   발화      170356 non-null  object\n",
            " 1   표준어 전사  170356 non-null  object\n",
            "dtypes: object(2)\n",
            "memory usage: 3.9+ MB\n"
          ],
          "name": "stdout"
        }
      ]
    },
    {
      "cell_type": "code",
      "metadata": {
        "colab": {
          "base_uri": "https://localhost:8080/"
        },
        "id": "x73q1Ik89BNi",
        "outputId": "c8c5e2b4-2e8d-40ad-e77a-4c012db8a6f9"
      },
      "source": [
        "#dataframe 차원\n",
        "dfac.shape"
      ],
      "execution_count": null,
      "outputs": [
        {
          "output_type": "execute_result",
          "data": {
            "text/plain": [
              "(170356, 2)"
            ]
          },
          "metadata": {
            "tags": []
          },
          "execution_count": 13
        }
      ]
    },
    {
      "cell_type": "code",
      "metadata": {
        "id": "NXuxKXWvtp67"
      },
      "source": [
        "x = dfac['발화']\n",
        "y = dfac['표준어 전사']"
      ],
      "execution_count": null,
      "outputs": []
    },
    {
      "cell_type": "code",
      "metadata": {
        "id": "X8qJBLFVwOfX"
      },
      "source": [
        "# data 나누기\n",
        "#x_train,x_test,y_train,y_test = train_test_split(x,y,test_size=0.3,shuffle=True,random_state=506)"
      ],
      "execution_count": null,
      "outputs": []
    },
    {
      "cell_type": "code",
      "metadata": {
        "id": "RfQPECxOyQvr"
      },
      "source": [
        "# dataframe 내용 문장별로 잘라서 list에 저장\n",
        "# l로 전체 토큰화된 단어 수 확인\n",
        "xtok = []\n",
        "l = 0\n",
        "for i in range(len(x)):\n",
        "  tok = word_tokenize(x.values[i])\n",
        "  xtok.append(tok)\n",
        "  l += len(tok)"
      ],
      "execution_count": null,
      "outputs": []
    },
    {
      "cell_type": "code",
      "metadata": {
        "colab": {
          "base_uri": "https://localhost:8080/"
        },
        "id": "KkJxXnnguKvu",
        "outputId": "6f4d4f48-e1ab-4f2d-ee7b-4aabf8b84427"
      },
      "source": [
        "type(xtok)"
      ],
      "execution_count": null,
      "outputs": [
        {
          "output_type": "execute_result",
          "data": {
            "text/plain": [
              "list"
            ]
          },
          "metadata": {
            "tags": []
          },
          "execution_count": 24
        }
      ]
    },
    {
      "cell_type": "code",
      "metadata": {
        "colab": {
          "base_uri": "https://localhost:8080/"
        },
        "id": "nHhBVMcwyiK1",
        "outputId": "32bf6418-099f-4f46-c0a8-c56cc16d1d74"
      },
      "source": [
        "#첫 번째 문장 확인\n",
        "xtok[0]"
      ],
      "execution_count": null,
      "outputs": [
        {
          "output_type": "execute_result",
          "data": {
            "text/plain": [
              "['경ᄒᆞ민',\n",
              " '이제',\n",
              " '그것에',\n",
              " 'ᄀᆞ치',\n",
              " '씨에',\n",
              " '버물려지민',\n",
              " '걸름에',\n",
              " '다',\n",
              " 'ᄇᆞᆲ을',\n",
              " '때',\n",
              " 'ᄇᆞᆲ앙',\n",
              " '요만씩요만씩',\n",
              " '다',\n",
              " '뿌려노민이',\n",
              " ',',\n",
              " '그것에',\n",
              " '붙엉',\n",
              " '씨가',\n",
              " '나오민',\n",
              " 'ᄒᆞ꼼',\n",
              " '걸어라게',\n",
              " '.',\n",
              " '그냥',\n",
              " '가는',\n",
              " '건',\n",
              " '쉡씨',\n",
              " ',',\n",
              " '그냥',\n",
              " '걸름',\n",
              " '아니',\n",
              " '헹',\n",
              " '그냥',\n",
              " '씨삐엉',\n",
              " '가는',\n",
              " '건',\n",
              " '그것엔',\n",
              " '걸름이',\n",
              " '들어가난',\n",
              " 'ᄒᆞ\\uf000\\uf000\\uf000',\n",
              " '잘',\n",
              " '뒈어라게',\n",
              " '밀랑밀랑하게',\n",
              " '.']"
            ]
          },
          "metadata": {
            "tags": []
          },
          "execution_count": 23
        }
      ]
    },
    {
      "cell_type": "code",
      "metadata": {
        "colab": {
          "base_uri": "https://localhost:8080/"
        },
        "id": "XosHUVvh1J1O",
        "outputId": "5a86a4de-3ffa-411a-9b7a-a6c0353fac38"
      },
      "source": [
        "#data 크기 확인\n",
        "print(\"제주어 문장 수 : {}\".format(len(xtok)))\n",
        "print(\"제주어 단어수 : {}\".format(l))"
      ],
      "execution_count": null,
      "outputs": [
        {
          "output_type": "stream",
          "text": [
            "제주어 문장 수 : 170356\n",
            "제주어 단어수 : 1421723\n",
            "ᄒᆞᆫ\n"
          ],
          "name": "stdout"
        }
      ]
    },
    {
      "cell_type": "code",
      "metadata": {
        "id": "0YXDZyfJu7Pq"
      },
      "source": [
        "# 한글로만 이루어진 data 갯수 사전 만들기\n",
        "frq = nltk.FreqDist(w for i in range(170356) for w in xtok[i] if re.search('[가-힣]+',w))"
      ],
      "execution_count": null,
      "outputs": []
    },
    {
      "cell_type": "code",
      "metadata": {
        "colab": {
          "base_uri": "https://localhost:8080/"
        },
        "id": "Vjudlq4rvDc2",
        "outputId": "8149c152-2681-40aa-a0c5-66b708e24eec"
      },
      "source": [
        "# 개수 내림차순으로 표시\n",
        "frq.most_common"
      ],
      "execution_count": null,
      "outputs": [
        {
          "output_type": "execute_result",
          "data": {
            "text/plain": [
              "<bound method Counter.most_common of FreqDist({'그': 21616, '거': 21039, '예': 18102, '아': 10865, '안': 10465, '저': 8335, '응': 8091, '영': 8039, '다': 7212, '이제': 6930, ...})>"
            ]
          },
          "metadata": {
            "tags": []
          },
          "execution_count": 47
        }
      ]
    },
    {
      "cell_type": "code",
      "metadata": {
        "id": "gd2cr3VRxD2m"
      },
      "source": [
        "# 한글이외로 이루어진 data 갯수 사전 만들기\n",
        "frq2 = nltk.FreqDist(w for i in range(170356) for w in xtok[i] if re.search('[^가-힣]+',w))"
      ],
      "execution_count": null,
      "outputs": []
    },
    {
      "cell_type": "code",
      "metadata": {
        "colab": {
          "base_uri": "https://localhost:8080/"
        },
        "id": "xt0nYv4mxH_M",
        "outputId": "11f1cc25-9cb7-4a3c-dd66-c958a1c14aa5"
      },
      "source": [
        "# 개수 내림차순으로 표시\n",
        "frq2.most_common"
      ],
      "execution_count": null,
      "outputs": [
        {
          "output_type": "execute_result",
          "data": {
            "text/plain": [
              "<bound method Counter.most_common of FreqDist({'.': 181076, ',': 62148, '?': 46943, 'ᄒᆞᆫ': 5685, 'ᄒᆞ는': 916, 'ᄒᆞ영': 892, 'ᄒᆞ민': 877, 'ᄋᆞ': 746, 'ᄒᆞ곡': 691, 'ᄒᆞ꼼': 676, ...})>"
            ]
          },
          "metadata": {
            "tags": []
          },
          "execution_count": 49
        }
      ]
    },
    {
      "cell_type": "code",
      "metadata": {
        "id": "RLiEshpmxwLz"
      },
      "source": [
        "# 두 글자 한글로만 이루어진 data 갯수 사전 만들기\n",
        "frq3 = nltk.FreqDist(w for i in range(170356) for w in xtok[i] if re.search('[가-힣]{2}',w))"
      ],
      "execution_count": null,
      "outputs": []
    },
    {
      "cell_type": "code",
      "metadata": {
        "colab": {
          "base_uri": "https://localhost:8080/"
        },
        "id": "_hucfhhIzvQT",
        "outputId": "03426d3e-f84f-47fd-ddc0-0812bd4b5854"
      },
      "source": [
        "frq3.most_common"
      ],
      "execution_count": null,
      "outputs": [
        {
          "output_type": "execute_result",
          "data": {
            "text/plain": [
              "<bound method Counter.most_common of FreqDist({'이제': 6930, '그거': 6109, '우리': 4403, '허는': 4334, '아니': 4033, '그런': 4003, '게난': 3890, '그냥': 3499, '허민': 3304, '이젠': 2904, ...})>"
            ]
          },
          "metadata": {
            "tags": []
          },
          "execution_count": 63
        }
      ]
    },
    {
      "cell_type": "markdown",
      "metadata": {
        "id": "NiSVykECxO9-"
      },
      "source": [
        "아래 아자가 한글 이외로 분류됨..."
      ]
    },
    {
      "cell_type": "markdown",
      "metadata": {
        "id": "DDWZ5uyowL8Z"
      },
      "source": [
        "# 최종데이터"
      ]
    },
    {
      "cell_type": "code",
      "metadata": {
        "colab": {
          "base_uri": "https://localhost:8080/",
          "height": 202
        },
        "id": "o1EwkLEv8uOK",
        "outputId": "c69a296e-24f7-4e4a-edb6-7822039832ed"
      },
      "source": [
        "JD = pd.concat([data,dfac],0)\n",
        "JD.index = range(180559)\n",
        "JD.tail()"
      ],
      "execution_count": null,
      "outputs": [
        {
          "output_type": "execute_result",
          "data": {
            "text/html": [
              "<div>\n",
              "<style scoped>\n",
              "    .dataframe tbody tr th:only-of-type {\n",
              "        vertical-align: middle;\n",
              "    }\n",
              "\n",
              "    .dataframe tbody tr th {\n",
              "        vertical-align: top;\n",
              "    }\n",
              "\n",
              "    .dataframe thead th {\n",
              "        text-align: right;\n",
              "    }\n",
              "</style>\n",
              "<table border=\"1\" class=\"dataframe\">\n",
              "  <thead>\n",
              "    <tr style=\"text-align: right;\">\n",
              "      <th></th>\n",
              "      <th>발화</th>\n",
              "      <th>표준어 전사</th>\n",
              "    </tr>\n",
              "  </thead>\n",
              "  <tbody>\n",
              "    <tr>\n",
              "      <th>180554</th>\n",
              "      <td>예 . 옛날에는 저기 무슨 마을접이엔 헤가지고 , 뭐 상여접도 잇어나곡 뭐 계 .\\n</td>\n",
              "      <td>예 . 옛날에는 저기 무슨 마을계라고 해가지고 , 뭐 상여계도 있어나고 뭐 계 .\\n</td>\n",
              "    </tr>\n",
              "    <tr>\n",
              "      <th>180555</th>\n",
              "      <td>ᄄᆞᆷ떼기 ?\\n</td>\n",
              "      <td>땀띠 ?\\n</td>\n",
              "    </tr>\n",
              "    <tr>\n",
              "      <th>180556</th>\n",
              "      <td>이 선흘에 . 우리 살아난 집 이제 ᄄᆞᆫ 사름 살암저마는 , 우리 친정에 살아난 .\\n</td>\n",
              "      <td>이 선흘에 . 우리 살았던 집 이제 다른 사람 살고 있지마는 , 우리 친정에 살았어...</td>\n",
              "    </tr>\n",
              "    <tr>\n",
              "      <th>180557</th>\n",
              "      <td>구신 우러근에 옛날 어른덜 주지 창 그디 더꺼근에 이 제ᄉᆞ 때나 무시거 때랑 그디...</td>\n",
              "      <td>귀신 위해서 옛날 어른들 주저리 짜서 거기 덮어서 이제야 때나 무슨 때랑 거기 가서...</td>\n",
              "    </tr>\n",
              "    <tr>\n",
              "      <th>180558</th>\n",
              "      <td>게민 고추장은 안 담강 먹엇수과 ?</td>\n",
              "      <td>그럼 고추장은 안 담가서 먹었습니까 ?</td>\n",
              "    </tr>\n",
              "  </tbody>\n",
              "</table>\n",
              "</div>"
            ],
            "text/plain": [
              "                                                       발화                                             표준어 전사\n",
              "180554    예 . 옛날에는 저기 무슨 마을접이엔 헤가지고 , 뭐 상여접도 잇어나곡 뭐 계 .\\n    예 . 옛날에는 저기 무슨 마을계라고 해가지고 , 뭐 상여계도 있어나고 뭐 계 .\\n\n",
              "180555                                          ᄄᆞᆷ떼기 ?\\n                                             땀띠 ?\\n\n",
              "180556  이 선흘에 . 우리 살아난 집 이제 ᄄᆞᆫ 사름 살암저마는 , 우리 친정에 살아난 .\\n  이 선흘에 . 우리 살았던 집 이제 다른 사람 살고 있지마는 , 우리 친정에 살았어...\n",
              "180557  구신 우러근에 옛날 어른덜 주지 창 그디 더꺼근에 이 제ᄉᆞ 때나 무시거 때랑 그디...  귀신 위해서 옛날 어른들 주저리 짜서 거기 덮어서 이제야 때나 무슨 때랑 거기 가서...\n",
              "180558                                게민 고추장은 안 담강 먹엇수과 ?                              그럼 고추장은 안 담가서 먹었습니까 ?"
            ]
          },
          "metadata": {
            "tags": []
          },
          "execution_count": 28
        }
      ]
    }
  ]
}