{
  "nbformat": 4,
  "nbformat_minor": 0,
  "metadata": {
    "colab": {
      "name": "Jeju-2.ipynb",
      "provenance": [],
      "collapsed_sections": [],
      "include_colab_link": true
    },
    "kernelspec": {
      "name": "python3",
      "display_name": "Python 3"
    },
    "language_info": {
      "name": "python"
    }
  },
  "cells": [
    {
      "cell_type": "markdown",
      "metadata": {
        "id": "view-in-github",
        "colab_type": "text"
      },
      "source": [
        "<a href=\"https://colab.research.google.com/github/as9786/ParrotnlpJeju/blob/main/Jeju_2.ipynb\" target=\"_parent\"><img src=\"https://colab.research.google.com/assets/colab-badge.svg\" alt=\"Open In Colab\"/></a>"
      ]
    },
    {
      "cell_type": "markdown",
      "metadata": {
        "id": "taM8Iv3zlopT"
      },
      "source": [
        "# 모듈 불러오기"
      ]
    },
    {
      "cell_type": "code",
      "metadata": {
        "id": "8ozmsrQcGfiQ",
        "colab": {
          "base_uri": "https://localhost:8080/"
        },
        "outputId": "1471dcea-a0d4-4588-eec9-d960b53834a6"
      },
      "source": [
        "#모듈 불러오기\n",
        "import pandas as pd\n",
        "import numpy as np\n",
        "import re\n",
        "import codecs\n",
        "import os\n",
        "import nltk\n",
        "nltk.download('punkt')\n",
        "from nltk import word_tokenize"
      ],
      "execution_count": null,
      "outputs": [
        {
          "output_type": "stream",
          "text": [
            "[nltk_data] Downloading package punkt to /root/nltk_data...\n",
            "[nltk_data]   Package punkt is already up-to-date!\n"
          ],
          "name": "stdout"
        }
      ]
    },
    {
      "cell_type": "code",
      "metadata": {
        "colab": {
          "base_uri": "https://localhost:8080/"
        },
        "id": "VdZ8zb_HfJU8",
        "outputId": "542d6e3e-4c1c-4c0e-bd81-b2600daf7f3c"
      },
      "source": [
        "!pip install git+https://github.com/haven-jeon/PyKoSpacing.git"
      ],
      "execution_count": null,
      "outputs": [
        {
          "output_type": "stream",
          "text": [
            "Collecting git+https://github.com/haven-jeon/PyKoSpacing.git\n",
            "  Cloning https://github.com/haven-jeon/PyKoSpacing.git to /tmp/pip-req-build-pjk1vh5l\n",
            "  Running command git clone -q https://github.com/haven-jeon/PyKoSpacing.git /tmp/pip-req-build-pjk1vh5l\n",
            "Requirement already satisfied (use --upgrade to upgrade): pykospacing==0.4 from git+https://github.com/haven-jeon/PyKoSpacing.git in /usr/local/lib/python3.7/dist-packages\n",
            "Requirement already satisfied: tensorflow==2.4.0 in /usr/local/lib/python3.7/dist-packages (from pykospacing==0.4) (2.4.0)\n",
            "Requirement already satisfied: keras>=2.4.3 in /usr/local/lib/python3.7/dist-packages (from pykospacing==0.4) (2.4.3)\n",
            "Requirement already satisfied: h5py==2.10.0 in /usr/local/lib/python3.7/dist-packages (from pykospacing==0.4) (2.10.0)\n",
            "Requirement already satisfied: argparse>=1.4.0 in /usr/local/lib/python3.7/dist-packages (from pykospacing==0.4) (1.4.0)\n",
            "Requirement already satisfied: tensorboard~=2.4 in /usr/local/lib/python3.7/dist-packages (from tensorflow==2.4.0->pykospacing==0.4) (2.4.1)\n",
            "Requirement already satisfied: wrapt~=1.12.1 in /usr/local/lib/python3.7/dist-packages (from tensorflow==2.4.0->pykospacing==0.4) (1.12.1)\n",
            "Requirement already satisfied: grpcio~=1.32.0 in /usr/local/lib/python3.7/dist-packages (from tensorflow==2.4.0->pykospacing==0.4) (1.32.0)\n",
            "Requirement already satisfied: flatbuffers~=1.12.0 in /usr/local/lib/python3.7/dist-packages (from tensorflow==2.4.0->pykospacing==0.4) (1.12)\n",
            "Requirement already satisfied: opt-einsum~=3.3.0 in /usr/local/lib/python3.7/dist-packages (from tensorflow==2.4.0->pykospacing==0.4) (3.3.0)\n",
            "Requirement already satisfied: protobuf>=3.9.2 in /usr/local/lib/python3.7/dist-packages (from tensorflow==2.4.0->pykospacing==0.4) (3.12.4)\n",
            "Requirement already satisfied: google-pasta~=0.2 in /usr/local/lib/python3.7/dist-packages (from tensorflow==2.4.0->pykospacing==0.4) (0.2.0)\n",
            "Requirement already satisfied: gast==0.3.3 in /usr/local/lib/python3.7/dist-packages (from tensorflow==2.4.0->pykospacing==0.4) (0.3.3)\n",
            "Requirement already satisfied: absl-py~=0.10 in /usr/local/lib/python3.7/dist-packages (from tensorflow==2.4.0->pykospacing==0.4) (0.12.0)\n",
            "Requirement already satisfied: numpy~=1.19.2 in /usr/local/lib/python3.7/dist-packages (from tensorflow==2.4.0->pykospacing==0.4) (1.19.5)\n",
            "Requirement already satisfied: termcolor~=1.1.0 in /usr/local/lib/python3.7/dist-packages (from tensorflow==2.4.0->pykospacing==0.4) (1.1.0)\n",
            "Requirement already satisfied: keras-preprocessing~=1.1.2 in /usr/local/lib/python3.7/dist-packages (from tensorflow==2.4.0->pykospacing==0.4) (1.1.2)\n",
            "Requirement already satisfied: astunparse~=1.6.3 in /usr/local/lib/python3.7/dist-packages (from tensorflow==2.4.0->pykospacing==0.4) (1.6.3)\n",
            "Requirement already satisfied: wheel~=0.35 in /usr/local/lib/python3.7/dist-packages (from tensorflow==2.4.0->pykospacing==0.4) (0.36.2)\n",
            "Requirement already satisfied: typing-extensions~=3.7.4 in /usr/local/lib/python3.7/dist-packages (from tensorflow==2.4.0->pykospacing==0.4) (3.7.4.3)\n",
            "Requirement already satisfied: tensorflow-estimator<2.5.0,>=2.4.0rc0 in /usr/local/lib/python3.7/dist-packages (from tensorflow==2.4.0->pykospacing==0.4) (2.4.0)\n",
            "Requirement already satisfied: six~=1.15.0 in /usr/local/lib/python3.7/dist-packages (from tensorflow==2.4.0->pykospacing==0.4) (1.15.0)\n",
            "Requirement already satisfied: scipy>=0.14 in /usr/local/lib/python3.7/dist-packages (from keras>=2.4.3->pykospacing==0.4) (1.4.1)\n",
            "Requirement already satisfied: pyyaml in /usr/local/lib/python3.7/dist-packages (from keras>=2.4.3->pykospacing==0.4) (3.13)\n",
            "Requirement already satisfied: tensorboard-plugin-wit>=1.6.0 in /usr/local/lib/python3.7/dist-packages (from tensorboard~=2.4->tensorflow==2.4.0->pykospacing==0.4) (1.8.0)\n",
            "Requirement already satisfied: werkzeug>=0.11.15 in /usr/local/lib/python3.7/dist-packages (from tensorboard~=2.4->tensorflow==2.4.0->pykospacing==0.4) (1.0.1)\n",
            "Requirement already satisfied: google-auth-oauthlib<0.5,>=0.4.1 in /usr/local/lib/python3.7/dist-packages (from tensorboard~=2.4->tensorflow==2.4.0->pykospacing==0.4) (0.4.4)\n",
            "Requirement already satisfied: markdown>=2.6.8 in /usr/local/lib/python3.7/dist-packages (from tensorboard~=2.4->tensorflow==2.4.0->pykospacing==0.4) (3.3.4)\n",
            "Requirement already satisfied: requests<3,>=2.21.0 in /usr/local/lib/python3.7/dist-packages (from tensorboard~=2.4->tensorflow==2.4.0->pykospacing==0.4) (2.23.0)\n",
            "Requirement already satisfied: setuptools>=41.0.0 in /usr/local/lib/python3.7/dist-packages (from tensorboard~=2.4->tensorflow==2.4.0->pykospacing==0.4) (56.1.0)\n",
            "Requirement already satisfied: google-auth<2,>=1.6.3 in /usr/local/lib/python3.7/dist-packages (from tensorboard~=2.4->tensorflow==2.4.0->pykospacing==0.4) (1.28.1)\n",
            "Requirement already satisfied: requests-oauthlib>=0.7.0 in /usr/local/lib/python3.7/dist-packages (from google-auth-oauthlib<0.5,>=0.4.1->tensorboard~=2.4->tensorflow==2.4.0->pykospacing==0.4) (1.3.0)\n",
            "Requirement already satisfied: importlib-metadata; python_version < \"3.8\" in /usr/local/lib/python3.7/dist-packages (from markdown>=2.6.8->tensorboard~=2.4->tensorflow==2.4.0->pykospacing==0.4) (3.10.1)\n",
            "Requirement already satisfied: chardet<4,>=3.0.2 in /usr/local/lib/python3.7/dist-packages (from requests<3,>=2.21.0->tensorboard~=2.4->tensorflow==2.4.0->pykospacing==0.4) (3.0.4)\n",
            "Requirement already satisfied: idna<3,>=2.5 in /usr/local/lib/python3.7/dist-packages (from requests<3,>=2.21.0->tensorboard~=2.4->tensorflow==2.4.0->pykospacing==0.4) (2.10)\n",
            "Requirement already satisfied: urllib3!=1.25.0,!=1.25.1,<1.26,>=1.21.1 in /usr/local/lib/python3.7/dist-packages (from requests<3,>=2.21.0->tensorboard~=2.4->tensorflow==2.4.0->pykospacing==0.4) (1.24.3)\n",
            "Requirement already satisfied: certifi>=2017.4.17 in /usr/local/lib/python3.7/dist-packages (from requests<3,>=2.21.0->tensorboard~=2.4->tensorflow==2.4.0->pykospacing==0.4) (2020.12.5)\n",
            "Requirement already satisfied: rsa<5,>=3.1.4; python_version >= \"3.6\" in /usr/local/lib/python3.7/dist-packages (from google-auth<2,>=1.6.3->tensorboard~=2.4->tensorflow==2.4.0->pykospacing==0.4) (4.7.2)\n",
            "Requirement already satisfied: pyasn1-modules>=0.2.1 in /usr/local/lib/python3.7/dist-packages (from google-auth<2,>=1.6.3->tensorboard~=2.4->tensorflow==2.4.0->pykospacing==0.4) (0.2.8)\n",
            "Requirement already satisfied: cachetools<5.0,>=2.0.0 in /usr/local/lib/python3.7/dist-packages (from google-auth<2,>=1.6.3->tensorboard~=2.4->tensorflow==2.4.0->pykospacing==0.4) (4.2.1)\n",
            "Requirement already satisfied: oauthlib>=3.0.0 in /usr/local/lib/python3.7/dist-packages (from requests-oauthlib>=0.7.0->google-auth-oauthlib<0.5,>=0.4.1->tensorboard~=2.4->tensorflow==2.4.0->pykospacing==0.4) (3.1.0)\n",
            "Requirement already satisfied: zipp>=0.5 in /usr/local/lib/python3.7/dist-packages (from importlib-metadata; python_version < \"3.8\"->markdown>=2.6.8->tensorboard~=2.4->tensorflow==2.4.0->pykospacing==0.4) (3.4.1)\n",
            "Requirement already satisfied: pyasn1>=0.1.3 in /usr/local/lib/python3.7/dist-packages (from rsa<5,>=3.1.4; python_version >= \"3.6\"->google-auth<2,>=1.6.3->tensorboard~=2.4->tensorflow==2.4.0->pykospacing==0.4) (0.4.8)\n",
            "Building wheels for collected packages: pykospacing\n",
            "  Building wheel for pykospacing (setup.py) ... \u001b[?25l\u001b[?25hdone\n",
            "  Created wheel for pykospacing: filename=pykospacing-0.4-cp37-none-any.whl size=2255638 sha256=cc0d254cfcb7d7cecc94c135017b030838599fe230183bb82ec15b64d3ba0eed\n",
            "  Stored in directory: /tmp/pip-ephem-wheel-cache-t05hqkj2/wheels/4d/45/58/e26cb2b7f6a063d234158c6fd1e5700f6e15b99d67154340ba\n",
            "Successfully built pykospacing\n"
          ],
          "name": "stdout"
        }
      ]
    },
    {
      "cell_type": "code",
      "metadata": {
        "id": "MM0z0bCAfKlu"
      },
      "source": [
        "from pykospacing import spacing"
      ],
      "execution_count": null,
      "outputs": []
    },
    {
      "cell_type": "code",
      "metadata": {
        "colab": {
          "base_uri": "https://localhost:8080/"
        },
        "id": "bFAaEIWrgi-d",
        "outputId": "7202f1a4-93de-421c-9f61-7ff852a20ff3"
      },
      "source": [
        "from google.colab import drive\n",
        "drive.mount('/content/drive')"
      ],
      "execution_count": null,
      "outputs": [
        {
          "output_type": "stream",
          "text": [
            "Mounted at /content/drive\n"
          ],
          "name": "stdout"
        }
      ]
    },
    {
      "cell_type": "markdown",
      "metadata": {
        "id": "QWxSls3Ylsz5"
      },
      "source": [
        "# 데이터 불러오기 및 전처리"
      ]
    },
    {
      "cell_type": "code",
      "metadata": {
        "id": "wrU0u6INgsTU"
      },
      "source": [
        "#경로 설정\n",
        "PATH = '/content/drive/MyDrive/jejutxt'"
      ],
      "execution_count": null,
      "outputs": []
    },
    {
      "cell_type": "code",
      "metadata": {
        "id": "joWBvopw1GaI"
      },
      "source": [
        "je = []\n",
        "ko = []"
      ],
      "execution_count": null,
      "outputs": []
    },
    {
      "cell_type": "code",
      "metadata": {
        "id": "RVOzwK-O5Nz_"
      },
      "source": [
        "# 데이터 불러오기\n",
        "for name in os.listdir(PATH):\n",
        "  raw = codecs.open(f\"{PATH}/{name}\", 'r', 'utf8').read()\n",
        "  sents = re.findall('[0-9]{6}.+[(][\\S\\s]+?[)][\\n\\r]+', raw) # 제주어-표준어 문장단위 추출\n",
        "  # 페이지에 걸쳐 있는 문장 제외 / \n",
        "  sents = [sent for sent in sents if \"구술\" not in sent and not re.search(r'[\\ue000-\\uffff]', sent) and not re.search('[)][(]', sent) and re.search('[가-힣]+.+[(]', sent)] \n",
        "  je_tmp = [re.search('[가-힣]+.+[(]', sent).group()[:-1] for sent in sents]\n",
        "  je_tmp = [re.sub('[\\d()]', '', sent) for sent in je_tmp]\n",
        "  ko_tmp = [re.search('[(].+[)]', sent, re.S).group()[1:-1] for sent in sents]\n",
        "  je.extend(je_tmp)\n",
        "  ko.extend(ko_tmp)"
      ],
      "execution_count": null,
      "outputs": []
    },
    {
      "cell_type": "code",
      "metadata": {
        "id": "JmPvOSkveodY"
      },
      "source": [
        "# 이상치 데이터 확인\n",
        "koerror = []\n",
        "for sent in ko:\n",
        "  if re.search('[()]',sent):\n",
        "    koerror.append(sent)"
      ],
      "execution_count": null,
      "outputs": []
    },
    {
      "cell_type": "code",
      "metadata": {
        "id": "hwCnIDUHer7V"
      },
      "source": [
        "#이상치 data index 확인\n",
        "error = []\n",
        "for i in koerror:\n",
        "  error.append(ko.index(i))"
      ],
      "execution_count": null,
      "outputs": []
    },
    {
      "cell_type": "code",
      "metadata": {
        "id": "uaH52xHZevKl"
      },
      "source": [
        "# 이상치 data 제거\n",
        "for i in error:\n",
        "  del je[i]\n",
        "  del ko[i]"
      ],
      "execution_count": null,
      "outputs": []
    },
    {
      "cell_type": "code",
      "metadata": {
        "colab": {
          "base_uri": "https://localhost:8080/"
        },
        "id": "1RpSoft_5cVN",
        "outputId": "7364981e-b4a4-4745-966c-079683fc344e"
      },
      "source": [
        "je[:20]"
      ],
      "execution_count": null,
      "outputs": [
        {
          "output_type": "execute_result",
          "data": {
            "text/plain": [
              "['동부락, 이 마을, 신촌 마을이 그냥 신촌? 여기 동부락이우꽈?',\n",
              " '이디 동동.',\n",
              " '동동? 동동예. 그 이 마을이 언제 형성뒌 건 알아지쿠과?',\n",
              " '몰라. 난.',\n",
              " '이 마을의 형성?',\n",
              " '옛날엔 숙군이옌 헤서 숙군. 숙군인디 이젠 신촌이옌 옛날엔 숙군.',\n",
              " '숙군이예?',\n",
              " '응.',\n",
              " '숙군이?',\n",
              " '신촌이옌 안헤영 숙군이렌 헷엇다고예?',\n",
              " '숙군이라고 이 마을이 숙어지니까 숙군.',\n",
              " '아아, 마을이 숙어지니까.',\n",
              " '이 신촌이 어디가도 보이질 안허여.',\n",
              " '아아.',\n",
              " '숙어지니까 숙군? 그믄 숙군이엇을 때는 조천에 들어가낫수과?',\n",
              " '조천읍에.',\n",
              " '조천읍 숙군리?',\n",
              " '조천 면 숙군리? 숙군리?',\n",
              " '숙군.',\n",
              " '숙군.']"
            ]
          },
          "metadata": {
            "tags": []
          },
          "execution_count": 84
        }
      ]
    },
    {
      "cell_type": "code",
      "metadata": {
        "id": "IUF9Xe3ZWJaJ",
        "colab": {
          "base_uri": "https://localhost:8080/"
        },
        "outputId": "0530fdbe-b445-4b93-a085-92400e2837a9"
      },
      "source": [
        "ko[:20]"
      ],
      "execution_count": null,
      "outputs": [
        {
          "output_type": "execute_result",
          "data": {
            "text/plain": [
              "['동부락,\\n이 마을, 신촌 마을이 그냥 신촌? 여기 동부락입니까?',\n",
              " '여기 동동.',\n",
              " '동동? 동동이요.\\n그 이 마을이 언제 형성된 건 알아지겠습니까?',\n",
              " '몰라. 나는.',\n",
              " '이 마을의 형성?',\n",
              " '옛날\\n엔 ‘숙군’이라고 해서 ‘숙군’. ‘숙군’인데 이젠 신촌이라고 옛날엔 ‘숙군’.',\n",
              " '‘숙군’이요?',\n",
              " '응.',\n",
              " '‘숙군’이?',\n",
              " '신촌이라고 안하고 ‘숙군’이라고 했었다\\n고요?',\n",
              " '‘숙군’이라고 이 마을이 숙어지니\\n까 ‘숙군’.',\n",
              " '아아, 마을이 숙어지니까.',\n",
              " '이 신촌이 어디가도 보이질 않아.',\n",
              " '아아.',\n",
              " '숙어지니\\n까 ‘숙군’? 그러면 ‘숙군’이었을 때는 조천에 들어갔었습니까?',\n",
              " '조천읍에.',\n",
              " '조천읍 숙군리?',\n",
              " '조천 면 ‘숙군리’? ‘숙군리’?',\n",
              " '‘숙군’',\n",
              " '‘숙군’.']"
            ]
          },
          "metadata": {
            "tags": []
          },
          "execution_count": 85
        }
      ]
    },
    {
      "cell_type": "code",
      "metadata": {
        "colab": {
          "base_uri": "https://localhost:8080/"
        },
        "id": "vmnR_7CesijV",
        "outputId": "876f4aa4-a6eb-4867-c77a-680d47d2146d"
      },
      "source": [
        "print(len(je))\n",
        "print(len(ko))"
      ],
      "execution_count": null,
      "outputs": [
        {
          "output_type": "stream",
          "text": [
            "94044\n",
            "94044\n"
          ],
          "name": "stdout"
        }
      ]
    },
    {
      "cell_type": "code",
      "metadata": {
        "id": "COm7o84IDbpT"
      },
      "source": [
        "# 공백문자 a로 변환\n",
        "ko2 = [re.sub('[\\n\\r\\t]','a',sent) for sent in ko]"
      ],
      "execution_count": null,
      "outputs": []
    },
    {
      "cell_type": "code",
      "metadata": {
        "colab": {
          "base_uri": "https://localhost:8080/"
        },
        "id": "diswr_6V21Yc",
        "outputId": "991d2933-eb2d-409c-ec76-caccd4933a81"
      },
      "source": [
        "ko2[:10]"
      ],
      "execution_count": null,
      "outputs": [
        {
          "output_type": "execute_result",
          "data": {
            "text/plain": [
              "['동부락,a이 마을, 신촌 마을이 그냥 신촌? 여기 동부락입니까?',\n",
              " '여기 동동.',\n",
              " '동동? 동동이요.a그 이 마을이 언제 형성된 건 알아지겠습니까?',\n",
              " '몰라. 나는.',\n",
              " '이 마을의 형성?',\n",
              " '옛날a엔 ‘숙군’이라고 해서 ‘숙군’. ‘숙군’인데 이젠 신촌이라고 옛날엔 ‘숙군’.',\n",
              " '‘숙군’이요?',\n",
              " '응.',\n",
              " '‘숙군’이?',\n",
              " '신촌이라고 안하고 ‘숙군’이라고 했었다a고요?']"
            ]
          },
          "metadata": {
            "tags": []
          },
          "execution_count": 88
        }
      ]
    },
    {
      "cell_type": "code",
      "metadata": {
        "id": "5hanrKWoEAvQ"
      },
      "source": [
        "# a가 포함되지 않은 표준어\n",
        "ko4 = [sent for sent in ko2 if not re.search('[가-힣]*[a][가-힣]*',sent) ]"
      ],
      "execution_count": null,
      "outputs": []
    },
    {
      "cell_type": "code",
      "metadata": {
        "colab": {
          "base_uri": "https://localhost:8080/"
        },
        "id": "RK-YJvG_EEyY",
        "outputId": "bae24d13-e5f4-47b8-c242-159241f7d83c"
      },
      "source": [
        "ko4[:10]"
      ],
      "execution_count": null,
      "outputs": [
        {
          "output_type": "execute_result",
          "data": {
            "text/plain": [
              "['여기 동동.',\n",
              " '몰라. 나는.',\n",
              " '이 마을의 형성?',\n",
              " '‘숙군’이요?',\n",
              " '응.',\n",
              " '‘숙군’이?',\n",
              " '아아, 마을이 숙어지니까.',\n",
              " '이 신촌이 어디가도 보이질 않아.',\n",
              " '아아.',\n",
              " '조천읍에.']"
            ]
          },
          "metadata": {
            "tags": []
          },
          "execution_count": 90
        }
      ]
    },
    {
      "cell_type": "code",
      "metadata": {
        "colab": {
          "base_uri": "https://localhost:8080/"
        },
        "id": "2ynfoqH9ET6X",
        "outputId": "731a64e7-e6ba-44aa-c921-4422a7f0f611"
      },
      "source": [
        "# 표준어 단어 사전 만들기\n",
        "ko_word = word_tokenize(str(ko4))\n",
        "ko_word[:10]"
      ],
      "execution_count": null,
      "outputs": [
        {
          "output_type": "execute_result",
          "data": {
            "text/plain": [
              "['[', \"'여기\", '동동', '.', \"'\", ',', \"'몰라\", '.', '나는', '.']"
            ]
          },
          "metadata": {
            "tags": []
          },
          "execution_count": 91
        }
      ]
    },
    {
      "cell_type": "code",
      "metadata": {
        "id": "pns3TR77EqVr"
      },
      "source": [
        "#한국어를 제외한 문자열 제외\n",
        "ko_word = [sent for sent in ko_word if not re.match('[^가-힣]',sent)]"
      ],
      "execution_count": null,
      "outputs": []
    },
    {
      "cell_type": "code",
      "metadata": {
        "colab": {
          "base_uri": "https://localhost:8080/"
        },
        "id": "ESsmtYZQE2Ro",
        "outputId": "111c33de-c212-4e45-c469-3c20bbebc8f6"
      },
      "source": [
        "ko_word[:20]"
      ],
      "execution_count": null,
      "outputs": [
        {
          "output_type": "execute_result",
          "data": {
            "text/plain": [
              "['동동',\n",
              " '나는',\n",
              " '마을의',\n",
              " '형성',\n",
              " '숙군',\n",
              " '이요',\n",
              " '숙군',\n",
              " '이',\n",
              " '마을이',\n",
              " '숙어지니까',\n",
              " '신촌이',\n",
              " '어디가도',\n",
              " '보이질',\n",
              " '않아',\n",
              " '숙군리',\n",
              " '면',\n",
              " '숙군리',\n",
              " '숙군리',\n",
              " '숙군',\n",
              " '숙군']"
            ]
          },
          "metadata": {
            "tags": []
          },
          "execution_count": 93
        }
      ]
    },
    {
      "cell_type": "code",
      "metadata": {
        "id": "kVBuXgX-EPAm",
        "colab": {
          "base_uri": "https://localhost:8080/"
        },
        "outputId": "f4cda97c-aa24-41cf-db8f-d48e171d123a"
      },
      "source": [
        "# 표준어 단어 사전\n",
        "kovoca = set(ko_word)\n",
        "len(kovoca)"
      ],
      "execution_count": null,
      "outputs": [
        {
          "output_type": "execute_result",
          "data": {
            "text/plain": [
              "21982"
            ]
          },
          "metadata": {
            "tags": []
          },
          "execution_count": 94
        }
      ]
    },
    {
      "cell_type": "code",
      "metadata": {
        "id": "qP2alPb9_O3Q"
      },
      "source": [
        "# a 붙어있는 데이터 전처리\n",
        "kof = []\n",
        "for sent in ko2:\n",
        "  if re.search('[가-힣]*[a]+[가-힣]*',sent):\n",
        "    a = re.search('[가-힣]*[a]+[가-힣]*',sent).group()\n",
        "    b = re.sub('a','',a)\n",
        "    if b in kovoca: #ko단어 사전에 있을 경우 단어 사전의 단어로 변환\n",
        "      c = re.sub('a','',sent)\n",
        "      kof.append(c)\n",
        "    else: # ko단어 사전에 없는 경우 spacing 단어 사전의 단어로 변환\n",
        "      d = re.sub('a','',sent)\n",
        "      kof.append(spacing(d)) \n",
        "  else:\n",
        "    kof.append(sent)  "
      ],
      "execution_count": null,
      "outputs": []
    },
    {
      "cell_type": "code",
      "metadata": {
        "colab": {
          "base_uri": "https://localhost:8080/"
        },
        "id": "fLNtWdOjGqR_",
        "outputId": "eecee4b7-4c6a-4652-957d-c84e0a081fb9"
      },
      "source": [
        "kof[:20]"
      ],
      "execution_count": null,
      "outputs": [
        {
          "output_type": "execute_result",
          "data": {
            "text/plain": [
              "['동부락,이 마을, 신촌 마을이 그냥 신촌? 여기 동부락입니까?',\n",
              " '여기 동동.',\n",
              " '동동? 동동이요.그 이 마을이 언제 형성된 건 알아지겠습니까?',\n",
              " '몰라. 나는.',\n",
              " '이 마을의 형성?',\n",
              " '옛날엔 ‘숙군’이라고 해서 ‘숙군’. ‘숙군’인데 이젠 신촌이라고 옛날엔 ‘숙군’.',\n",
              " '‘숙군’이요?',\n",
              " '응.',\n",
              " '‘숙군’이?',\n",
              " '신촌이라고 안하고 ‘숙군’이라고 했었다고요?',\n",
              " '‘숙군’이라고 이 마을이 숙어지니까 ‘숙군’.',\n",
              " '아아, 마을이 숙어지니까.',\n",
              " '이 신촌이 어디가도 보이질 않아.',\n",
              " '아아.',\n",
              " '숙어지니까 ‘숙군’? 그러면 ‘숙군’이었을 때는 조천에 들어갔었습니까?',\n",
              " '조천읍에.',\n",
              " '조천읍 숙군리?',\n",
              " '조천 면 ‘숙군리’? ‘숙군리’?',\n",
              " '‘숙군’',\n",
              " '‘숙군’.']"
            ]
          },
          "metadata": {
            "tags": []
          },
          "execution_count": 101
        }
      ]
    },
    {
      "cell_type": "code",
      "metadata": {
        "colab": {
          "base_uri": "https://localhost:8080/"
        },
        "id": "o0obf2UAeeuq",
        "outputId": "397e4990-d192-465f-ac2a-f8408f53a9d7"
      },
      "source": [
        "len(kof)"
      ],
      "execution_count": null,
      "outputs": [
        {
          "output_type": "execute_result",
          "data": {
            "text/plain": [
              "94044"
            ]
          },
          "metadata": {
            "tags": []
          },
          "execution_count": 100
        }
      ]
    },
    {
      "cell_type": "code",
      "metadata": {
        "id": "Zsqzvtq6mMY2"
      },
      "source": [
        ""
      ],
      "execution_count": null,
      "outputs": []
    }
  ]
}