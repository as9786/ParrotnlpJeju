{
  "nbformat": 4,
  "nbformat_minor": 0,
  "metadata": {
    "colab": {
      "name": "97.72%(LSTM+CNN).ipynb",
      "provenance": [],
      "collapsed_sections": [],
      "mount_file_id": "1DKXivxJF6gXoRgH9w7Zh6HBjlb2V3HKl",
      "authorship_tag": "ABX9TyOsxgloD4VhqCizTZXXDELP",
      "include_colab_link": true
    },
    "kernelspec": {
      "name": "python3",
      "display_name": "Python 3"
    },
    "language_info": {
      "name": "python"
    },
    "accelerator": "GPU"
  },
  "cells": [
    {
      "cell_type": "markdown",
      "metadata": {
        "id": "view-in-github",
        "colab_type": "text"
      },
      "source": [
        "<a href=\"https://colab.research.google.com/github/as9786/ParrotnlpJeju/blob/main/97_72_(LSTM%2BCNN).ipynb\" target=\"_parent\"><img src=\"https://colab.research.google.com/assets/colab-badge.svg\" alt=\"Open In Colab\"/></a>"
      ]
    },
    {
      "cell_type": "markdown",
      "metadata": {
        "id": "m43YWidTzF_x"
      },
      "source": [
        "# 사전작업"
      ]
    },
    {
      "cell_type": "code",
      "metadata": {
        "id": "ZtpG5ZdlysBO"
      },
      "source": [
        "#필요한 모듈 불러오기\n",
        "import pandas as pd  \n",
        "\n",
        "from keras.layers import Dense,Input,Bidirectional,Conv1D,LSTM\n",
        "from keras.layers import Embedding,GlobalMaxPooling1D, GlobalAveragePooling1D, concatenate, SpatialDropout1D, Flatten\n",
        "from keras.preprocessing import text, sequence\n",
        "from keras import initializers, regularizers, constraints, optimizers, layers, callbacks\n",
        "from keras.callbacks import EarlyStopping,ModelCheckpoint\n",
        "from keras.models import Model\n",
        "from keras.optimizers import Adam, SGD\n",
        "\n",
        "from sklearn.model_selection import train_test_split \n",
        "\n",
        "import spacy"
      ],
      "execution_count": null,
      "outputs": []
    },
    {
      "cell_type": "code",
      "metadata": {
        "id": "rzmC3-lTzcxX"
      },
      "source": [
        "#데이터\n",
        "train_file = pd.read_csv('/content/drive/MyDrive/train.csv')\n",
        "test_file = pd.read_csv('/content/drive/MyDrive/test.csv')\n",
        "\n",
        "X_train = train_file[\"comment_text\"].str.lower()\n",
        "X_test = test_file[\"comment_text\"].str.lower()\n",
        "\n",
        "y_train = train_file[[\"toxic\", \"severe_toxic\", \"obscene\", \"threat\", \"insult\", \"identity_hate\"]].values"
      ],
      "execution_count": null,
      "outputs": []
    },
    {
      "cell_type": "code",
      "metadata": {
        "colab": {
          "base_uri": "https://localhost:8080/"
        },
        "id": "QbFoa8-Ezq2F",
        "outputId": "1978c8da-26da-45df-ac26-aa5be6a92ece"
      },
      "source": [
        "print(\"X train shape : \", X_train.shape)\n",
        "print(\"X test shape : \", X_test.shape)\n",
        "print(\"y train shape : \", y_train.shape)"
      ],
      "execution_count": null,
      "outputs": [
        {
          "output_type": "stream",
          "text": [
            "X train shape :  (159571,)\n",
            "X test shape :  (153164,)\n",
            "y train shape :  (159571, 6)\n"
          ],
          "name": "stdout"
        }
      ]
    },
    {
      "cell_type": "markdown",
      "metadata": {
        "id": "QKa7Hs4K2mRV"
      },
      "source": [
        "# 토큰화 작업하기"
      ]
    },
    {
      "cell_type": "code",
      "metadata": {
        "id": "sJYj7QXw2H1l"
      },
      "source": [
        "max_features=150000\n",
        "maxlen=200\n",
        "embed_size=300\n",
        "\n",
        "tok=text.Tokenizer(num_words=max_features,lower=True)\n",
        "tok.fit_on_texts(list(X_train)+list(X_test))\n",
        "X_train=tok.texts_to_sequences(X_train)\n",
        "X_test=tok.texts_to_sequences(X_test)\n",
        "x_train=sequence.pad_sequences(X_train,maxlen=maxlen)\n",
        "x_test=sequence.pad_sequences(X_test,maxlen=maxlen)"
      ],
      "execution_count": null,
      "outputs": []
    },
    {
      "cell_type": "markdown",
      "metadata": {
        "id": "bdUAfao7iLNh"
      },
      "source": [
        "# 모델 구성하기"
      ]
    },
    {
      "cell_type": "code",
      "metadata": {
        "colab": {
          "base_uri": "https://localhost:8080/"
        },
        "id": "xXIPf6w60zes",
        "outputId": "00ef5eca-63b2-4744-a22e-c5d06863a064"
      },
      "source": [
        "input = Input(shape=(maxlen, )) \n",
        "layer = Embedding(max_features, embed_size)(input)\n",
        "layer = SpatialDropout1D(0.1)(layer)\n",
        "layer = Bidirectional(LSTM(200, return_sequences=True,dropout=0.25,recurrent_dropout=0.25,implementation=1))(layer)\n",
        "layer = Conv1D(128, kernel_size = 3)(layer)   \n",
        "avg_pool = GlobalAveragePooling1D()(layer)\n",
        "max_pool = GlobalMaxPooling1D()(layer)\n",
        "layer = concatenate([avg_pool, max_pool])\n",
        "layer= Dense(6, activation=\"sigmoid\")(layer)\n",
        "model = Model(inputs = input, outputs = layer)  \n",
        "model.summary()\n",
        "model.compile(loss='binary_crossentropy',optimizer='adam',metrics=['accuracy'])"
      ],
      "execution_count": null,
      "outputs": [
        {
          "output_type": "stream",
          "text": [
            "WARNING:tensorflow:Layer lstm will not use cuDNN kernel since it doesn't meet the cuDNN kernel criteria. It will use generic GPU kernel as fallback when running on GPU\n",
            "WARNING:tensorflow:Layer lstm will not use cuDNN kernel since it doesn't meet the cuDNN kernel criteria. It will use generic GPU kernel as fallback when running on GPU\n",
            "WARNING:tensorflow:Layer lstm will not use cuDNN kernel since it doesn't meet the cuDNN kernel criteria. It will use generic GPU kernel as fallback when running on GPU\n",
            "Model: \"model\"\n",
            "__________________________________________________________________________________________________\n",
            "Layer (type)                    Output Shape         Param #     Connected to                     \n",
            "==================================================================================================\n",
            "input_1 (InputLayer)            [(None, 200)]        0                                            \n",
            "__________________________________________________________________________________________________\n",
            "embedding (Embedding)           (None, 200, 300)     45000000    input_1[0][0]                    \n",
            "__________________________________________________________________________________________________\n",
            "spatial_dropout1d (SpatialDropo (None, 200, 300)     0           embedding[0][0]                  \n",
            "__________________________________________________________________________________________________\n",
            "bidirectional (Bidirectional)   (None, 200, 400)     801600      spatial_dropout1d[0][0]          \n",
            "__________________________________________________________________________________________________\n",
            "conv1d (Conv1D)                 (None, 198, 128)     153728      bidirectional[0][0]              \n",
            "__________________________________________________________________________________________________\n",
            "global_average_pooling1d (Globa (None, 128)          0           conv1d[0][0]                     \n",
            "__________________________________________________________________________________________________\n",
            "global_max_pooling1d (GlobalMax (None, 128)          0           conv1d[0][0]                     \n",
            "__________________________________________________________________________________________________\n",
            "concatenate (Concatenate)       (None, 256)          0           global_average_pooling1d[0][0]   \n",
            "                                                                 global_max_pooling1d[0][0]       \n",
            "__________________________________________________________________________________________________\n",
            "flatten (Flatten)               (None, 256)          0           concatenate[0][0]                \n",
            "__________________________________________________________________________________________________\n",
            "dense (Dense)                   (None, 6)            1542        flatten[0][0]                    \n",
            "==================================================================================================\n",
            "Total params: 45,956,870\n",
            "Trainable params: 45,956,870\n",
            "Non-trainable params: 0\n",
            "__________________________________________________________________________________________________\n"
          ],
          "name": "stdout"
        }
      ]
    },
    {
      "cell_type": "code",
      "metadata": {
        "colab": {
          "base_uri": "https://localhost:8080/"
        },
        "id": "igNPd9BC3F6i",
        "outputId": "53bfd095-9c99-4f45-be56-4fbc43bbe95e"
      },
      "source": [
        "hist = model.fit(x_train,y_train,batch_size=32, epochs=1, validation_split = 0.2,verbose=1)"
      ],
      "execution_count": null,
      "outputs": [
        {
          "output_type": "stream",
          "text": [
            "3990/3990 [==============================] - 9112s 2s/step - loss: 0.0513 - accuracy: 0.9508 - val_loss: 0.0458 - val_accuracy: 0.9832\n"
          ],
          "name": "stdout"
        }
      ]
    },
    {
      "cell_type": "code",
      "metadata": {
        "id": "HtLoxeP83KIi"
      },
      "source": [
        "model.save('/content/drive/MyDrive/toxic1_model2.h5')"
      ],
      "execution_count": null,
      "outputs": []
    },
    {
      "cell_type": "code",
      "metadata": {
        "colab": {
          "base_uri": "https://localhost:8080/"
        },
        "id": "ufWWsleN7W2X",
        "outputId": "4d915c6d-335f-4417-9bdc-e4aad1cc9948"
      },
      "source": [
        "y_pred = model.predict(x_test,batch_size=1024,verbose=1)"
      ],
      "execution_count": null,
      "outputs": [
        {
          "output_type": "stream",
          "text": [
            "150/150 [==============================] - 37s 242ms/step\n"
          ],
          "name": "stdout"
        }
      ]
    },
    {
      "cell_type": "code",
      "metadata": {
        "id": "HOXKB1Zq7iyi"
      },
      "source": [
        "submission = pd.read_csv('/content/drive/MyDrive/sample_submission.csv')\n",
        "submission[[\"toxic\", \"severe_toxic\", \"obscene\", \"threat\", \"insult\", \"identity_hate\"]] = y_pred\n",
        "submission.to_csv('/content/drive/MyDrive/submission2.csv', index=False)"
      ],
      "execution_count": null,
      "outputs": []
    },
    {
      "cell_type": "code",
      "metadata": {
        "id": "ZJK06Xs1M6qS"
      },
      "source": [
        "import matplotlib.pyplot as plt\n",
        "def acc_loss_plot(hist):\n",
        "    fig, loss_ax = plt.subplots()\n",
        "    acc_ax = loss_ax.twinx()\n",
        "\n",
        "    loss_ax.plot(hist.history['loss'], 'y', label='train loss')\n",
        "    loss_ax.plot(hist.history['val_loss'], 'r', label='val loss')\n",
        "    loss_ax.set_xlabel('epoch')\n",
        "    loss_ax.set_ylabel('loss')\n",
        "    loss_ax.legend(loc = 'upper left')\n",
        "\n",
        "    acc_ax.plot(hist.history['accuracy'], 'b', label='train acc')\n",
        "    acc_ax.plot(hist.history['val_accuracy'], 'g', label='val acc')\n",
        "    acc_ax.set_ylabel('accuracy')\n",
        "    acc_ax.legend(loc='upper right')\n",
        "\n",
        "    plt.show()"
      ],
      "execution_count": null,
      "outputs": []
    },
    {
      "cell_type": "code",
      "metadata": {
        "colab": {
          "base_uri": "https://localhost:8080/",
          "height": 279
        },
        "id": "E9ajTRiiM737",
        "outputId": "04c2235e-6ce2-4be1-df59-31d6d406af1e"
      },
      "source": [
        "acc_loss_plot(hist)"
      ],
      "execution_count": null,
      "outputs": [
        {
          "output_type": "display_data",
          "data": {
            "image/png": "[encoded data removed]",
            "text/plain": [
              "<Figure size 432x288 with 2 Axes>"
            ]
          },
          "metadata": {
            "tags": [],
            "needs_background": "light"
          }
        }
      ]
    },
    {
      "cell_type": "code",
      "metadata": {
        "id": "8v10UffLx6h9"
      },
      "source": [
        ""
      ],
      "execution_count": null,
      "outputs": []
    }
  ]
}